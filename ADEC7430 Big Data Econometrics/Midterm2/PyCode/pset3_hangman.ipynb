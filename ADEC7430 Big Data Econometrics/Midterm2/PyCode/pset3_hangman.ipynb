{
 "cells": [
  {
   "cell_type": "markdown",
   "metadata": {},
   "source": [
    "## def isWordGuessed(secretWord, lettersGuessed)"
   ]
  },
  {
   "cell_type": "code",
   "execution_count": 20,
   "metadata": {},
   "outputs": [
    {
     "name": "stdout",
     "output_type": "stream",
     "text": [
      "['a', 'e', 'p', 'l']\n"
     ]
    }
   ],
   "source": [
    "a = 'apple'\n",
    "se = set()\n",
    "for i in a:\n",
    "    se.add(i)\n",
    "\n",
    "print([i for i in se])"
   ]
  },
  {
   "cell_type": "code",
   "execution_count": 32,
   "metadata": {},
   "outputs": [],
   "source": [
    "def isWordGuessed(secretWord, lettersGuessed):\n",
    "    '''\n",
    "    secretWord: string, the word the user is guessing\n",
    "    lettersGuessed: list, what letters have been guessed so far\n",
    "    returns: boolean, True if all the letters of secretWord are in lettersGuessed;\n",
    "      False otherwise\n",
    "    '''\n",
    "    check = False\n",
    "    t = set()\n",
    "    for s in secretWord: \n",
    "        t.add(s)\n",
    "    t = list(t)\n",
    "    for i in range(len(t)): \n",
    "        if t[i] in lettersGuessed: \n",
    "            check = True\n",
    "        else: \n",
    "            check = False\n",
    "    return check"
   ]
  },
  {
   "cell_type": "code",
   "execution_count": 45,
   "metadata": {
    "scrolled": false
   },
   "outputs": [
    {
     "data": {
      "text/plain": [
       "False"
      ]
     },
     "execution_count": 45,
     "metadata": {},
     "output_type": "execute_result"
    }
   ],
   "source": [
    "isWordGuessed('apple', ['a', 'e', 'i', 'k', 'p', 'r', 's'])"
   ]
  },
  {
   "cell_type": "code",
   "execution_count": 46,
   "metadata": {},
   "outputs": [
    {
     "data": {
      "text/plain": [
       "False"
      ]
     },
     "execution_count": 46,
     "metadata": {},
     "output_type": "execute_result"
    }
   ],
   "source": [
    "isWordGuessed('mangosteen', ['l', 'x', 'm', 'v', 'f', 'b', 'n', 'o', 'a', 'w'])"
   ]
  },
  {
   "cell_type": "code",
   "execution_count": 47,
   "metadata": {},
   "outputs": [
    {
     "data": {
      "text/plain": [
       "True"
      ]
     },
     "execution_count": 47,
     "metadata": {},
     "output_type": "execute_result"
    }
   ],
   "source": [
    "isWordGuessed('carrot', ['z', 'x', 'q', 'c', 'a', 'r', 'r', 'o', 't'])"
   ]
  },
  {
   "cell_type": "code",
   "execution_count": 44,
   "metadata": {},
   "outputs": [],
   "source": [
    "def isWordGuessed(secretWord, lettersGuessed):\n",
    "    '''\n",
    "    secretWord: string, the word the user is guessing\n",
    "    lettersGuessed: list, what letters have been guessed so far\n",
    "    returns: boolean, True if all the letters of secretWord are in lettersGuessed;\n",
    "      False otherwise\n",
    "    '''\n",
    "    check = False\n",
    "    for s in secretWord: \n",
    "        if s in lettersGuessed: \n",
    "            check = True \n",
    "        else: \n",
    "            check = False\n",
    "            break\n",
    "    return check"
   ]
  },
  {
   "cell_type": "code",
   "execution_count": null,
   "metadata": {},
   "outputs": [],
   "source": [
    "[a[i] for i in range(len(a))] == [i for i in a]"
   ]
  },
  {
   "cell_type": "markdown",
   "metadata": {},
   "source": [
    "## def getGuessedWord()"
   ]
  },
  {
   "cell_type": "code",
   "execution_count": 2,
   "metadata": {},
   "outputs": [],
   "source": [
    "def getGuessedWord(secretWord, lettersGuessed):\n",
    "    '''\n",
    "    secretWord: string, the word the user is guessing\n",
    "    lettersGuessed: list, what letters have been guessed so far\n",
    "    returns: string, comprised of letters and underscores that represents\n",
    "      what letters in secretWord have been guessed so far.\n",
    "    '''\n",
    "    guess = []\n",
    "    for i in range(len(secretWord)): \n",
    "        if secretWord[i] in lettersGuessed: \n",
    "            guess.append(secretWord[i])\n",
    "        else: \n",
    "            guess.append('_')\n",
    "    return guess"
   ]
  },
  {
   "cell_type": "code",
   "execution_count": null,
   "metadata": {},
   "outputs": [],
   "source": [
    "def getGuessedWord(secretWord, lettersGuessed):\n",
    "    '''\n",
    "    secretWord: string, the word the user is guessing\n",
    "    lettersGuessed: list, what letters have been guessed so far\n",
    "    returns: string, comprised of letters and underscores that represents\n",
    "      what letters in secretWord have been guessed so far.\n",
    "    '''\n",
    "    guess = ''\n",
    "    for i in secretWord: \n",
    "        if i in lettersGuessed: \n",
    "            guess += i\n",
    "        else: \n",
    "            guess += '_'\n",
    "    return guess"
   ]
  },
  {
   "cell_type": "code",
   "execution_count": null,
   "metadata": {},
   "outputs": [],
   "source": [
    "getGuessedWord('apple', ['e', 'i', 'k', 'p', 'r', 's'])"
   ]
  },
  {
   "cell_type": "code",
   "execution_count": null,
   "metadata": {},
   "outputs": [],
   "source": [
    "import string \n",
    "len(string.ascii_lowercase)"
   ]
  },
  {
   "cell_type": "markdown",
   "metadata": {},
   "source": [
    "## def getAvailableLetters"
   ]
  },
  {
   "cell_type": "code",
   "execution_count": 3,
   "metadata": {},
   "outputs": [],
   "source": [
    "def getAvailableLetters(lettersGuessed):\n",
    "    '''\n",
    "    lettersGuessed: list, what letters have been guessed so far\n",
    "    returns: string, comprised of letters that represents what letters have not\n",
    "      yet been guessed.\n",
    "    '''\n",
    "    import string \n",
    "    all = set(string.ascii_lowercase)\n",
    "    t = set()\n",
    "    for i in lettersGuessed: \n",
    "        t.add(i)\n",
    "    output = ''.join(sorted(all.difference(t)))\n",
    "    return output "
   ]
  },
  {
   "cell_type": "code",
   "execution_count": null,
   "metadata": {},
   "outputs": [],
   "source": [
    "def getAvailableLetters2(lettersGuessed):\n",
    "    '''\n",
    "    lettersGuessed: list, what letters have been guessed so far\n",
    "    returns: string, comprised of letters that represents what letters have not\n",
    "      yet been guessed.\n",
    "    '''\n",
    "    output = ''\n",
    "    for i in range(len(string.ascii_lowercase)):\n",
    "        if string.ascii_lowercase[i] in lettersGuessed:\n",
    "            output += ''\n",
    "        else:\n",
    "            output += string.ascii_lowercase[i]\n",
    "    return output"
   ]
  },
  {
   "cell_type": "code",
   "execution_count": null,
   "metadata": {},
   "outputs": [],
   "source": [
    "timeit(getAvailableLetters(['e', 'i', 'k', 'p', 'r', 's']))"
   ]
  },
  {
   "cell_type": "code",
   "execution_count": null,
   "metadata": {
    "scrolled": true
   },
   "outputs": [],
   "source": [
    "timeit(getAvailableLetters2(['e', 'i', 'k', 'p', 'r', 's']))"
   ]
  },
  {
   "cell_type": "markdown",
   "metadata": {},
   "source": [
    "## def all"
   ]
  },
  {
   "cell_type": "code",
   "execution_count": 4,
   "metadata": {},
   "outputs": [],
   "source": [
    "import random\n",
    "import string\n",
    "\n",
    "WORDLIST_FILENAME = \"words.txt\"\n",
    "\n",
    "def loadWords():\n",
    "    \"\"\"\n",
    "    Returns a list of valid words. Words are strings of lowercase letters.\n",
    "    \n",
    "    Depending on the size of the word list, this function may\n",
    "    take a while to finish.\n",
    "    \"\"\"\n",
    "    print(\"Loading word list from file...\")\n",
    "    # inFile: file\n",
    "    inFile = open(WORDLIST_FILENAME, 'r', 0)\n",
    "    # line: string\n",
    "    line = inFile.readline()\n",
    "    # wordlist: list of strings\n",
    "    wordlist = string.split(line)\n",
    "    print(\"  \", len(wordlist), \"words loaded.\")\n",
    "    return wordlist\n",
    "\n",
    "def chooseWord(wordlist):\n",
    "    \"\"\"\n",
    "    wordlist (list): list of words (strings)\n",
    "    Returns a word from wordlist at random\n",
    "    \"\"\"\n",
    "    return random.choice(wordlist)\n",
    "\n",
    "# end of helper code\n",
    "# -----------------------------------"
   ]
  },
  {
   "cell_type": "code",
   "execution_count": 14,
   "metadata": {},
   "outputs": [
    {
     "name": "stdout",
     "output_type": "stream",
     "text": [
      "Welcome to the game Hangman! \n",
      "I am thinking of a word that is 5 letters long.\n",
      "-----------\n",
      "You have 8 guesses left. \n",
      "Available letters:abcdefghijklmnopqrstuvwxyz\n",
      "Please guess a letter: a\n"
     ]
    },
    {
     "ename": "TypeError",
     "evalue": "can only concatenate str (not \"list\") to str",
     "output_type": "error",
     "traceback": [
      "\u001B[0;31m---------------------------------------------------------------------------\u001B[0m",
      "\u001B[0;31mTypeError\u001B[0m                                 Traceback (most recent call last)",
      "\u001B[0;32m<ipython-input-14-5ffa1b824c91>\u001B[0m in \u001B[0;36m<module>\u001B[0;34m\u001B[0m\n\u001B[1;32m     22\u001B[0m     \u001B[0;32melse\u001B[0m\u001B[0;34m:\u001B[0m\u001B[0;34m\u001B[0m\u001B[0;34m\u001B[0m\u001B[0m\n\u001B[1;32m     23\u001B[0m         print(\"Oops! That letter is not in my word: \" + \n\u001B[0;32m---> 24\u001B[0;31m              getGuessedWord(secretWord, lettersGuessed))\n\u001B[0m\u001B[1;32m     25\u001B[0m     \u001B[0mprint\u001B[0m\u001B[0;34m(\u001B[0m\u001B[0mbreakline\u001B[0m\u001B[0;34m)\u001B[0m\u001B[0;34m\u001B[0m\u001B[0;34m\u001B[0m\u001B[0m\n\u001B[1;32m     26\u001B[0m \u001B[0;34m\u001B[0m\u001B[0m\n",
      "\u001B[0;31mTypeError\u001B[0m: can only concatenate str (not \"list\") to str"
     ]
    }
   ],
   "source": [
    "    secretWord = 'apple'\n",
    "    MAX_GUESS = 8 \n",
    "    mistakesMade = 0 \n",
    "    breakline = \"-----------\"\n",
    "    \n",
    "    print(\"Welcome to the game Hangman! \\nI am thinking of a word that is \" + \n",
    "    str(len(secretWord)) + \" letters long.\") \n",
    "    print(breakline)\n",
    "    \n",
    "    # start the guessing process \n",
    "    guess = \"\" \n",
    "    while mistakesMade < MAX_GUESS: \n",
    "        availableLetters = getAvailableLetters(guess)\n",
    "        print(\"You have \" + str(int(MAX_GUESS - mistakesMade)) \n",
    "              + \" guesses left. \\nAvailable letters:\" + availableLetters)\n",
    "        lettersGuessed = input(\"Please guess a letter: \")\n",
    "        lettersGuessed = lettersGuessed.lower()\n",
    "        \n",
    "        # evaluate whether a good or bad guess \n",
    "        if isWordGuessed(secretWord, lettersGuessed): \n",
    "            print(\"Good guess: \" + getGuessedWord(secretWord, lettersGuessed)) \n",
    "        else: \n",
    "            print(\"Oops! That letter is not in my word: \" + \n",
    "                 getGuessedWord(secretWord, lettersGuessed))\n",
    "        print(breakline)\n",
    "        \n",
    "        mistakesMade += 1 \n",
    "        \n",
    "        # if entering a same guess\n",
    "        if lettersGuessed in guess: \n",
    "            print(\"You've already guessed that, so please try again!\")\n",
    "            lettersGuessed = input(\"Please guess a letter: \")\n",
    "        else: \n",
    "            guess += lettersGuessed \n",
    "\n",
    "        # end the game \n",
    "        if getGuessedWord(lettersGuessed) == secretWord: \n",
    "            print(\"Congratulations, you won!\")\n",
    "            break \n",
    "        \n",
    "        print(\"Sorry, you ran outof guesses. The word was \" + secretWord)"
   ]
  },
  {
   "cell_type": "code",
   "execution_count": 18,
   "metadata": {},
   "outputs": [
    {
     "data": {
      "text/plain": [
       "False"
      ]
     },
     "execution_count": 18,
     "metadata": {},
     "output_type": "execute_result"
    }
   ],
   "source": [
    "isWordGuessed(secretWord = 'apple', lettersGuessed = 'a')"
   ]
  }
 ],
 "metadata": {
  "kernelspec": {
   "display_name": "Python 3",
   "language": "python",
   "name": "python3"
  },
  "language_info": {
   "codemirror_mode": {
    "name": "ipython",
    "version": 3
   },
   "file_extension": ".py",
   "mimetype": "text/x-python",
   "name": "python",
   "nbconvert_exporter": "python",
   "pygments_lexer": "ipython3",
   "version": "3.7.3"
  }
 },
 "nbformat": 4,
 "nbformat_minor": 2
}