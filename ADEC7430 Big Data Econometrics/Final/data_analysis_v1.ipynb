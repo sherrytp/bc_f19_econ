{
 "cells": [
  {
   "cell_type": "markdown",
   "metadata": {},
   "source": [
    "# Sentiment Analysis on Anime Reviews \n",
    "\n",
    "## 0. Introduction \n",
    "### 0.1 Import Libraries\n",
    "### 0.2 Loading the Database \n",
    "\n",
    "## 1. Exploratory Data Analysis \n",
    "### 1.1. Data Exploration \n",
    "### 1.2. Data Split\n",
    "### 1.3. Data Cleaning \n",
    "\n"
   ]
  },
  {
   "cell_type": "markdown",
   "metadata": {},
   "source": [
    "## 0. Introduction \n",
    "\n",
    "A Japanese anime, from Chinese viewing website called bilibili.com, which went IPO in NY Exchange as ticker (BILI). The reviews are scrapped from the website using JSON and till the end of the date of May 6, 2019. \n",
    "\n",
    "* Question: \n",
    "* Source: \n",
    "* Conclusion: "
   ]
  },
  {
   "cell_type": "markdown",
   "metadata": {},
   "source": [
    "### 0.1 Import Libraries "
   ]
  },
  {
   "cell_type": "code",
   "execution_count": 1,
   "metadata": {},
   "outputs": [],
   "source": [
    "import os \n",
    "import sys \n",
    "import re\n",
    "\n",
    "import scipy\n",
    "import numpy as np\n",
    "import pandas as pd\n",
    "import jieba.analyse\n",
    "from wordcloud import WordCloud, STOPWORDS, ImageColorGenerator\n",
    "import matplotlib.pyplot as plt\n",
    "from matplotlib.font_manager import FontProperties\n",
    "# import sklearn modules \n",
    "import sklearn.metrics as skm\n",
    "import sklearn.model_selection\n",
    "import sklearn.preprocessing\n",
    "from sklearn.metrics import confusion_matrix as skm_conf_mat"
   ]
  },
  {
   "cell_type": "markdown",
   "metadata": {},
   "source": [
    "### 0.2 Loading the Dataset"
   ]
  },
  {
   "cell_type": "code",
   "execution_count": 7,
   "metadata": {},
   "outputs": [],
   "source": [
    "original_df = pd.read_pickle(\"/Users/apple/Desktop/ADEC7430 BIg Data Econometrics/Final/gzxb.pkl\")\n",
    "datas = pd.read_csv(\"/Users/apple/Desktop/ADEC7430 BIg Data Econometrics/Final/bilibilib_gongzuoxibao.csv\", sep = \",\")"
   ]
  },
  {
   "cell_type": "markdown",
   "metadata": {},
   "source": [
    "## 1. Exploratory Data Analysis \n",
    "### 1.1. Data Exploration "
   ]
  },
  {
   "cell_type": "code",
   "execution_count": 8,
   "metadata": {},
   "outputs": [
    {
     "name": "stdout",
     "output_type": "stream",
     "text": [
      "Index(['author', 'score', 'disliked', 'likes', 'liked', 'ctime', 'content',\n",
      "       'last_ep_index', 'cursor', 'date'],\n",
      "      dtype='object')\n"
     ]
    }
   ],
   "source": [
    "colnames = datas.columns\n",
    "print(colnames) # author, score, disliked, likes, liked, ctime, score.1, content, last_ex_index, cursor, date"
   ]
  },
  {
   "cell_type": "code",
   "execution_count": 9,
   "metadata": {},
   "outputs": [
    {
     "data": {
      "text/plain": [
       "(19063, 10)"
      ]
     },
     "execution_count": 9,
     "metadata": {},
     "output_type": "execute_result"
    }
   ],
   "source": [
    "datas.shape"
   ]
  },
  {
   "cell_type": "code",
   "execution_count": 10,
   "metadata": {
    "scrolled": false
   },
   "outputs": [
    {
     "data": {
      "text/plain": [
       "author     0\n",
       "score      0\n",
       "content    0\n",
       "date       0\n",
       "dtype: int64"
      ]
     },
     "execution_count": 10,
     "metadata": {},
     "output_type": "execute_result"
    }
   ],
   "source": [
    "del datas['ctime']\n",
    "del datas['cursor']\n",
    "del datas['liked']\n",
    "del datas['disliked']\n",
    "del datas['likes']\n",
    "del datas['last_ep_index']\n",
    "pd.isnull(datas).astype(int).aggregate(sum, axis = 0)"
   ]
  },
  {
   "cell_type": "markdown",
   "metadata": {},
   "source": [
    "!!! Generate a line chart to show the frequency of ratings "
   ]
  },
  {
   "cell_type": "code",
   "execution_count": 12,
   "metadata": {},
   "outputs": [
    {
     "ename": "ModuleNotFoundError",
     "evalue": "No module named 'pyecharts'",
     "output_type": "error",
     "traceback": [
      "\u001b[0;31m---------------------------------------------------------------------------\u001b[0m",
      "\u001b[0;31mModuleNotFoundError\u001b[0m                       Traceback (most recent call last)",
      "\u001b[0;32m<ipython-input-12-a6d7d828d4ec>\u001b[0m in \u001b[0;36m<module>\u001b[0;34m\u001b[0m\n\u001b[0;32m----> 1\u001b[0;31m \u001b[0;32mfrom\u001b[0m \u001b[0mpyecharts\u001b[0m\u001b[0;34m.\u001b[0m\u001b[0mcharts\u001b[0m \u001b[0;32mimport\u001b[0m \u001b[0mPie\u001b[0m\u001b[0;34m,\u001b[0m\u001b[0mLine\u001b[0m\u001b[0;34m,\u001b[0m\u001b[0mScatter\u001b[0m\u001b[0;34m\u001b[0m\u001b[0;34m\u001b[0m\u001b[0m\n\u001b[0m\u001b[1;32m      2\u001b[0m \u001b[0;34m\u001b[0m\u001b[0m\n\u001b[1;32m      3\u001b[0m \u001b[0mchart\u001b[0m \u001b[0;34m=\u001b[0m \u001b[0mLine\u001b[0m\u001b[0;34m(\u001b[0m\u001b[0;34m\"评论数时间分布\"\u001b[0m\u001b[0;34m)\u001b[0m\u001b[0;34m\u001b[0m\u001b[0;34m\u001b[0m\u001b[0m\n\u001b[1;32m      4\u001b[0m \u001b[0mchart\u001b[0m\u001b[0;34m.\u001b[0m\u001b[0muse_theme\u001b[0m\u001b[0;34m(\u001b[0m\u001b[0;34m'dark'\u001b[0m\u001b[0;34m)\u001b[0m\u001b[0;34m\u001b[0m\u001b[0;34m\u001b[0m\u001b[0m\n\u001b[1;32m      5\u001b[0m chart.add( '评论数时间分布',num_date.index, num_date.values, is_fill=True, line_opacity=0.2,\n",
      "\u001b[0;31mModuleNotFoundError\u001b[0m: No module named 'pyecharts'"
     ]
    }
   ],
   "source": [
    "from pyecharts.charts import Pie,Line,Scatter\n",
    "\n",
    "chart = Line(\"评论数时间分布\")\n",
    "chart.use_theme('dark')\n",
    "chart.add( '评论数时间分布',num_date.index, num_date.values, is_fill=True, line_opacity=0.2,\n",
    "          area_opacity=0.4, symbol=None)\n",
    "\n",
    "chart.render('评论时间分布.html')\n",
    "\n",
    "# OR \n",
    "datascore = datas.score.groupby(datas.dates).mean()\n",
    "chart = Line(\"评分时间分布\")\n",
    "chart.use_theme('dark')\n",
    "chart.add('评分', datascore.index, \n",
    "          datascore.values, \n",
    "          line_width = 2            \n",
    "          )\n",
    "chart.render('评分时间分布.html')"
   ]
  },
  {
   "cell_type": "code",
   "execution_count": 13,
   "metadata": {
    "scrolled": true
   },
   "outputs": [],
   "source": [
    "content_df = datas['content']\n",
    "content_df.to_pickle(\"/Users/apple/Desktop/ADEC7430 BIg Data Econometrics/Final/gzxb.pkl\")"
   ]
  },
  {
   "cell_type": "markdown",
   "metadata": {},
   "source": [
    "### 1.2. Data Split"
   ]
  },
  {
   "cell_type": "code",
   "execution_count": 14,
   "metadata": {},
   "outputs": [
    {
     "data": {
      "text/plain": [
       "count     19063\n",
       "unique    16231\n",
       "top          好看\n",
       "freq        316\n",
       "Name: content, dtype: object"
      ]
     },
     "execution_count": 14,
     "metadata": {},
     "output_type": "execute_result"
    }
   ],
   "source": [
    "content_df.describe()"
   ]
  },
  {
   "cell_type": "code",
   "execution_count": 15,
   "metadata": {},
   "outputs": [
    {
     "data": {
      "text/plain": [
       "(6553,)"
      ]
     },
     "execution_count": 15,
     "metadata": {},
     "output_type": "execute_result"
    }
   ],
   "source": [
    "# split the train data into train1 (for modeling) and train2 (for testing, out of sample accuracy measures)\n",
    "import random\n",
    "random.seed(2019)\n",
    "randommask = [x < 0.5 for x in [random.uniform(0,1) for y in range(content_df.shape[0])]]\n",
    "\n",
    "train1 = content_df.loc[randommask].copy()\n",
    "train2 = content_df.loc[[not x for x in randommask]].copy()\n",
    "randommask = [x < 0.7 for x in [random.uniform(0,1) for y in range(train1.shape[0])]]\n",
    "train3 = train1.loc[randommask].copy()\n",
    "train4 = train1.loc[[not x for x in randommask]].copy()\n",
    "\n",
    "rTrain = train3\n",
    "rTest = train4\n",
    "TEST = train2\n",
    "\n",
    "# let's understand up a bit the data\n",
    "rTrain.shape"
   ]
  },
  {
   "cell_type": "code",
   "execution_count": 16,
   "metadata": {},
   "outputs": [
    {
     "data": {
      "text/plain": [
       "12    题材新颖    剧情也不错    作画也很好    最重要的是声优阵容豪华\n",
       "15                                 希望有第二季！！\n",
       "19                              是我在b站看过最好的番\n",
       "20                           很棒！狗粮真好吃真好吃！！！\n",
       "25                          让我了解到了很多生活方面的知识\n",
       "31                              好看好看~大爱工作细胞\n",
       "33                                 很有意思 很可爱\n",
       "36                                  买了白哥手办！\n",
       "37                                       。。\n",
       "43                小时候最喜欢生物，虽然学不了，但我还是想一直关注她\n",
       "Name: content, dtype: object"
      ]
     },
     "execution_count": 16,
     "metadata": {},
     "output_type": "execute_result"
    }
   ],
   "source": [
    "rTrain.head(10)"
   ]
  },
  {
   "cell_type": "code",
   "execution_count": 17,
   "metadata": {},
   "outputs": [
    {
     "name": "stderr",
     "output_type": "stream",
     "text": [
      "Building prefix dict from the default dictionary ...\n",
      "Loading model from cache /var/folders/4h/8s1vtfjn6q96ftrjbs27q_k40000gn/T/jieba.cache\n",
      "Loading model cost 1.195 seconds.\n",
      "Prefix dict has been built succesfully.\n"
     ]
    }
   ],
   "source": [
    "#%%评论分析\n",
    "texts = ';'.join(content_df.tolist())\n",
    "cut_text = \" \".join(jieba.cut(texts))\n",
    "# TF_IDF\n",
    "keywords = jieba.analyse.extract_tags(cut_text, topK=100, withWeight=True, allowPOS=('a','e','n','nr','ns'))\n",
    "text_cloud = dict(keywords)\n",
    "pd.DataFrame(keywords).to_excel('TF_IDF关键词前100.xlsx')"
   ]
  },
  {
   "cell_type": "code",
   "execution_count": 18,
   "metadata": {},
   "outputs": [
    {
     "name": "stdout",
     "output_type": "stream",
     "text": [
      "Help on function sub in module re:\n",
      "\n",
      "sub(pattern, repl, string, count=0, flags=0)\n",
      "    Return the string obtained by replacing the leftmost\n",
      "    non-overlapping occurrences of the pattern in string by the\n",
      "    replacement repl.  repl can be either a string or a callable;\n",
      "    if a string, backslash escapes in it are processed.  If it is\n",
      "    a callable, it's passed the Match object and must return\n",
      "    a replacement string to be used.\n",
      "\n"
     ]
    }
   ],
   "source": [
    "help(re.sub)"
   ]
  },
  {
   "cell_type": "code",
   "execution_count": 19,
   "metadata": {
    "scrolled": true
   },
   "outputs": [],
   "source": [
    "# Remove all punctuation and expression marks \n",
    "temp =  \"\\\\【.*?】+|\\\\《.*?》+|\\\\#.*?#+|[.!/_,$&%^*()<>+\"\"'?@|:~{}#]+|[——！\\\\\\，。=？、：“”‘’￥……（）《》【】]\"\n",
    "cut_text = re.sub(pattern = temp, repl = \"\", string = cut_text)"
   ]
  },
  {
   "cell_type": "markdown",
   "metadata": {},
   "source": [
    "Can we draw a wordcloud someway? "
   ]
  },
  {
   "cell_type": "code",
   "execution_count": 20,
   "metadata": {},
   "outputs": [
    {
     "data": {
      "image/png": "[encoded data removed]",
      "text/plain": [
       "<Figure size 432x288 with 1 Axes>"
      ]
     },
     "metadata": {
      "needs_background": "light"
     },
     "output_type": "display_data"
    }
   ],
   "source": [
    "bg = plt.imread(\"血小板.jpg\")\n",
    "# 生成\n",
    "wc = WordCloud(# FFFAE3\n",
    "    background_color=\"white\",  # 设置背景为白色，默认为黑色\n",
    "    width=400,  # 设置图片的宽度\n",
    "    height=600,  # 设置图片的高度\n",
    "    mask=bg,\n",
    "    random_state = 2,\n",
    "    max_font_size=500,  # 显示的最大的字体大小\n",
    "    #font_path=\"STSONG.TTF\",  \n",
    ").generate_from_frequencies(text_cloud)\n",
    "\n",
    "plt.imshow(wc)\n",
    "plt.axis(\"off\")\n",
    "plt.show()"
   ]
  },
  {
   "cell_type": "code",
   "execution_count": 22,
   "metadata": {},
   "outputs": [
    {
     "data": {
      "text/plain": [
       "{'血小板': 1.011030649143305,\n",
       " '细胞': 0.3480991033952349,\n",
       " '啊啊啊': 0.18797358827983712,\n",
       " '动漫': 0.1664184460608045,\n",
       " '身体': 0.16547942087465203,\n",
       " '有趣': 0.1600907823444498,\n",
       " '生物': 0.15913990216741578,\n",
       " '不错': 0.13697913398554687,\n",
       " '很棒': 0.12639950302462877,\n",
       " '剧情': 0.1139274898252161,\n",
       " '动画': 0.11105580756008976,\n",
       " '白细胞': 0.1080316828669282,\n",
       " '番剧': 0.10366362556537288,\n",
       " '感觉': 0.08486598822848321,\n",
       " '赛高': 0.08279842297553745,\n",
       " '红细胞': 0.07892628937703236,\n",
       " '香菜': 0.0765515923686835,\n",
       " '白血球': 0.06469304157432958,\n",
       " '新颖': 0.05485513020202793,\n",
       " '超棒': 0.05265979701244182,\n",
       " '老婆': 0.05206180119117907,\n",
       " '题材': 0.049581531436182956,\n",
       " '陪伴': 0.04802495129486591,\n",
       " '脑洞': 0.048023085325811725,\n",
       " '画风': 0.04311744655214761,\n",
       " '漫画': 0.04235598208994765,\n",
       " '意义': 0.04188755503663564,\n",
       " '拟人化': 0.04118278708324469,\n",
       " '硬核': 0.04098081263289007,\n",
       " '医学生': 0.04078672198524768,\n",
       " '声优': 0.03941204933635583,\n",
       " '作品': 0.038939896414051975,\n",
       " '生物课': 0.037687711617747116,\n",
       " '有点': 0.037378580938638634,\n",
       " '卡哇伊': 0.03658478437887855,\n",
       " '太棒了': 0.0339167402428524,\n",
       " '学生': 0.03241207363280585,\n",
       " '单身': 0.0317851146602449,\n",
       " '优秀': 0.031008225414274435,\n",
       " '棒棒': 0.030369709361873894,\n",
       " '人体': 0.03006198706274629,\n",
       " '热血': 0.02990482892878546,\n",
       " '时候': 0.02934730563939716,\n",
       " '太萌': 0.028813851195487034,\n",
       " '红血球': 0.027746232371259977,\n",
       " '拟人': 0.027746232371259977,\n",
       " '良心': 0.02706748297651679,\n",
       " '理科生': 0.026854536819719634,\n",
       " '霸权': 0.026659642814760635,\n",
       " '无聊': 0.02615473577111868,\n",
       " '完美': 0.025973862085376498,\n",
       " '科普性': 0.024261488588098405,\n",
       " '大家': 0.023887838350659076,\n",
       " '科普知识': 0.023482498692071144,\n",
       " '会员': 0.02269916768421432,\n",
       " '新番': 0.02185878366554189,\n",
       " '文科生': 0.021805177356923205,\n",
       " '好好看': 0.021351020041179076,\n",
       " '癌细胞': 0.02075435224100316,\n",
       " '人物': 0.020532802887943263,\n",
       " '健康': 0.02000080930383533,\n",
       " '安利': 0.01986136027107713,\n",
       " '轻松': 0.019308548982504156,\n",
       " '形象': 0.018832337444515738,\n",
       " '故事': 0.018481849165659075,\n",
       " '理由': 0.017969504679191048,\n",
       " '好帅': 0.017884459362716088,\n",
       " '辛苦': 0.017100048335460992,\n",
       " '生物学': 0.017067026970618352,\n",
       " '珍惜': 0.0163937356551496,\n",
       " '医学': 0.01616161382710328,\n",
       " '老师': 0.015891177857214094,\n",
       " '谢谢': 0.015727488351755043,\n",
       " '学医': 0.015704385790168994,\n",
       " '弹幕': 0.015601375445769615,\n",
       " '滑稽': 0.015281398034515182,\n",
       " '配音': 0.015232679736042773,\n",
       " '真是太': 0.015052873814593307,\n",
       " '内容': 0.014081728006373835,\n",
       " '东西': 0.013223859155640514,\n",
       " '枯燥': 0.013202444708723957,\n",
       " '红白': 0.013180443624215428,\n",
       " '老少皆宜': 0.013093501777703902,\n",
       " '细菌': 0.013038816030531914,\n",
       " '评分': 0.012974603767364805,\n",
       " '白哥': 0.012916553984183843,\n",
       " '姿势': 0.01283646450861231,\n",
       " '普及': 0.012833545542420211,\n",
       " '角色': 0.012450977276028369,\n",
       " '快乐': 0.012136786657273106,\n",
       " '方式': 0.012104826074154201,\n",
       " '作画': 0.012103525346341145,\n",
       " '生病': 0.012009091775315825,\n",
       " '兴趣': 0.011994847125857714,\n",
       " '泪目': 0.011591779216575244,\n",
       " '帅气': 0.011402659285571808,\n",
       " '迷路': 0.011400365841164394,\n",
       " '阵容': 0.011368088808529478,\n",
       " '厉害': 0.01131802541307264,\n",
       " '新意': 0.01103272262454455}"
      ]
     },
     "execution_count": 22,
     "metadata": {},
     "output_type": "execute_result"
    }
   ],
   "source": [
    "text_cloud"
   ]
  },
  {
   "cell_type": "markdown",
   "metadata": {},
   "source": [
    "## Note: \n",
    "Test data is split half (train/test) and then 70-30, containing 6553 comments. "
   ]
  }
 ],
 "metadata": {
  "kernelspec": {
   "display_name": "Python 3",
   "language": "python",
   "name": "python3"
  },
  "language_info": {
   "codemirror_mode": {
    "name": "ipython",
    "version": 3
   },
   "file_extension": ".py",
   "mimetype": "text/x-python",
   "name": "python",
   "nbconvert_exporter": "python",
   "pygments_lexer": "ipython3",
   "version": "3.7.3"
  }
 },
 "nbformat": 4,
 "nbformat_minor": 2
}
