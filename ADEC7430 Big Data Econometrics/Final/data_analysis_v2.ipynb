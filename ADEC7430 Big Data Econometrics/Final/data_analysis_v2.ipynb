{
 "cells": [
  {
   "cell_type": "markdown",
   "metadata": {},
   "source": [
    "#                                      Sentiment Analysis on Anime Reviews \n",
    "\n",
    "* ## 0 Introduction \n",
    "    * ### 0.1 Import Libraries\n",
    "    * ### 0.2 Loading the Database \n",
    "\n",
    "* ## 1 Exploratory Data Analysis \n",
    "    * ### 1.1 Data Exploration \n",
    "    * #### 1.1.1 Rating Frequency Table\n",
    "        * #### 1.1.2 Word Cloud \n",
    "    * ### 1.2 Data Cleaning \n",
    "    * ### 1.3 Data Split - only get rTrain\n",
    "    * ### 1.4 Word Frequency Table \n",
    "    * ### 1.5  Import Sentiment Weights \n",
    "\n",
    "* ## 2 Train Models "
   ]
  },
  {
   "cell_type": "markdown",
   "metadata": {},
   "source": [
    "## 0. Introduction \n",
    "\n",
    "A Japanese anime, from Chinese viewing website called bilibili.com, which went IPO in NY Exchange as ticker (BILI). The reviews are scrapped from the website using JSON and till the end of the date of May 6, 2019. \n",
    "\n",
    "* Question: \n",
    "* Source: \n",
    "* Conclusion: \n",
    "\n",
    "## Note: \n",
    "Test data is split half (train/test) and then 70-30, containing 2258 comments. "
   ]
  },
  {
   "cell_type": "markdown",
   "metadata": {},
   "source": [
    "### 0.1 Import Libraries "
   ]
  },
  {
   "cell_type": "code",
   "execution_count": 1,
   "metadata": {},
   "outputs": [],
   "source": [
    "import os \n",
    "import sys \n",
    "import re\n",
    "\n",
    "import scipy\n",
    "import numpy as np\n",
    "import pandas as pd\n",
    "import jieba.analyse\n",
    "from wordcloud import WordCloud, STOPWORDS, ImageColorGenerator\n",
    "import matplotlib.pyplot as plt\n",
    "from matplotlib.font_manager import FontProperties\n",
    "# import sklearn modules \n",
    "import sklearn.metrics as skm\n",
    "import sklearn.model_selection\n",
    "import sklearn.preprocessing\n",
    "from sklearn.metrics import confusion_matrix as skm_conf_mat\n",
    "from collections import Counter\n",
    "from collections import defaultdict"
   ]
  },
  {
   "cell_type": "markdown",
   "metadata": {},
   "source": [
    "### 0.2 Loading the Dataset"
   ]
  },
  {
   "cell_type": "code",
   "execution_count": 2,
   "metadata": {},
   "outputs": [],
   "source": [
    "original_df = pd.read_pickle(\"/Users/apple/Desktop/ADEC7430 BIg Data Econometrics/Final/gzxb.pkl\")\n",
    "datas = pd.read_csv(\"/Users/apple/Desktop/ADEC7430 BIg Data Econometrics/Final/bilibilib_gongzuoxibao.csv\", sep = \",\")"
   ]
  },
  {
   "cell_type": "markdown",
   "metadata": {},
   "source": [
    "## 1. Exploratory Data Analysis \n",
    "### 1.1. Data Exploration "
   ]
  },
  {
   "cell_type": "code",
   "execution_count": 3,
   "metadata": {
    "scrolled": true
   },
   "outputs": [
    {
     "name": "stdout",
     "output_type": "stream",
     "text": [
      "Index(['author', 'score', 'disliked', 'likes', 'liked', 'ctime', 'content',\n",
      "       'last_ep_index', 'cursor', 'date'],\n",
      "      dtype='object')\n"
     ]
    }
   ],
   "source": [
    "colnames = datas.columns\n",
    "print(colnames) # author, score, disliked, likes, liked, ctime, score.1, content, last_ex_index, cursor, date"
   ]
  },
  {
   "cell_type": "code",
   "execution_count": 4,
   "metadata": {},
   "outputs": [
    {
     "data": {
      "text/plain": [
       "(19063, 10)"
      ]
     },
     "execution_count": 4,
     "metadata": {},
     "output_type": "execute_result"
    }
   ],
   "source": [
    "datas.shape"
   ]
  },
  {
   "cell_type": "markdown",
   "metadata": {},
   "source": [
    "#### 1.1.1 Rating Frequency Table"
   ]
  },
  {
   "cell_type": "code",
   "execution_count": 5,
   "metadata": {
    "scrolled": true
   },
   "outputs": [
    {
     "data": {
      "text/plain": [
       "10    17480\n",
       "8       933\n",
       "6       292\n",
       "2       272\n",
       "4        86\n",
       "Name: score, dtype: int64"
      ]
     },
     "execution_count": 5,
     "metadata": {},
     "output_type": "execute_result"
    }
   ],
   "source": [
    "datas['score'].value_counts()"
   ]
  },
  {
   "cell_type": "code",
   "execution_count": 6,
   "metadata": {},
   "outputs": [
    {
     "data": {
      "image/png": "[encoded data removed]",
      "text/plain": [
       "<Figure size 432x288 with 1 Axes>"
      ]
     },
     "metadata": {
      "needs_background": "light"
     },
     "output_type": "display_data"
    }
   ],
   "source": [
    "x = [2,4,6,8,10]\n",
    "#y = [272,86,292,933,17480]\n",
    "y = list(datas['score'].value_counts())[::-1]\n",
    "plt.bar(x,y, color='orange')\n",
    "plt.xlabel('Score')\n",
    "plt.ylabel('')\n",
    "plt.title('Rating Frequencies')\n",
    "plt.show()"
   ]
  },
  {
   "cell_type": "markdown",
   "metadata": {},
   "source": [
    "> Cutting Words/Parsle "
   ]
  },
  {
   "cell_type": "code",
   "execution_count": 7,
   "metadata": {},
   "outputs": [
    {
     "name": "stderr",
     "output_type": "stream",
     "text": [
      "Building prefix dict from the default dictionary ...\n",
      "Loading model from cache /var/folders/4h/8s1vtfjn6q96ftrjbs27q_k40000gn/T/jieba.cache\n",
      "Loading model cost 1.297 seconds.\n",
      "Prefix dict has been built succesfully.\n"
     ]
    }
   ],
   "source": [
    "#%% Content Analysis \n",
    "texts = ';'.join(datas['content'].tolist())\n",
    "cut_text = \" \".join(jieba.cut(texts))\n",
    "# TF_IDF\n",
    "keywords = jieba.analyse.extract_tags(cut_text, topK=100, withWeight=True, allowPOS=('a','e','n','nr','ns'))\n",
    "text_cloud = dict(keywords)\n",
    "###pd.DataFrame(keywords).to_excel('TF_IDF关键词前100.xlsx')"
   ]
  },
  {
   "cell_type": "code",
   "execution_count": 8,
   "metadata": {
    "scrolled": true
   },
   "outputs": [],
   "source": [
    "# Remove all punctuation and expression marks \n",
    "temp =  \"\\\\【.*?】+|\\\\《.*?》+|\\\\#.*?#+|[.!/_,$&%^*()<>+\"\"'?@|:~{}#]+|[——！\\\\\\，。=？、：“”‘’￥……（）《》【】]\"\n",
    "cut_text = re.sub(pattern = temp, repl = \"\", string = cut_text)"
   ]
  },
  {
   "cell_type": "markdown",
   "metadata": {},
   "source": [
    "#### 1.1.2 Word Cloud"
   ]
  },
  {
   "cell_type": "code",
   "execution_count": 9,
   "metadata": {},
   "outputs": [
    {
     "data": {
      "image/png": "[encoded data removed]",
      "text/plain": [
       "<Figure size 432x288 with 1 Axes>"
      ]
     },
     "metadata": {
      "needs_background": "light"
     },
     "output_type": "display_data"
    }
   ],
   "source": [
    "bg = plt.imread(\"血小板.jpg\")\n",
    "# Specify font \n",
    "font = r'/Users/apple/Documents/simhei.ttf'\n",
    "wc = WordCloud(# FFFAE3\n",
    "    collocations=False, \n",
    "    font_path=font,\n",
    "    background_color=\"white\", \n",
    "    width=400, \n",
    "    height=600, \n",
    "    mask=bg,\n",
    "    random_state = 2,\n",
    "    max_font_size=500, \n",
    "    #font_path=\"STSONG.TTF\",  \n",
    ").generate_from_frequencies(text_cloud)\n",
    "\n",
    "plt.imshow(wc)\n",
    "plt.axis(\"off\")\n",
    "plt.show()"
   ]
  },
  {
   "cell_type": "markdown",
   "metadata": {},
   "source": [
    "### 1.2. Data Cleaning "
   ]
  },
  {
   "cell_type": "code",
   "execution_count": 10,
   "metadata": {
    "scrolled": false
   },
   "outputs": [
    {
     "data": {
      "text/plain": [
       "author     0\n",
       "score      0\n",
       "content    0\n",
       "date       0\n",
       "dtype: int64"
      ]
     },
     "execution_count": 10,
     "metadata": {},
     "output_type": "execute_result"
    }
   ],
   "source": [
    "del datas['ctime']\n",
    "del datas['cursor']\n",
    "del datas['liked']\n",
    "del datas['disliked']\n",
    "del datas['likes']\n",
    "del datas['last_ep_index']\n",
    "pd.isnull(datas).astype(int).aggregate(sum, axis = 0)"
   ]
  },
  {
   "cell_type": "markdown",
   "metadata": {},
   "source": [
    "> saving dataset to pickle in case\n",
    "\n",
    "datas['content'].to_pickle(\"/Users/apple/Desktop/ADEC7430 BIg Data Econometrics/Final/gzxb.pkl\")"
   ]
  },
  {
   "cell_type": "markdown",
   "metadata": {},
   "source": [
    "### 1.3. Data Split"
   ]
  },
  {
   "cell_type": "code",
   "execution_count": 11,
   "metadata": {},
   "outputs": [
    {
     "data": {
      "text/plain": [
       "count     19063\n",
       "unique    16231\n",
       "top          好看\n",
       "freq        316\n",
       "Name: content, dtype: object"
      ]
     },
     "execution_count": 11,
     "metadata": {},
     "output_type": "execute_result"
    }
   ],
   "source": [
    "content_df = pd.read_pickle(\"/Users/apple/Desktop/ADEC7430 BIg Data Econometrics/Final/gzxb.pkl\")\n",
    "content_df.describe()"
   ]
  },
  {
   "cell_type": "code",
   "execution_count": 12,
   "metadata": {
    "scrolled": true
   },
   "outputs": [
    {
     "name": "stdout",
     "output_type": "stream",
     "text": [
      "\t\t\tFeature Shapes:\n",
      "Train set: \t\t(6553,) \n",
      "Validation set: \t(2894,) \n",
      "Test set: \t\t(9616,)\n"
     ]
    }
   ],
   "source": [
    "# split the train data into train1 (for modeling) and train2 (for testing, out of sample accuracy measures)\n",
    "import random\n",
    "random.seed(2019)\n",
    "randommask = [x < 0.5 for x in [random.uniform(0,1) for y in range(content_df.shape[0])]]\n",
    "\n",
    "train1 = content_df.loc[randommask].copy()\n",
    "train2 = content_df.loc[[not x for x in randommask]].copy()\n",
    "randommask = [x < 0.7 for x in [random.uniform(0,1) for y in range(train1.shape[0])]]\n",
    "train3 = train1.loc[randommask].copy()\n",
    "train4 = train1.loc[[not x for x in randommask]].copy()\n",
    "\n",
    "rTrain = train3\n",
    "rValidation = train4\n",
    "rTest = train2\n",
    "\n",
    "# let's understand up a bit the data\n",
    "## print out the shapes of  resultant feature data\n",
    "print(\"\\t\\t\\tFeature Shapes:\")\n",
    "print(\"Train set: \\t\\t{}\".format(rTrain.shape), \n",
    "      \"\\nValidation set: \\t{}\".format(rValidation.shape),\n",
    "      \"\\nTest set: \\t\\t{}\".format(rTest.shape))"
   ]
  },
  {
   "cell_type": "code",
   "execution_count": 13,
   "metadata": {
    "scrolled": false
   },
   "outputs": [
    {
     "data": {
      "text/plain": [
       "12    题材新颖    剧情也不错    作画也很好    最重要的是声优阵容豪华\n",
       "15                                 希望有第二季！！\n",
       "19                              是我在b站看过最好的番\n",
       "20                           很棒！狗粮真好吃真好吃！！！\n",
       "25                          让我了解到了很多生活方面的知识\n",
       "31                              好看好看~大爱工作细胞\n",
       "33                                 很有意思 很可爱\n",
       "36                                  买了白哥手办！\n",
       "37                                       。。\n",
       "43                小时候最喜欢生物，虽然学不了，但我还是想一直关注她\n",
       "Name: content, dtype: object"
      ]
     },
     "execution_count": 13,
     "metadata": {},
     "output_type": "execute_result"
    }
   ],
   "source": [
    "rTrain.head(10)"
   ]
  },
  {
   "cell_type": "code",
   "execution_count": 14,
   "metadata": {},
   "outputs": [],
   "source": [
    "perfect = datas[datas.score == 10]\n",
    "imperfect = datas[datas.score != 10]\n",
    "perfect_sample = perfect.sample(n = 1583, random_state = 1 )\n",
    "new_data = pd.concat([perfect_sample, imperfect], axis = 0)"
   ]
  },
  {
   "cell_type": "code",
   "execution_count": 17,
   "metadata": {
    "scrolled": true
   },
   "outputs": [
    {
     "name": "stdout",
     "output_type": "stream",
     "text": [
      "(2177, 4) (989, 4)\n"
     ]
    }
   ],
   "source": [
    "randommask = [x < 0.7 for x in [random.uniform(0,1) for y in range(new_data.shape[0])]]\n",
    "rTrain = new_data.loc[randommask].copy()\n",
    "rTest = new_data.loc[[not x for x in randommask]].copy()\n",
    "print(rTrain.shape, rTest.shape)"
   ]
  },
  {
   "cell_type": "markdown",
   "metadata": {},
   "source": [
    "> saving dataset to pickle in case\n",
    "\n",
    "rTrain.to_pickle(\"/Users/apple/Desktop/ADEC7430 BIg Data Econometrics/Final/rTrain.pkl\")\n",
    "rTest.to_pickle(\"/Users/apple/Desktop/ADEC7430 BIg Data Econometrics/Final/rTest.pkl\")"
   ]
  },
  {
   "cell_type": "code",
   "execution_count": 18,
   "metadata": {},
   "outputs": [
    {
     "name": "stdout",
     "output_type": "stream",
     "text": [
      "\t\t\tFeature Shapes:\n",
      "Train set: \t\t(2258, 4) \n",
      "Test set: \t\t(908, 4)\n"
     ]
    }
   ],
   "source": [
    "rTrain = pd.read_pickle(\"rTrain.pkl\")\n",
    "rTest = pd.read_pickle(\"rTest.pkl\")\n",
    "# let's understand up a bit the data\n",
    "## print out the shapes of  resultant feature data\n",
    "print(\"\\t\\t\\tFeature Shapes:\")\n",
    "print(\"Train set: \\t\\t{}\".format(rTrain.shape), \n",
    "      #\"\\nValidation set: \\t{}\".format(rValidation.shape),\n",
    "      \"\\nTest set: \\t\\t{}\".format(rTest.shape))"
   ]
  },
  {
   "cell_type": "markdown",
   "metadata": {},
   "source": [
    "### 1.4. Frequency Table for Top 100 "
   ]
  },
  {
   "cell_type": "markdown",
   "metadata": {},
   "source": [
    "rTrain.to_pickle(\"/Users/apple/Desktop/ADEC7430 BIg Data Econometrics/Final/rTrain.pkl\")\n",
    "> y_rTrain; > y_rTest"
   ]
  },
  {
   "cell_type": "code",
   "execution_count": 19,
   "metadata": {},
   "outputs": [],
   "source": [
    "yTrain = rTrain['score']\n",
    "yTest = rTest['score']"
   ]
  },
  {
   "cell_type": "code",
   "execution_count": 20,
   "metadata": {},
   "outputs": [
    {
     "data": {
      "text/plain": [
       "['血小板',\n",
       " '细胞',\n",
       " '剧情',\n",
       " '不错',\n",
       " '有趣',\n",
       " '啊啊啊',\n",
       " '感觉',\n",
       " '生物',\n",
       " '动画',\n",
       " '动漫',\n",
       " '身体',\n",
       " '番剧',\n",
       " '有点',\n",
       " '很棒',\n",
       " '白细胞',\n",
       " '新颖',\n",
       " '无聊',\n",
       " '题材',\n",
       " '香菜',\n",
       " '红细胞',\n",
       " '白血球',\n",
       " '声优',\n",
       " '癌细胞',\n",
       " '脑洞',\n",
       " '拟人化',\n",
       " '意义',\n",
       " '画风',\n",
       " '很好',\n",
       " '作品',\n",
       " '超棒',\n",
       " '赛高',\n",
       " '优秀',\n",
       " '安利',\n",
       " '漫画',\n",
       " '会员',\n",
       " '一般',\n",
       " '人物',\n",
       " '时候',\n",
       " '单身',\n",
       " '老婆',\n",
       " '评分',\n",
       " '硬核',\n",
       " '热血',\n",
       " '套路',\n",
       " '陪伴',\n",
       " '作画',\n",
       " '弹幕',\n",
       " '红血球',\n",
       " '文科生',\n",
       " '故事',\n",
       " '卡哇伊',\n",
       " '科普知识',\n",
       " '棒棒',\n",
       " '细菌',\n",
       " '亮点',\n",
       " '科普性',\n",
       " '新意',\n",
       " '理科生',\n",
       " '人体',\n",
       " '医学生',\n",
       " '严谨',\n",
       " '学生',\n",
       " '轻松',\n",
       " '角色',\n",
       " '精良',\n",
       " '地方',\n",
       " '女主',\n",
       " '大家',\n",
       " '内容',\n",
       " '情节',\n",
       " '良心',\n",
       " '尴尬',\n",
       " '拟人',\n",
       " '兴趣',\n",
       " '个人',\n",
       " '节奏',\n",
       " '好帅',\n",
       " '霸权',\n",
       " '生物学',\n",
       " '画面',\n",
       " '老少皆宜',\n",
       " '老套',\n",
       " '完美',\n",
       " '迷路',\n",
       " '总体',\n",
       " '谢谢',\n",
       " '一星',\n",
       " '作者',\n",
       " '真棒',\n",
       " '方面',\n",
       " '老师',\n",
       " '方式',\n",
       " '幼稚',\n",
       " '帅气',\n",
       " '白哥',\n",
       " '肥宅',\n",
       " '路痴',\n",
       " '看点',\n",
       " '观众',\n",
       " '类型']"
      ]
     },
     "execution_count": 20,
     "metadata": {},
     "output_type": "execute_result"
    }
   ],
   "source": [
    "texts = '\\n'.join(rTrain['content'].tolist())\n",
    "#cut_text = jieba.lcut(texts)\n",
    "cut_text = \"\".join(jieba.cut(texts))\n",
    "cut_text = re.sub(pattern = temp, repl = \"\", string = cut_text)\n",
    "\n",
    "keyword = jieba.analyse.extract_tags(cut_text, topK=100, allowPOS=('a','e','n','nr','ns'))  # list\n",
    "cut_text = cut_text.split('\\n')\n",
    "keyword"
   ]
  },
  {
   "cell_type": "code",
   "execution_count": 21,
   "metadata": {
    "scrolled": true
   },
   "outputs": [],
   "source": [
    "#%%多个循环实现每条评论的词频统计\n",
    "cutlist = []\n",
    "\n",
    "for i in range(0, len(cut_text)):\n",
    "    cut_dic = defaultdict(int) #词频不叠加，每次统计一个句子后就清空\n",
    "    comment = cut_text[i]\n",
    "    comment_cut = jieba.lcut(comment)\n",
    "    for word in comment_cut: # word freq for every comment \n",
    "        if word in keyword:\n",
    "            cut_dic[word] += 1  \n",
    "    order = sorted(cut_dic.items(),key = lambda x:x[1],reverse = True) # word freq in descending order\n",
    "    #print(order)\n",
    " \n",
    "    myresult = \"\" #字典不叠加，每次统计一个句子后就清空\n",
    "    for j in range(0,len(order)):#把每条评论的词频统计结果保存为str格式\n",
    "        result = order[j][0]+ \"-\" + str(order[j][1])\n",
    "        myresult = myresult + \" \" + result #myresult和result的顺序不能换，否则就变升序啦 \n",
    "    cutlist.append(myresult)\n",
    "#print(cutlist)"
   ]
  },
  {
   "cell_type": "code",
   "execution_count": 22,
   "metadata": {},
   "outputs": [],
   "source": [
    "word_freqs = []\n",
    "for raw in cutlist:\n",
    "    word_freq = {}\n",
    "    for word_freq_raw in raw.split():\n",
    "        index = word_freq_raw.find('-')\n",
    "        word = word_freq_raw[:index]\n",
    "        freq = int(word_freq_raw[index + 1])\n",
    "        word_freq[word] = freq\n",
    "    word_freqs.append(word_freq)\n",
    "    \n",
    "matrix = []\n",
    "for word_freq in word_freqs:\n",
    "    row = []\n",
    "    for word in keyword:\n",
    "        if word in word_freq:\n",
    "            row.append(word_freq[word])\n",
    "        else:\n",
    "            row.append(0)\n",
    "    matrix.append(row)\n",
    "#print(matrix)\n",
    "matrix = np.array(matrix)"
   ]
  },
  {
   "cell_type": "code",
   "execution_count": 23,
   "metadata": {},
   "outputs": [],
   "source": [
    "labels = []\n",
    "for i in range(len(matrix)):\n",
    "    phaseID = \"c\" + str(i+1)\n",
    "    labels.append(phaseID)\n",
    "\n",
    "df = pd.DataFrame(data = dict(zip(labels,matrix)))#, index=[0]"
   ]
  },
  {
   "cell_type": "markdown",
   "metadata": {},
   "source": [
    "### 1.5. Import Sentiment Weights \n",
    "> X_rTrain"
   ]
  },
  {
   "cell_type": "code",
   "execution_count": 32,
   "metadata": {},
   "outputs": [],
   "source": [
    "grade = np.array([0.1,0,0,0.7,0.8,0.5,0.1,0,0,0,0,0,0,1,0.1,0.8,-0.7,0,0.3,0.1,0.1,0.2,0,0.3,0.5,0.6,0.6,0.9,0,1,1,1,1,0,0.1,-0.1,0,0,0,0.7,0,0.7,0.8,-0.2,0.6,0,0,0.1,0,0,0.9,0.6,1,0,0,0.5,0.7,0,0,0,0.5,0,0.6,0,0.8,0,0.3,0,0,0,0.8,-1,0.4,0.6,0,0,0.8,-0.5,0,0.3,0.7,-0.7,1,0,0,0.7,-1,0,1,0,0.2,0,-0.8,0.6,0.4,-0.6,-0.1,0.1,0,0])"
   ]
  },
  {
   "cell_type": "code",
   "execution_count": 70,
   "metadata": {},
   "outputs": [],
   "source": [
    "X = np.array(matrix) * grade"
   ]
  },
  {
   "cell_type": "code",
   "execution_count": 59,
   "metadata": {
    "scrolled": false
   },
   "outputs": [
    {
     "data": {
      "text/plain": [
       "(2258,)"
      ]
     },
     "execution_count": 59,
     "metadata": {},
     "output_type": "execute_result"
    }
   ],
   "source": [
    "yTrain.shape"
   ]
  },
  {
   "cell_type": "markdown",
   "metadata": {},
   "source": [
    "## 2. Train Model \n",
    "### 2.1. Logistic Regression"
   ]
  },
  {
   "cell_type": "code",
   "execution_count": 75,
   "metadata": {},
   "outputs": [
    {
     "data": {
      "text/plain": [
       "0.5336581045172719"
      ]
     },
     "execution_count": 75,
     "metadata": {},
     "output_type": "execute_result"
    }
   ],
   "source": [
    "# import Logistic model\n",
    "from sklearn.linear_model import LogisticRegression\n",
    "from sklearn.linear_model import LogisticRegressionCV\n",
    "\n",
    "clf = LogisticRegression(random_state=0, solver='lbfgs',multi_class='multinomial').fit(X, yTrain)\n",
    "clf.score(X, yTrain)"
   ]
  },
  {
   "cell_type": "code",
   "execution_count": 79,
   "metadata": {},
   "outputs": [
    {
     "data": {
      "text/plain": [
       "array([ 2,  6,  8, 10])"
      ]
     },
     "execution_count": 79,
     "metadata": {},
     "output_type": "execute_result"
    }
   ],
   "source": [
    "np.unique(clf.predict(X))"
   ]
  },
  {
   "cell_type": "markdown",
   "metadata": {},
   "source": [
    "### 2.2 Gaussian Naive Bayes"
   ]
  },
  {
   "cell_type": "code",
   "execution_count": 74,
   "metadata": {},
   "outputs": [
    {
     "data": {
      "text/plain": [
       "0.10008857395925598"
      ]
     },
     "execution_count": 74,
     "metadata": {},
     "output_type": "execute_result"
    }
   ],
   "source": [
    "#Import Library of Gaussian Naive Bayes model\n",
    "from sklearn.naive_bayes import GaussianNB\n",
    "gnb = GaussianNB()\n",
    "\n",
    "gnb.fit(X, yTrain)\n",
    "gnb.score(X,yTrain)"
   ]
  },
  {
   "cell_type": "code",
   "execution_count": 83,
   "metadata": {
    "scrolled": true
   },
   "outputs": [
    {
     "data": {
      "text/plain": [
       "array([ 2,  4,  6,  8, 10])"
      ]
     },
     "execution_count": 83,
     "metadata": {},
     "output_type": "execute_result"
    }
   ],
   "source": [
    "gnb.predict(X)\n",
    "np.unique(gnb.predict(X))"
   ]
  },
  {
   "cell_type": "code",
   "execution_count": 115,
   "metadata": {},
   "outputs": [],
   "source": [
    "xTrain = pd.read_csv(\"X.csv\")\n",
    "y0 = pd.read_csv(\"y0.csv\")\n",
    "\n",
    "y0 = y0.iloc[:, 1:2]"
   ]
  },
  {
   "cell_type": "markdown",
   "metadata": {},
   "source": [
    "### 2.3 Random Forests "
   ]
  },
  {
   "cell_type": "code",
   "execution_count": 104,
   "metadata": {},
   "outputs": [
    {
     "data": {
      "text/plain": [
       "0.524800708591674"
      ]
     },
     "execution_count": 104,
     "metadata": {},
     "output_type": "execute_result"
    }
   ],
   "source": [
    "import sklearn.metrics as skm\n",
    "from sklearn.ensemble import RandomForestClassifier as RFClass\n",
    "model_rf = RFClass(n_estimators = 100, max_depth=5, random_state=2019)\n",
    "model_rf.fit(X, yTrain)\n",
    "model_rf.score(X, yTrain)"
   ]
  },
  {
   "cell_type": "code",
   "execution_count": 106,
   "metadata": {},
   "outputs": [
    {
     "data": {
      "text/plain": [
       "array([ 2,  4,  6,  8, 10])"
      ]
     },
     "execution_count": 106,
     "metadata": {},
     "output_type": "execute_result"
    }
   ],
   "source": [
    "model_rf.predict(X)\n",
    "np.unique(gnb.predict(X))"
   ]
  }
 ],
 "metadata": {
  "kernelspec": {
   "display_name": "Python 3",
   "language": "python",
   "name": "python3"
  },
  "language_info": {
   "codemirror_mode": {
    "name": "ipython",
    "version": 3
   },
   "file_extension": ".py",
   "mimetype": "text/x-python",
   "name": "python",
   "nbconvert_exporter": "python",
   "pygments_lexer": "ipython3",
   "version": "3.7.3"
  }
 },
 "nbformat": 4,
 "nbformat_minor": 2
}
