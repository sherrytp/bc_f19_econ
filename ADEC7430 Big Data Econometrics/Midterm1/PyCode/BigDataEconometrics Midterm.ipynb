{
 "cells": [
  {
   "cell_type": "markdown",
   "metadata": {},
   "source": [
    "# _Setup \n",
    "import needed packages"
   ]
  },
  {
   "cell_type": "code",
   "execution_count": 3,
   "metadata": {},
   "outputs": [],
   "source": [
    "import os\n",
    "import pandas as pd\n",
    "import numpy as np\n",
    "import random\n",
    "import sys\n",
    "\n",
    "import scipy\n",
    "import sklearn\n",
    "\n",
    "from matplotlib import pyplot as plt\n",
    "from sklearn.metrics import confusion_matrix as skm_conf_mat\n",
    "from sklearn.model_selection import train_test_split as skl_traintest_split\n",
    "from sklearn.utils import shuffle\n",
    "\n",
    "import sklearn.metrics as skm\n",
    "\n",
    "import datetime as DT"
   ]
  },
  {
   "cell_type": "markdown",
   "metadata": {},
   "source": [
    "Specify working dictionary "
   ]
  },
  {
   "cell_type": "code",
   "execution_count": 4,
   "metadata": {},
   "outputs": [],
   "source": [
    "projFld = \"/Users/apple/Desktop/ADEC7430 Big Data Econometrics/Lecture08\"\n",
    "codeFld = os.path.join(projFld, \"PyCode\")\n",
    "fnsFld = os.path.join(codeFld,\"_Functions\")\n",
    "outputFld = os.path.join(projFld, \"Output\")\n",
    "rawDataFld = os.path.join(projFld, \"RawData\")\n",
    "savedDataFld = os.path.join(projFld, \"SavedData\")"
   ]
  },
  {
   "cell_type": "markdown",
   "metadata": {},
   "source": [
    "import function packages"
   ]
  },
  {
   "cell_type": "code",
   "execution_count": 5,
   "metadata": {},
   "outputs": [
    {
     "name": "stdout",
     "output_type": "stream",
     "text": [
      "\n",
      "  dsin = dataset input\n",
      "  varsToDummy = list of variable names which are to be transformed into dummies\n",
      "  dsout = dataset output\n",
      "\n"
     ]
    }
   ],
   "source": [
    "fnList = [\n",
    "         \"fn_logMyInfo\"\n",
    "        ,\"fn_confusionMatrixInfo\"\n",
    "        ,\"fn_MakeDummies\"\n",
    "        ,\"fn_InfoFromTree\"\n",
    "        ] \n",
    "for fn in fnList:\n",
    "    exec(open(os.path.join(fnsFld, fn + \".py\")).read())\n",
    "\n",
    "print(fn_MakeDummies.__doc__)"
   ]
  },
  {
   "cell_type": "markdown",
   "metadata": {},
   "source": [
    "# _Load and Prepare Data\n",
    "import data"
   ]
  },
  {
   "cell_type": "code",
   "execution_count": 6,
   "metadata": {},
   "outputs": [],
   "source": [
    "#Import Data\n",
    "kdigits = pd.read_csv(os.path.join(rawDataFld, \"KDigits_train.csv\"))"
   ]
  },
  {
   "cell_type": "code",
   "execution_count": 7,
   "metadata": {},
   "outputs": [
    {
     "data": {
      "text/plain": [
       "(42000, 785)"
      ]
     },
     "execution_count": 7,
     "metadata": {},
     "output_type": "execute_result"
    }
   ],
   "source": [
    "kdigits.shape"
   ]
  },
  {
   "cell_type": "code",
   "execution_count": 8,
   "metadata": {},
   "outputs": [
    {
     "data": {
      "text/html": [
       "<div>\n",
       "<style scoped>\n",
       "    .dataframe tbody tr th:only-of-type {\n",
       "        vertical-align: middle;\n",
       "    }\n",
       "\n",
       "    .dataframe tbody tr th {\n",
       "        vertical-align: top;\n",
       "    }\n",
       "\n",
       "    .dataframe thead th {\n",
       "        text-align: right;\n",
       "    }\n",
       "</style>\n",
       "<table border=\"1\" class=\"dataframe\">\n",
       "  <thead>\n",
       "    <tr style=\"text-align: right;\">\n",
       "      <th></th>\n",
       "      <th>label</th>\n",
       "      <th>pixel0</th>\n",
       "      <th>pixel1</th>\n",
       "      <th>pixel2</th>\n",
       "      <th>pixel3</th>\n",
       "      <th>pixel4</th>\n",
       "      <th>pixel5</th>\n",
       "      <th>pixel6</th>\n",
       "      <th>pixel7</th>\n",
       "      <th>pixel8</th>\n",
       "      <th>...</th>\n",
       "      <th>pixel774</th>\n",
       "      <th>pixel775</th>\n",
       "      <th>pixel776</th>\n",
       "      <th>pixel777</th>\n",
       "      <th>pixel778</th>\n",
       "      <th>pixel779</th>\n",
       "      <th>pixel780</th>\n",
       "      <th>pixel781</th>\n",
       "      <th>pixel782</th>\n",
       "      <th>pixel783</th>\n",
       "    </tr>\n",
       "  </thead>\n",
       "  <tbody>\n",
       "    <tr>\n",
       "      <th>0</th>\n",
       "      <td>1</td>\n",
       "      <td>0</td>\n",
       "      <td>0</td>\n",
       "      <td>0</td>\n",
       "      <td>0</td>\n",
       "      <td>0</td>\n",
       "      <td>0</td>\n",
       "      <td>0</td>\n",
       "      <td>0</td>\n",
       "      <td>0</td>\n",
       "      <td>...</td>\n",
       "      <td>0</td>\n",
       "      <td>0</td>\n",
       "      <td>0</td>\n",
       "      <td>0</td>\n",
       "      <td>0</td>\n",
       "      <td>0</td>\n",
       "      <td>0</td>\n",
       "      <td>0</td>\n",
       "      <td>0</td>\n",
       "      <td>0</td>\n",
       "    </tr>\n",
       "    <tr>\n",
       "      <th>1</th>\n",
       "      <td>0</td>\n",
       "      <td>0</td>\n",
       "      <td>0</td>\n",
       "      <td>0</td>\n",
       "      <td>0</td>\n",
       "      <td>0</td>\n",
       "      <td>0</td>\n",
       "      <td>0</td>\n",
       "      <td>0</td>\n",
       "      <td>0</td>\n",
       "      <td>...</td>\n",
       "      <td>0</td>\n",
       "      <td>0</td>\n",
       "      <td>0</td>\n",
       "      <td>0</td>\n",
       "      <td>0</td>\n",
       "      <td>0</td>\n",
       "      <td>0</td>\n",
       "      <td>0</td>\n",
       "      <td>0</td>\n",
       "      <td>0</td>\n",
       "    </tr>\n",
       "    <tr>\n",
       "      <th>2</th>\n",
       "      <td>1</td>\n",
       "      <td>0</td>\n",
       "      <td>0</td>\n",
       "      <td>0</td>\n",
       "      <td>0</td>\n",
       "      <td>0</td>\n",
       "      <td>0</td>\n",
       "      <td>0</td>\n",
       "      <td>0</td>\n",
       "      <td>0</td>\n",
       "      <td>...</td>\n",
       "      <td>0</td>\n",
       "      <td>0</td>\n",
       "      <td>0</td>\n",
       "      <td>0</td>\n",
       "      <td>0</td>\n",
       "      <td>0</td>\n",
       "      <td>0</td>\n",
       "      <td>0</td>\n",
       "      <td>0</td>\n",
       "      <td>0</td>\n",
       "    </tr>\n",
       "    <tr>\n",
       "      <th>3</th>\n",
       "      <td>4</td>\n",
       "      <td>0</td>\n",
       "      <td>0</td>\n",
       "      <td>0</td>\n",
       "      <td>0</td>\n",
       "      <td>0</td>\n",
       "      <td>0</td>\n",
       "      <td>0</td>\n",
       "      <td>0</td>\n",
       "      <td>0</td>\n",
       "      <td>...</td>\n",
       "      <td>0</td>\n",
       "      <td>0</td>\n",
       "      <td>0</td>\n",
       "      <td>0</td>\n",
       "      <td>0</td>\n",
       "      <td>0</td>\n",
       "      <td>0</td>\n",
       "      <td>0</td>\n",
       "      <td>0</td>\n",
       "      <td>0</td>\n",
       "    </tr>\n",
       "    <tr>\n",
       "      <th>4</th>\n",
       "      <td>0</td>\n",
       "      <td>0</td>\n",
       "      <td>0</td>\n",
       "      <td>0</td>\n",
       "      <td>0</td>\n",
       "      <td>0</td>\n",
       "      <td>0</td>\n",
       "      <td>0</td>\n",
       "      <td>0</td>\n",
       "      <td>0</td>\n",
       "      <td>...</td>\n",
       "      <td>0</td>\n",
       "      <td>0</td>\n",
       "      <td>0</td>\n",
       "      <td>0</td>\n",
       "      <td>0</td>\n",
       "      <td>0</td>\n",
       "      <td>0</td>\n",
       "      <td>0</td>\n",
       "      <td>0</td>\n",
       "      <td>0</td>\n",
       "    </tr>\n",
       "  </tbody>\n",
       "</table>\n",
       "<p>5 rows × 785 columns</p>\n",
       "</div>"
      ],
      "text/plain": [
       "   label  pixel0  pixel1  pixel2  pixel3  pixel4  pixel5  pixel6  pixel7  \\\n",
       "0      1       0       0       0       0       0       0       0       0   \n",
       "1      0       0       0       0       0       0       0       0       0   \n",
       "2      1       0       0       0       0       0       0       0       0   \n",
       "3      4       0       0       0       0       0       0       0       0   \n",
       "4      0       0       0       0       0       0       0       0       0   \n",
       "\n",
       "   pixel8    ...     pixel774  pixel775  pixel776  pixel777  pixel778  \\\n",
       "0       0    ...            0         0         0         0         0   \n",
       "1       0    ...            0         0         0         0         0   \n",
       "2       0    ...            0         0         0         0         0   \n",
       "3       0    ...            0         0         0         0         0   \n",
       "4       0    ...            0         0         0         0         0   \n",
       "\n",
       "   pixel779  pixel780  pixel781  pixel782  pixel783  \n",
       "0         0         0         0         0         0  \n",
       "1         0         0         0         0         0  \n",
       "2         0         0         0         0         0  \n",
       "3         0         0         0         0         0  \n",
       "4         0         0         0         0         0  \n",
       "\n",
       "[5 rows x 785 columns]"
      ]
     },
     "execution_count": 8,
     "metadata": {},
     "output_type": "execute_result"
    }
   ],
   "source": [
    "kdigits.head() #784 pixels in 28x28 frame"
   ]
  },
  {
   "cell_type": "code",
   "execution_count": 9,
   "metadata": {},
   "outputs": [
    {
     "data": {
      "text/plain": [
       "label         9\n",
       "pixel0        0\n",
       "pixel1        0\n",
       "pixel2        0\n",
       "pixel3        0\n",
       "pixel4        0\n",
       "pixel5        0\n",
       "pixel6        0\n",
       "pixel7        0\n",
       "pixel8        0\n",
       "pixel9        0\n",
       "pixel10       0\n",
       "pixel11       0\n",
       "pixel12     116\n",
       "pixel13     254\n",
       "pixel14     216\n",
       "pixel15       9\n",
       "pixel16       0\n",
       "pixel17       0\n",
       "pixel18       0\n",
       "pixel19       0\n",
       "pixel20       0\n",
       "pixel21       0\n",
       "pixel22       0\n",
       "pixel23       0\n",
       "pixel24       0\n",
       "pixel25       0\n",
       "pixel26       0\n",
       "pixel27       0\n",
       "pixel28       0\n",
       "           ... \n",
       "pixel754      0\n",
       "pixel755      0\n",
       "pixel756      0\n",
       "pixel757      0\n",
       "pixel758      0\n",
       "pixel759      0\n",
       "pixel760      0\n",
       "pixel761    177\n",
       "pixel762    231\n",
       "pixel763    253\n",
       "pixel764    254\n",
       "pixel765    254\n",
       "pixel766    255\n",
       "pixel767    255\n",
       "pixel768    255\n",
       "pixel769    255\n",
       "pixel770    255\n",
       "pixel771    255\n",
       "pixel772    255\n",
       "pixel773    255\n",
       "pixel774    254\n",
       "pixel775    254\n",
       "pixel776    253\n",
       "pixel777    253\n",
       "pixel778    254\n",
       "pixel779     62\n",
       "pixel780      0\n",
       "pixel781      0\n",
       "pixel782      0\n",
       "pixel783      0\n",
       "Length: 785, dtype: int64"
      ]
     },
     "execution_count": 9,
     "metadata": {},
     "output_type": "execute_result"
    }
   ],
   "source": [
    "kdigits.max()  #Pixel values cover full range 0-255"
   ]
  },
  {
   "cell_type": "code",
   "execution_count": 10,
   "metadata": {},
   "outputs": [
    {
     "data": {
      "text/plain": [
       "(33600, 785)"
      ]
     },
     "execution_count": 10,
     "metadata": {},
     "output_type": "execute_result"
    }
   ],
   "source": [
    "train, test = skl_traintest_split(kdigits.copy(), test_size = 0.20, random_state = 2019)\n",
    "train.shape"
   ]
  },
  {
   "cell_type": "markdown",
   "metadata": {},
   "source": [
    "Scale data for 0/1 "
   ]
  },
  {
   "cell_type": "code",
   "execution_count": 11,
   "metadata": {},
   "outputs": [],
   "source": [
    "def scale(data):\n",
    "    X = data.drop(columns = {'label'})\n",
    "    #Scale variance\n",
    "    stdev = np.std(X, axis = 1)\n",
    "    X_scaled = X.mul(1/stdev, axis = 0)\n",
    "    #np.std(X_scaled, axis = 1) #Consistent variance across digits\n",
    "    \n",
    "    #Scale magnitude\n",
    "    max_scale = X_scaled.max(axis=1) #Generate a vector of max values from each row\n",
    "    X_scaled = X_scaled.mul(1/max_scale, axis=0) #Scale from 0-1 for each digit\n",
    "    \n",
    "    #np.std(X_train_scaled, axis = 1) # No longer consistet variance b/c we scaled the magnitude\n",
    "    #This shows scaling variance does nothing b/c we also scaled magnitude. No difference in variance after magnitudes scaled\n",
    "    #np.mean(np.std(X_train.mul(1/X_train.max(axis=1),axis =0),axis=1) - np.std(X_train_scaled, axis = 1))\n",
    "    \n",
    "    #Add labels back\n",
    "    data = pd.concat([data['label'],X_scaled], axis = 1)\n",
    "    return data\n",
    "\n",
    "train = scale(train)\n",
    "test = scale(test)"
   ]
  },
  {
   "cell_type": "markdown",
   "metadata": {},
   "source": [
    "split Train/Test data for 50/50 bifurcation"
   ]
  },
  {
   "cell_type": "code",
   "execution_count": 12,
   "metadata": {},
   "outputs": [],
   "source": [
    "def bifurcateDigits(whichSeries, value, train = True):\n",
    "    temp = whichSeries.copy()\n",
    "    if(value >= 10):\n",
    "        print(\"Value's only range from 0-9\")\n",
    "        return\n",
    "    #Boolean for label = value\n",
    "    temp['label'] = (temp['label'] == value).astype(int)\n",
    "    #Split T/F\n",
    "    x1 = temp[temp['label'] == 1]\n",
    "    x2 = temp[temp['label'] == 0]\n",
    "    #Identify proportion of value to not value\n",
    "    prop = len(x1)/len(x2)\n",
    "    #Randomly select a subset of size prop from x2 (value = False)\n",
    "    random.seed(2019)\n",
    "    rndindex = [random.uniform(0,1) for x in range(x2.shape[0])]\n",
    "    rndindex = [True if x < prop else False for x in rndindex]\n",
    "    x2 = x2.loc[rndindex]\n",
    "    #Shuffled subset of original with ~50/50 value to not value\n",
    "    temp = shuffle(x1.append(x2))\n",
    "    #Isolate dependent var from predictors for either train/test data\n",
    "    if(train == False):\n",
    "        global y_test, X_test\n",
    "        y_test = temp['label']\n",
    "        X_test = temp.drop(columns = {'label'})\n",
    "    else:\n",
    "        global y_train, X_train\n",
    "        y_train = temp['label']\n",
    "        X_train= temp.drop(columns = {'label'})\n",
    "\n",
    "bifurcateDigits(train, 1, train = True)"
   ]
  },
  {
   "cell_type": "markdown",
   "metadata": {},
   "source": [
    "View visual data"
   ]
  },
  {
   "cell_type": "code",
   "execution_count": 13,
   "metadata": {},
   "outputs": [
    {
     "data": {
      "image/png": "[encoded data removed]",
      "text/plain": [
       "<Figure size 432x288 with 1 Axes>"
      ]
     },
     "metadata": {
      "needs_background": "light"
     },
     "output_type": "display_data"
    }
   ],
   "source": [
    "def viewDigits(whichSeries, threshold=None, dtype = 'float'):\n",
    "    whichSeries = np.array(whichSeries, dtype=dtype)\n",
    "    if threshold is not None:\n",
    "        whichSeries = (whichSeries > threshold).astype(int)\n",
    "    plt.imshow(whichSeries.reshape((28,28)), cmap='gray')\n",
    "\n",
    "viewDigits(X_train.iloc[100])"
   ]
  },
  {
   "cell_type": "code",
   "execution_count": 15,
   "metadata": {},
   "outputs": [
    {
     "name": "stdout",
     "output_type": "stream",
     "text": [
      "0    3809\n",
      "1    3801\n",
      "Name: label, dtype: int64\n"
     ]
    }
   ],
   "source": [
    "print(y_train.value_counts())"
   ]
  },
  {
   "cell_type": "code",
   "execution_count": 16,
   "metadata": {},
   "outputs": [
    {
     "name": "stdout",
     "output_type": "stream",
     "text": [
      "0    3809\n",
      "1    3801\n",
      "Name: label, dtype: int64\n"
     ]
    }
   ],
   "source": [
    "bifurcateDigits(train, 1, train = False)\n",
    "print(y_test.value_counts())"
   ]
  },
  {
   "cell_type": "markdown",
   "metadata": {},
   "source": [
    "# Random Forest"
   ]
  },
  {
   "cell_type": "markdown",
   "metadata": {},
   "source": [
    "AUC(digits 0-9)\n",
    "[0.9986819154058043,\n",
    " 0.9988793489425584,\n",
    " 0.9938654160211046,\n",
    " 0.991160197793199,\n",
    " 0.9930134520651762,\n",
    " 0.9924250960307299,\n",
    " 0.9978484439498339,\n",
    " 0.9972701508710511,\n",
    " 0.9918733492740712,\n",
    " 0.9853639556374396]\n",
    "\n",
    "Accuracy(Digits 0-9)\n",
    "[0.9855527638190955,\n",
    " 0.9873780837636259,\n",
    " 0.9686946249261665,\n",
    " 0.9541809851088202,\n",
    " 0.9635036496350365,\n",
    " 0.9601567602873938,\n",
    " 0.9798994974874372,\n",
    " 0.9817324690630524,\n",
    " 0.9564958283671037,\n",
    " 0.9397590361445783]"
   ]
  },
  {
   "cell_type": "markdown",
   "metadata": {},
   "source": [
    "# Gradient Boosting\n",
    "import from sklearn and build the model"
   ]
  },
  {
   "cell_type": "code",
   "execution_count": 21,
   "metadata": {},
   "outputs": [],
   "source": [
    "from sklearn.ensemble import GradientBoostingClassifier as GBClass\n",
    "params = {'n_estimators':100, 'subsample':1.0, 'learning_rate':0.1}\n",
    "params = dict(params)\n",
    "model_gbc = GBClass(**params)"
   ]
  },
  {
   "cell_type": "markdown",
   "metadata": {},
   "source": [
    "run models in loops to seperate each digit number "
   ]
  },
  {
   "cell_type": "code",
   "execution_count": 43,
   "metadata": {},
   "outputs": [
    {
     "data": {
      "text/plain": [
       "{'confusionMatrix': array([[3320,  489],\n",
       "        [3800,    1]]),\n",
       " 'accuracy': 0.4363994743758213,\n",
       " 'no information rate': 0.5005256241787123,\n",
       " 'sensitivity': 0.8716198477290628,\n",
       " 'specificity': 0.00026308866087871614}"
      ]
     },
     "execution_count": 43,
     "metadata": {},
     "output_type": "execute_result"
    }
   ],
   "source": [
    "bifurcateDigits(train, 0, train = True)   # when the digit is 0 \n",
    "model_gbc.fit(X_train, y_train)\n",
    "pred_Y = model_gbc.predict(X_test)\n",
    "z_gbc = model_gbc.predict_proba(X_test)[:,1]\n",
    "\n",
    "confusionMatrixInfo(pred_Y, y_test, labels = None)"
   ]
  },
  {
   "cell_type": "markdown",
   "metadata": {},
   "source": [
    "RUC and AUC rate "
   ]
  },
  {
   "cell_type": "code",
   "execution_count": 44,
   "metadata": {},
   "outputs": [
    {
     "data": {
      "text/plain": [
       "0.14890825112762396"
      ]
     },
     "execution_count": 44,
     "metadata": {},
     "output_type": "execute_result"
    }
   ],
   "source": [
    "fpr_gbc, tpr_gbc, thresh_gbc = skm.roc_curve(y_test, z_gbc)\n",
    "# plt.figure(1)\n",
    "# plt.plot(fpr_gbc, tpr_gbc, 'r-')\n",
    "\n",
    "# AUC \n",
    "skm.auc(fpr_gbc,tpr_gbc)"
   ]
  },
  {
   "cell_type": "code",
   "execution_count": 22,
   "metadata": {},
   "outputs": [
    {
     "data": {
      "text/plain": [
       "{'confusionMatrix': array([[3797,   12],\n",
       "        [  13, 3788]]),\n",
       " 'accuracy': 0.9967148488830486,\n",
       " 'no information rate': 0.5005256241787123,\n",
       " 'sensitivity': 0.9968495668154371,\n",
       " 'specificity': 0.9965798474085766}"
      ]
     },
     "execution_count": 22,
     "metadata": {},
     "output_type": "execute_result"
    }
   ],
   "source": [
    "bifurcateDigits(train, 1, train = True)   # when the digit is 1 \n",
    "bifurcateDigits(test, 1, train = False)\n",
    "model_gbc.fit(X_train, y_train)\n",
    "pred_Y = model_gbc.predict(X_test)\n",
    "z_gbc = model_gbc.predict_proba(X_test)[:,1]\n",
    "\n",
    "confusionMatrixInfo(pred_Y, y_test, labels = None)"
   ]
  },
  {
   "cell_type": "markdown",
   "metadata": {},
   "source": [
    "RUC and AUC rate "
   ]
  },
  {
   "cell_type": "code",
   "execution_count": 25,
   "metadata": {},
   "outputs": [
    {
     "data": {
      "text/plain": [
       "0.9999691255890226"
      ]
     },
     "execution_count": 25,
     "metadata": {},
     "output_type": "execute_result"
    }
   ],
   "source": [
    "fpr_gbc, tpr_gbc, thresh_gbc = skm.roc_curve(y_test, z_gbc)\n",
    "# plt.figure(1)\n",
    "# plt.plot(fpr_gbc, tpr_gbc, 'r-')\n",
    "\n",
    "# AUC \n",
    "skm.auc(fpr_gbc,tpr_gbc)"
   ]
  },
  {
   "cell_type": "code",
   "execution_count": 26,
   "metadata": {},
   "outputs": [
    {
     "data": {
      "text/plain": [
       "{'confusionMatrix': array([[3331,  478],\n",
       "        [3760,   41]]),\n",
       " 'accuracy': 0.4431011826544021,\n",
       " 'no information rate': 0.5005256241787123,\n",
       " 'sensitivity': 0.874507744814912,\n",
       " 'specificity': 0.01078663509602736}"
      ]
     },
     "execution_count": 26,
     "metadata": {},
     "output_type": "execute_result"
    }
   ],
   "source": [
    "bifurcateDigits(train, 2, train = True)   # when the digit is 2 \n",
    "bifurcateDigits(test, 2, train = False)\n",
    "model_gbc.fit(X_train, y_train)\n",
    "pred_Y = model_gbc.predict(X_test)\n",
    "z_gbc = model_gbc.predict_proba(X_test)[:,1]\n",
    "\n",
    "confusionMatrixInfo(pred_Y, y_test, labels = None)"
   ]
  },
  {
   "cell_type": "markdown",
   "metadata": {},
   "source": [
    "RUC and AUC rate "
   ]
  },
  {
   "cell_type": "code",
   "execution_count": 28,
   "metadata": {},
   "outputs": [
    {
     "data": {
      "text/plain": [
       "0.5759142710852024"
      ]
     },
     "execution_count": 28,
     "metadata": {},
     "output_type": "execute_result"
    }
   ],
   "source": [
    "fpr_gbc, tpr_gbc, thresh_gbc = skm.roc_curve(y_test, z_gbc)\n",
    "# plt.figure(1)\n",
    "# plt.plot(fpr_gbc, tpr_gbc, 'r-')\n",
    "\n",
    "# AUC \n",
    "skm.auc(fpr_gbc,tpr_gbc)"
   ]
  },
  {
   "cell_type": "code",
   "execution_count": 29,
   "metadata": {},
   "outputs": [
    {
     "data": {
      "text/plain": [
       "{'confusionMatrix': array([[3238,  571],\n",
       "        [3756,   45]]),\n",
       " 'accuracy': 0.4314060446780552,\n",
       " 'no information rate': 0.5005256241787123,\n",
       " 'sensitivity': 0.8500918876345498,\n",
       " 'specificity': 0.011838989739542225}"
      ]
     },
     "execution_count": 29,
     "metadata": {},
     "output_type": "execute_result"
    }
   ],
   "source": [
    "bifurcateDigits(train, 3, train = True)   # when the digit is 3 \n",
    "bifurcateDigits(test, 3, train = False)\n",
    "model_gbc.fit(X_train, y_train)\n",
    "pred_Y = model_gbc.predict(X_test)\n",
    "z_gbc = model_gbc.predict_proba(X_test)[:,1]\n",
    "\n",
    "confusionMatrixInfo(pred_Y, y_test, labels = None)"
   ]
  },
  {
   "cell_type": "markdown",
   "metadata": {},
   "source": [
    "RUC and AUC rate "
   ]
  },
  {
   "cell_type": "code",
   "execution_count": 30,
   "metadata": {},
   "outputs": [
    {
     "data": {
      "text/plain": [
       "0.4928053988638907"
      ]
     },
     "execution_count": 30,
     "metadata": {},
     "output_type": "execute_result"
    }
   ],
   "source": [
    "fpr_gbc, tpr_gbc, thresh_gbc = skm.roc_curve(y_test, z_gbc)\n",
    "# plt.figure(1)\n",
    "# plt.plot(fpr_gbc, tpr_gbc, 'r-')\n",
    "\n",
    "# AUC \n",
    "skm.auc(fpr_gbc,tpr_gbc)"
   ]
  },
  {
   "cell_type": "code",
   "execution_count": 31,
   "metadata": {},
   "outputs": [
    {
     "data": {
      "text/plain": [
       "{'confusionMatrix': array([[3318,  491],\n",
       "        [3788,   13]]),\n",
       " 'accuracy': 0.43771353482260184,\n",
       " 'no information rate': 0.5005256241787123,\n",
       " 'sensitivity': 0.8710947755316356,\n",
       " 'specificity': 0.0034201525914233097}"
      ]
     },
     "execution_count": 31,
     "metadata": {},
     "output_type": "execute_result"
    }
   ],
   "source": [
    "bifurcateDigits(train, 4, train = True)   # when the digit is 4 \n",
    "bifurcateDigits(test, 4, train = False)\n",
    "model_gbc.fit(X_train, y_train)\n",
    "pred_Y = model_gbc.predict(X_test)\n",
    "z_gbc = model_gbc.predict_proba(X_test)[:,1]\n",
    "\n",
    "confusionMatrixInfo(pred_Y, y_test, labels = None)"
   ]
  },
  {
   "cell_type": "markdown",
   "metadata": {},
   "source": [
    "RUC and AUC rate "
   ]
  },
  {
   "cell_type": "code",
   "execution_count": 32,
   "metadata": {},
   "outputs": [
    {
     "data": {
      "text/plain": [
       "0.46413978607141354"
      ]
     },
     "execution_count": 32,
     "metadata": {},
     "output_type": "execute_result"
    }
   ],
   "source": [
    "fpr_gbc, tpr_gbc, thresh_gbc = skm.roc_curve(y_test, z_gbc)\n",
    "# plt.figure(1)\n",
    "# plt.plot(fpr_gbc, tpr_gbc, 'r-')\n",
    "\n",
    "# AUC \n",
    "skm.auc(fpr_gbc,tpr_gbc)"
   ]
  },
  {
   "cell_type": "code",
   "execution_count": 33,
   "metadata": {},
   "outputs": [
    {
     "data": {
      "text/plain": [
       "{'confusionMatrix': array([[3290,  519],\n",
       "        [3779,   22]]),\n",
       " 'accuracy': 0.4352168199737188,\n",
       " 'no information rate': 0.5005256241787123,\n",
       " 'sensitivity': 0.8637437647676556,\n",
       " 'specificity': 0.005787950539331755}"
      ]
     },
     "execution_count": 33,
     "metadata": {},
     "output_type": "execute_result"
    }
   ],
   "source": [
    "bifurcateDigits(train, 5, train = True)   # when the digit is 5 \n",
    "bifurcateDigits(test, 5, train = False)\n",
    "model_gbc.fit(X_train, y_train)\n",
    "pred_Y = model_gbc.predict(X_test)\n",
    "z_gbc = model_gbc.predict_proba(X_test)[:,1]\n",
    "\n",
    "confusionMatrixInfo(pred_Y, y_test, labels = None)"
   ]
  },
  {
   "cell_type": "markdown",
   "metadata": {},
   "source": [
    "RUC and AUC rate "
   ]
  },
  {
   "cell_type": "code",
   "execution_count": 34,
   "metadata": {},
   "outputs": [
    {
     "data": {
      "text/plain": [
       "0.39328598289999683"
      ]
     },
     "execution_count": 34,
     "metadata": {},
     "output_type": "execute_result"
    }
   ],
   "source": [
    "fpr_gbc, tpr_gbc, thresh_gbc = skm.roc_curve(y_test, z_gbc)\n",
    "# plt.figure(1)\n",
    "# plt.plot(fpr_gbc, tpr_gbc, 'r-')\n",
    "\n",
    "# AUC \n",
    "skm.auc(fpr_gbc,tpr_gbc)"
   ]
  },
  {
   "cell_type": "code",
   "execution_count": 35,
   "metadata": {},
   "outputs": [
    {
     "data": {
      "text/plain": [
       "{'confusionMatrix': array([[3339,  470],\n",
       "        [3775,   26]]),\n",
       " 'accuracy': 0.44218134034165574,\n",
       " 'no information rate': 0.5005256241787123,\n",
       " 'sensitivity': 0.8766080336046206,\n",
       " 'specificity': 0.0068403051828466194}"
      ]
     },
     "execution_count": 35,
     "metadata": {},
     "output_type": "execute_result"
    }
   ],
   "source": [
    "bifurcateDigits(train, 6, train = True)   # when the digit is 6 \n",
    "bifurcateDigits(test, 6, train = False)\n",
    "model_gbc.fit(X_train, y_train)\n",
    "pred_Y = model_gbc.predict(X_test)\n",
    "z_gbc = model_gbc.predict_proba(X_test)[:,1]\n",
    "\n",
    "confusionMatrixInfo(pred_Y, y_test, labels = None)"
   ]
  },
  {
   "cell_type": "markdown",
   "metadata": {},
   "source": [
    "RUC and AUC rate "
   ]
  },
  {
   "cell_type": "code",
   "execution_count": 36,
   "metadata": {},
   "outputs": [
    {
     "data": {
      "text/plain": [
       "0.4862796396935518"
      ]
     },
     "execution_count": 36,
     "metadata": {},
     "output_type": "execute_result"
    }
   ],
   "source": [
    "fpr_gbc, tpr_gbc, thresh_gbc = skm.roc_curve(y_test, z_gbc)\n",
    "# plt.figure(1)\n",
    "# plt.plot(fpr_gbc, tpr_gbc, 'r-')\n",
    "\n",
    "# AUC \n",
    "skm.auc(fpr_gbc,tpr_gbc)"
   ]
  },
  {
   "cell_type": "code",
   "execution_count": 37,
   "metadata": {},
   "outputs": [
    {
     "data": {
      "text/plain": [
       "{'confusionMatrix': array([[3283,  526],\n",
       "        [3777,   24]]),\n",
       " 'accuracy': 0.4345597897503285,\n",
       " 'no information rate': 0.5005256241787123,\n",
       " 'sensitivity': 0.8619060120766605,\n",
       " 'specificity': 0.006314127861089187}"
      ]
     },
     "execution_count": 37,
     "metadata": {},
     "output_type": "execute_result"
    }
   ],
   "source": [
    "bifurcateDigits(train, 7, train = True)   # when the digit is 7 \n",
    "bifurcateDigits(test, 7, train = False)\n",
    "model_gbc.fit(X_train, y_train)\n",
    "pred_Y = model_gbc.predict(X_test)\n",
    "z_gbc = model_gbc.predict_proba(X_test)[:,1]\n",
    "\n",
    "confusionMatrixInfo(pred_Y, y_test, labels = None)"
   ]
  },
  {
   "cell_type": "markdown",
   "metadata": {},
   "source": [
    "RUC and AUC rate "
   ]
  },
  {
   "cell_type": "code",
   "execution_count": 38,
   "metadata": {},
   "outputs": [
    {
     "data": {
      "text/plain": [
       "0.5655071771263577"
      ]
     },
     "execution_count": 38,
     "metadata": {},
     "output_type": "execute_result"
    }
   ],
   "source": [
    "fpr_gbc, tpr_gbc, thresh_gbc = skm.roc_curve(y_test, z_gbc)\n",
    "# plt.figure(1)\n",
    "# plt.plot(fpr_gbc, tpr_gbc, 'r-')\n",
    "\n",
    "# AUC \n",
    "skm.auc(fpr_gbc,tpr_gbc)"
   ]
  },
  {
   "cell_type": "code",
   "execution_count": 39,
   "metadata": {},
   "outputs": [
    {
     "data": {
      "text/plain": [
       "{'confusionMatrix': array([[3294,  515],\n",
       "        [3706,   95]]),\n",
       " 'accuracy': 0.445335085413929,\n",
       " 'no information rate': 0.5005256241787123,\n",
       " 'sensitivity': 0.8647939091625099,\n",
       " 'specificity': 0.024993422783478034}"
      ]
     },
     "execution_count": 39,
     "metadata": {},
     "output_type": "execute_result"
    }
   ],
   "source": [
    "bifurcateDigits(train, 8, train = True)   # when the digit is 8 \n",
    "bifurcateDigits(test, 8, train = False)\n",
    "model_gbc.fit(X_train, y_train)\n",
    "pred_Y = model_gbc.predict(X_test)\n",
    "z_gbc = model_gbc.predict_proba(X_test)[:,1]\n",
    "\n",
    "confusionMatrixInfo(pred_Y, y_test, labels = None)"
   ]
  },
  {
   "cell_type": "markdown",
   "metadata": {},
   "source": [
    "RUC and AUC rate "
   ]
  },
  {
   "cell_type": "code",
   "execution_count": 40,
   "metadata": {},
   "outputs": [
    {
     "data": {
      "text/plain": [
       "0.489022696421863"
      ]
     },
     "execution_count": 40,
     "metadata": {},
     "output_type": "execute_result"
    }
   ],
   "source": [
    "fpr_gbc, tpr_gbc, thresh_gbc = skm.roc_curve(y_test, z_gbc)\n",
    "# plt.figure(1)\n",
    "# plt.plot(fpr_gbc, tpr_gbc, 'r-')\n",
    "\n",
    "# AUC \n",
    "skm.auc(fpr_gbc,tpr_gbc)"
   ]
  },
  {
   "cell_type": "code",
   "execution_count": 41,
   "metadata": {},
   "outputs": [
    {
     "data": {
      "text/plain": [
       "{'confusionMatrix': array([[3230,  579],\n",
       "        [3793,    8]]),\n",
       " 'accuracy': 0.4254927726675427,\n",
       " 'no information rate': 0.5005256241787123,\n",
       " 'sensitivity': 0.8479915988448412,\n",
       " 'specificity': 0.002104709287029729}"
      ]
     },
     "execution_count": 41,
     "metadata": {},
     "output_type": "execute_result"
    }
   ],
   "source": [
    "bifurcateDigits(train, 9, train = True)   # when the digit is 9 \n",
    "bifurcateDigits(test, 9, train = False)\n",
    "model_gbc.fit(X_train, y_train)\n",
    "pred_Y = model_gbc.predict(X_test)\n",
    "z_gbc = model_gbc.predict_proba(X_test)[:,1]\n",
    "\n",
    "confusionMatrixInfo(pred_Y, y_test, labels = None)"
   ]
  },
  {
   "cell_type": "markdown",
   "metadata": {},
   "source": [
    "RUC and AUC rate "
   ]
  },
  {
   "cell_type": "code",
   "execution_count": 42,
   "metadata": {},
   "outputs": [
    {
     "data": {
      "text/plain": [
       "0.32551292101006435"
      ]
     },
     "execution_count": 42,
     "metadata": {},
     "output_type": "execute_result"
    }
   ],
   "source": [
    "fpr_gbc, tpr_gbc, thresh_gbc = skm.roc_curve(y_test, z_gbc)\n",
    "# plt.figure(1)\n",
    "# plt.plot(fpr_gbc, tpr_gbc, 'r-')\n",
    "\n",
    "# AUC \n",
    "skm.auc(fpr_gbc,tpr_gbc)"
   ]
  },
  {
   "cell_type": "markdown",
   "metadata": {},
   "source": [
    "Accuracy Table "
   ]
  },
  {
   "cell_type": "markdown",
   "metadata": {},
   "source": [
    "Accuracy(Digits 0-9)\n",
    "0.4363994743758213\n",
    "0.9967148488830486\n",
    "0.4431011826544021\n",
    "0.4314060446780552\n",
    "0.43771353482260184\n",
    "0.4352168199737188\n",
    "0.44218134034165574\n",
    "0.4254927726675427"
   ]
  },
  {
   "cell_type": "markdown",
   "metadata": {},
   "source": [
    "# Neural Network "
   ]
  },
  {
   "cell_type": "markdown",
   "metadata": {},
   "source": [
    "Example of feedforward "
   ]
  },
  {
   "cell_type": "code",
   "execution_count": 5,
   "metadata": {},
   "outputs": [],
   "source": [
    "import numpy as np\n",
    "\n",
    "def sigmoid(x):\n",
    "  # Our activation function: f(x) = 1 / (1 + e^(-x))\n",
    "  return 1 / (1 + np.exp(-x))\n",
    "\n",
    "class Neuron:\n",
    "    def __init__(self, weights, bias):\n",
    "        self.weights = weights\n",
    "        self.bias = bias\n",
    "\n",
    "    def feedforward(self, inputs):\n",
    "        # Weight inputs, add bias, then use the activation function\n",
    "        total = np.dot(self.weights, inputs) + self.bias\n",
    "        return sigmoid(total)"
   ]
  },
  {
   "cell_type": "code",
   "execution_count": 6,
   "metadata": {},
   "outputs": [],
   "source": [
    "weights = np.array([0, 1]) \n",
    "bias = 4                \n",
    "n = Neuron(weights, bias)"
   ]
  },
  {
   "cell_type": "code",
   "execution_count": 7,
   "metadata": {},
   "outputs": [
    {
     "name": "stdout",
     "output_type": "stream",
     "text": [
      "0.9990889488055994\n"
     ]
    }
   ],
   "source": [
    "x = np.array([2, 3])    \n",
    "print(n.feedforward(x)) "
   ]
  },
  {
   "cell_type": "code",
   "execution_count": 8,
   "metadata": {},
   "outputs": [],
   "source": [
    "class OurNeuralNetwork:\n",
    "  '''\n",
    "  A neural network with:\n",
    "    - 2 inputs\n",
    "    - a hidden layer with 2 neurons (h1, h2)\n",
    "    - an output layer with 1 neuron (o1)\n",
    "  Each neuron has the same weights and bias:\n",
    "    - w = [0, 1]\n",
    "    - b = 0\n",
    "  '''\n",
    "    def __init__(self):\n",
    "        weights = np.array([0, 1])\n",
    "        bias = 0\n",
    "\n",
    "        # The Neuron class here is from the previous section\n",
    "        self.h1 = Neuron(weights, bias)\n",
    "        self.h2 = Neuron(weights, bias)\n",
    "        self.o1 = Neuron(weights, bias)\n",
    "\n",
    "    def feedforward(self, x):\n",
    "        out_h1 = self.h1.feedforward(x)\n",
    "        out_h2 = self.h2.feedforward(x)\n",
    "\n",
    "        # The inputs for o1 are the outputs from h1 and h2\n",
    "        out_o1 = self.o1.feedforward(np.array([out_h1, out_h2]))\n",
    "\n",
    "        return out_o1"
   ]
  },
  {
   "cell_type": "code",
   "execution_count": 9,
   "metadata": {},
   "outputs": [
    {
     "name": "stdout",
     "output_type": "stream",
     "text": [
      "0.7216325609518421\n"
     ]
    }
   ],
   "source": [
    "network = OurNeuralNetwork()\n",
    "x = np.array([2, 3])\n",
    "print(network.feedforward(x))"
   ]
  },
  {
   "cell_type": "markdown",
   "metadata": {},
   "source": [
    "# introducing CNN and PNN "
   ]
  }
 ],
 "metadata": {
  "kernelspec": {
   "display_name": "Python 3",
   "language": "python",
   "name": "python3"
  },
  "language_info": {
   "codemirror_mode": {
    "name": "ipython",
    "version": 3
   },
   "file_extension": ".py",
   "mimetype": "text/x-python",
   "name": "python",
   "nbconvert_exporter": "python",
   "pygments_lexer": "ipython3",
   "version": "3.7.3"
  }
 },
 "nbformat": 4,
 "nbformat_minor": 2
}
