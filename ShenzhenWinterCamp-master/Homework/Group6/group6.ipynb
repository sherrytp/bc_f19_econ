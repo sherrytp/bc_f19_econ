{
 "cells": [
  {
   "cell_type": "markdown",
   "metadata": {},
   "source": [
    "Team member: Haijing ZHU, Ting ZHU, Zhen XING,                    Huajuan ZHOU,You SHAN"
   ]
  },
  {
   "cell_type": "markdown",
   "metadata": {},
   "source": [
    "Essentials"
   ]
  },
  {
   "cell_type": "markdown",
   "metadata": {},
   "source": [
    "exercise 1"
   ]
  },
  {
   "cell_type": "markdown",
   "metadata": {},
   "source": [
    "part 1"
   ]
  },
  {
   "cell_type": "code",
   "execution_count": 15,
   "metadata": {},
   "outputs": [
    {
     "data": {
      "text/plain": [
       "16"
      ]
     },
     "execution_count": 15,
     "metadata": {},
     "output_type": "execute_result"
    }
   ],
   "source": [
    "import pylab\n",
    "sum=0\n",
    "x_vals=[7,0,3]\n",
    "y_vals=[1,2,3]\n",
    "for x,y in zip(x_vals,y_vals):\n",
    "    sum=sum+x*y\n",
    "sum"
   ]
  },
  {
   "cell_type": "markdown",
   "metadata": {},
   "source": [
    "part 2"
   ]
  },
  {
   "cell_type": "code",
   "execution_count": 29,
   "metadata": {},
   "outputs": [
    {
     "data": {
      "text/plain": [
       "50"
      ]
     },
     "execution_count": 29,
     "metadata": {},
     "output_type": "execute_result"
    }
   ],
   "source": [
    "sum(x%2==0 for x in range(99))"
   ]
  },
  {
   "cell_type": "markdown",
   "metadata": {},
   "source": [
    "part 3"
   ]
  },
  {
   "cell_type": "code",
   "execution_count": 12,
   "metadata": {},
   "outputs": [
    {
     "data": {
      "text/plain": [
       "2"
      ]
     },
     "execution_count": 12,
     "metadata": {},
     "output_type": "execute_result"
    }
   ],
   "source": [
    "pairs=((2,5),(4,2),(9,8),(12,10))\n",
    "i=0\n",
    "for a,b in enumerate(pairs):\n",
    "    x,y=b\n",
    "    if x%2==0 and y%2==0:\n",
    "        i=i+1\n",
    "\n",
    "i"
   ]
  },
  {
   "cell_type": "markdown",
   "metadata": {},
   "source": [
    "exercise 2"
   ]
  },
  {
   "cell_type": "code",
   "execution_count": 13,
   "metadata": {},
   "outputs": [
    {
     "name": "stdout",
     "output_type": "stream",
     "text": [
      "86\n"
     ]
    }
   ],
   "source": [
    "def p(x,coeff):\n",
    "    p=0\n",
    "    for i,a in enumerate(coeff):\n",
    "        p=a*x**i+p\n",
    "    print(p)\n",
    "\n",
    "p(5,(1,2,3))  "
   ]
  },
  {
   "cell_type": "markdown",
   "metadata": {},
   "source": [
    "exercise 3"
   ]
  },
  {
   "cell_type": "code",
   "execution_count": 14,
   "metadata": {
    "collapsed": true
   },
   "outputs": [],
   "source": [
    "def cap_num(str):\n",
    "    count=0\n",
    "    cpstr=str.upper()\n",
    "    for i in range(len(str)):\n",
    "        if str[i] == cpstr[i]:\n",
    "            count=count+1\n",
    "    return count\n"
   ]
  },
  {
   "cell_type": "markdown",
   "metadata": {},
   "source": [
    " exercise 4"
   ]
  },
  {
   "cell_type": "code",
   "execution_count": 15,
   "metadata": {
    "collapsed": true
   },
   "outputs": [],
   "source": [
    "def f(a,b):\n",
    "    for i in range(len(a)):\n",
    "        x=0\n",
    "        if a[i] not in b:\n",
    "            x=x+1\n",
    "    return x==0    "
   ]
  },
  {
   "cell_type": "code",
   "execution_count": 246,
   "metadata": {},
   "outputs": [
    {
     "data": {
      "text/plain": [
       "True"
      ]
     },
     "execution_count": 246,
     "metadata": {},
     "output_type": "execute_result"
    }
   ],
   "source": [
    "f((1,2),(1,1,2))"
   ]
  },
  {
   "cell_type": "markdown",
   "metadata": {},
   "source": [
    "exercise 5"
   ]
  },
  {
   "cell_type": "code",
   "execution_count": 16,
   "metadata": {},
   "outputs": [
    {
     "data": {
      "text/plain": [
       "0.042533936651583705"
      ]
     },
     "execution_count": 16,
     "metadata": {},
     "output_type": "execute_result"
    }
   ],
   "source": [
    "def linapprox(f,a,b,n,x):\n",
    "    s=(b-a)/(n-1)\n",
    "    p=a\n",
    "    while x<p:\n",
    "        p=p+s\n",
    "    u=p+s\n",
    "    return f(p)*(x-u)/(-s)+(x-p)*f(u)/s\n",
    "linapprox(lambda x:1/(1+25*x*x),-1,1,11,-0.96)  "
   ]
  },
  {
   "cell_type": "markdown",
   "metadata": {},
   "source": [
    "exercise 6"
   ]
  },
  {
   "cell_type": "markdown",
   "metadata": {},
   "source": [
    "part 1 solution 1"
   ]
  },
  {
   "cell_type": "code",
   "execution_count": 4,
   "metadata": {},
   "outputs": [
    {
     "name": "stdout",
     "output_type": "stream",
     "text": [
      "[3, 5, 6, 7]\n",
      "Wall time: 0 ns\n"
     ]
    }
   ],
   "source": [
    "l1=[1,3,5,2,1,6,8,0,3]\n",
    "inde=[]\n",
    "for index,x in enumerate(l1) :\n",
    "    if x%2==0:\n",
    "        i=index\n",
    "        inde.append(i)\n",
    "print(inde)\n",
    "%time"
   ]
  },
  {
   "cell_type": "markdown",
   "metadata": {},
   "source": [
    "part 1 solution 2"
   ]
  },
  {
   "cell_type": "code",
   "execution_count": 3,
   "metadata": {},
   "outputs": [
    {
     "name": "stdout",
     "output_type": "stream",
     "text": [
      "list[3] = '2'\n",
      "list[5] = '6'\n",
      "list[6] = '8'\n",
      "list[7] = '0'\n"
     ]
    }
   ],
   "source": [
    "list = [1,3,5,2,1,6,8,0,3]\n",
    "for index, x in enumerate(list):\n",
    "    if x%2==0:\n",
    "        print(\"list[{0}] = '{1}'\".format(index, x))"
   ]
  },
  {
   "cell_type": "markdown",
   "metadata": {},
   "source": [
    "part 2 "
   ]
  },
  {
   "cell_type": "code",
   "execution_count": 28,
   "metadata": {},
   "outputs": [
    {
     "name": "stdout",
     "output_type": "stream",
     "text": [
      "3\n",
      "5\n",
      "6\n",
      "7\n"
     ]
    }
   ],
   "source": [
    "l1=[1,3,5,2,1,6,8,0,3]\n",
    "a=list(range(len(l1)))\n",
    "for x,y in zip(a,l1):\n",
    "    if y%2==0:\n",
    "        print(x)"
   ]
  },
  {
   "cell_type": "markdown",
   "metadata": {},
   "source": [
    "exercise7 \n",
    "Solution 1"
   ]
  },
  {
   "cell_type": "code",
   "execution_count": 159,
   "metadata": {
    "collapsed": true
   },
   "outputs": [],
   "source": [
    "def myfind(x,y):\n",
    "    return [ a for a in range(len(y)) if y[a] == x]"
   ]
  },
  {
   "cell_type": "code",
   "execution_count": 160,
   "metadata": {},
   "outputs": [
    {
     "data": {
      "text/plain": [
       "[6, 9]"
      ]
     },
     "execution_count": 160,
     "metadata": {},
     "output_type": "execute_result"
    }
   ],
   "source": [
    "y=[1,3,5,2,7,10,0,2,3,0,1]\n",
    "myfind(0,y)"
   ]
  },
  {
   "cell_type": "code",
   "execution_count": 163,
   "metadata": {},
   "outputs": [
    {
     "data": {
      "text/plain": [
       "[0, 1, 2, 3, 4, 5, 7, 8, 10]"
      ]
     },
     "execution_count": 163,
     "metadata": {},
     "output_type": "execute_result"
    }
   ],
   "source": [
    "def myfind(x,y):\n",
    "    return [ a for a in range(len(y)) if y[a] != x]\n",
    "myfind(0,y) "
   ]
  },
  {
   "cell_type": "code",
   "execution_count": 168,
   "metadata": {},
   "outputs": [
    {
     "data": {
      "text/plain": [
       "3.090909090909091"
      ]
     },
     "execution_count": 168,
     "metadata": {},
     "output_type": "execute_result"
    }
   ],
   "source": [
    "z=sum(y)/len(y)\n",
    "z"
   ]
  },
  {
   "cell_type": "code",
   "execution_count": 171,
   "metadata": {},
   "outputs": [
    {
     "data": {
      "text/plain": [
       "[2, 4, 5]"
      ]
     },
     "execution_count": 171,
     "metadata": {},
     "output_type": "execute_result"
    }
   ],
   "source": [
    "def myfind(x,y):\n",
    "    return [ a for a in range(len(y)) if y[a]>z]\n",
    "myfind(0,y) "
   ]
  },
  {
   "cell_type": "code",
   "execution_count": 172,
   "metadata": {},
   "outputs": [
    {
     "data": {
      "text/plain": [
       "[0, 1, 3, 6, 7, 8, 9, 10]"
      ]
     },
     "execution_count": 172,
     "metadata": {},
     "output_type": "execute_result"
    }
   ],
   "source": [
    "def myfind(x,y):\n",
    "    return [ a for a in range(len(y)) if y[a]<z]\n",
    "myfind(0,y) "
   ]
  },
  {
   "cell_type": "markdown",
   "metadata": {},
   "source": [
    "solution 2 "
   ]
  },
  {
   "cell_type": "code",
   "execution_count": 34,
   "metadata": {},
   "outputs": [
    {
     "data": {
      "text/plain": [
       "[6, 9]"
      ]
     },
     "execution_count": 34,
     "metadata": {},
     "output_type": "execute_result"
    }
   ],
   "source": [
    "I2=[1,3,5,2,7,10,0,2,3,0,1]\n",
    "inde=[]\n",
    "for i,j in enumerate(I2):\n",
    "    if j==0:\n",
    "        inde.append(i)\n",
    "inde"
   ]
  },
  {
   "cell_type": "code",
   "execution_count": 35,
   "metadata": {},
   "outputs": [
    {
     "data": {
      "text/plain": [
       "[0, 1, 2, 3, 4, 5, 7, 8, 10]"
      ]
     },
     "execution_count": 35,
     "metadata": {},
     "output_type": "execute_result"
    }
   ],
   "source": [
    "I2=[1,3,5,2,7,10,0,2,3,0,1]\n",
    "inde=[]\n",
    "for i,j in enumerate(I2):\n",
    "    if j!=0:\n",
    "        inde.append(i)\n",
    "inde"
   ]
  },
  {
   "cell_type": "code",
   "execution_count": 36,
   "metadata": {},
   "outputs": [
    {
     "data": {
      "text/plain": [
       "[2, 4, 5]"
      ]
     },
     "execution_count": 36,
     "metadata": {},
     "output_type": "execute_result"
    }
   ],
   "source": [
    "I2=[1,3,5,2,7,10,0,2,3,0,1]\n",
    "inde=[]\n",
    "a=sum(I2)/len(I2)\n",
    "for i,j in enumerate(I2):\n",
    "    if j>a:\n",
    "        inde.append(i)\n",
    "inde"
   ]
  },
  {
   "cell_type": "code",
   "execution_count": 37,
   "metadata": {},
   "outputs": [
    {
     "data": {
      "text/plain": [
       "[0, 1, 3, 6, 7, 8, 9, 10]"
      ]
     },
     "execution_count": 37,
     "metadata": {},
     "output_type": "execute_result"
    }
   ],
   "source": [
    "I2=[1,3,5,2,7,10,0,2,3,0,1]\n",
    "inde=[]\n",
    "a=sum(I2)/len(I2)\n",
    "for i,j in enumerate(I2):\n",
    "    if j<a:\n",
    "        inde.append(i)\n",
    "inde"
   ]
  },
  {
   "cell_type": "markdown",
   "metadata": {},
   "source": [
    "exercise 8"
   ]
  },
  {
   "cell_type": "code",
   "execution_count": 38,
   "metadata": {},
   "outputs": [
    {
     "name": "stdout",
     "output_type": "stream",
     "text": [
      "False\n"
     ]
    }
   ],
   "source": [
    "c1=False\n",
    "c2=False\n",
    "if (c1 and c2) == 0 and (c1 or c2)==1:\n",
    "    print(\"True\")\n",
    "else:print(\"False\")"
   ]
  },
  {
   "cell_type": "markdown",
   "metadata": {},
   "source": [
    "exercise 9"
   ]
  },
  {
   "cell_type": "markdown",
   "metadata": {},
   "source": [
    "part 1"
   ]
  },
  {
   "cell_type": "code",
   "execution_count": 32,
   "metadata": {},
   "outputs": [
    {
     "name": "stdout",
     "output_type": "stream",
     "text": [
      "s1 is not all non-zero\n"
     ]
    }
   ],
   "source": [
    "l1=[1,3,5,2,1,6,8,0,3]\n",
    "l2=[1,3,5,2,7,10,0,2,3,0,1]\n",
    "import pandas as pd\n",
    "s1=pd.Series(l1)\n",
    "s2=pd.Series(l2)\n",
    "if all(s1):\n",
    "    print(\"s1 is all non-zero\")\n",
    "else:\n",
    "    print(\"s1 is not all non-zero\")"
   ]
  },
  {
   "cell_type": "markdown",
   "metadata": {},
   "source": [
    "part 2"
   ]
  },
  {
   "cell_type": "code",
   "execution_count": 33,
   "metadata": {},
   "outputs": [
    {
     "name": "stdout",
     "output_type": "stream",
     "text": [
      "any of s2's member is larger than 2\n"
     ]
    }
   ],
   "source": [
    "if any(s>2 for s in s2):\n",
    "    print(\"any of s2's member is larger than 2\")\n",
    "else:\n",
    "    print(\"any of s2's member is not larger than 2\")"
   ]
  },
  {
   "cell_type": "markdown",
   "metadata": {},
   "source": [
    "# Numpy"
   ]
  },
  {
   "cell_type": "markdown",
   "metadata": {},
   "source": [
    "exercise 1"
   ]
  },
  {
   "cell_type": "code",
   "execution_count": 27,
   "metadata": {},
   "outputs": [
    {
     "name": "stdout",
     "output_type": "stream",
     "text": [
      "14.0\n"
     ]
    }
   ],
   "source": [
    "import numpy as np\n",
    "def p(x,coeff):\n",
    "    i=len(coeff)   \n",
    "    A=np.empty(i) \n",
    "    A[0]=1 \n",
    "    A[1:]=x\n",
    "    B=np.cumprod(A)\n",
    "    C=B*coeff\n",
    "    p=C.sum()\n",
    "    print(p)\n",
    "p(2,(2,2,2)) \n"
   ]
  },
  {
   "cell_type": "markdown",
   "metadata": {},
   "source": [
    "exercise 2"
   ]
  },
  {
   "cell_type": "code",
   "execution_count": 17,
   "metadata": {},
   "outputs": [
    {
     "data": {
      "text/plain": [
       "0"
      ]
     },
     "execution_count": 17,
     "metadata": {},
     "output_type": "execute_result"
    }
   ],
   "source": [
    "from random import uniform\n",
    "import numpy as np\n",
    "def sample(q):\n",
    "    U=uniform(0,1)\n",
    "    q0=np.array(q)\n",
    "    q1=q0.cumsum()\n",
    "    pos=q1.searchsorted(U)\n",
    "    return pos\n",
    "\n",
    "q=[0.25,0.75]\n",
    "sample(q)"
   ]
  },
  {
   "cell_type": "markdown",
   "metadata": {},
   "source": [
    "exercise 3"
   ]
  },
  {
   "cell_type": "markdown",
   "metadata": {},
   "source": [
    "part 1"
   ]
  },
  {
   "cell_type": "code",
   "execution_count": 18,
   "metadata": {},
   "outputs": [
    {
     "data": {
      "text/plain": [
       "0.8"
      ]
     },
     "execution_count": 18,
     "metadata": {},
     "output_type": "execute_result"
    }
   ],
   "source": [
    "import pylab\n",
    "from random import uniform\n",
    "import numpy\n",
    "def Fn(n,x):\n",
    "    sample=[uniform(0,1) for i in range(n)]\n",
    "    t=0\n",
    "    for i in range(n):\n",
    "        if sample[i]<x or sample[i]==x:\n",
    "            t=t+1\n",
    "    return t/n\n",
    "Fn(10,0.5)"
   ]
  },
  {
   "cell_type": "markdown",
   "metadata": {},
   "source": [
    "part 2"
   ]
  },
  {
   "cell_type": "code",
   "execution_count": 40,
   "metadata": {},
   "outputs": [
    {
     "name": "stderr",
     "output_type": "stream",
     "text": [
      "C:\\Users\\adminn\\Anaconda3\\lib\\site-packages\\statsmodels\\compat\\pandas.py:56: FutureWarning: The pandas.core.datetools module is deprecated and will be removed in a future version. Please use the pandas.tseries module instead.\n",
      "  from pandas.core import datetools\n"
     ]
    },
    {
     "data": {
      "image/png": "[encoded data removed]",
      "text/plain": [
       "<matplotlib.figure.Figure at 0x18464fac4e0>"
      ]
     },
     "metadata": {},
     "output_type": "display_data"
    }
   ],
   "source": [
    "import numpy as np\n",
    "import statsmodels.api as sm\n",
    "import matplotlib.pyplot as plt\n",
    "sample = np.random.randn( 1000)\n",
    "ecdf = sm.distributions.ECDF(sample)\n",
    "x = np.linspace(min(sample), max(sample))\n",
    "y = ecdf(x)\n",
    "plt.plot(x,y)\n",
    "plt.show()"
   ]
  },
  {
   "cell_type": "markdown",
   "metadata": {},
   "source": [
    "exercise 4"
   ]
  },
  {
   "cell_type": "code",
   "execution_count": 1,
   "metadata": {},
   "outputs": [
    {
     "data": {
      "text/plain": [
       "2.0"
      ]
     },
     "execution_count": 1,
     "metadata": {},
     "output_type": "execute_result"
    }
   ],
   "source": [
    "import numpy as np\n",
    "A = np.array((1,2,3,4,5))\n",
    "A.var()"
   ]
  },
  {
   "cell_type": "code",
   "execution_count": 2,
   "metadata": {},
   "outputs": [
    {
     "data": {
      "text/plain": [
       "2.0"
      ]
     },
     "execution_count": 2,
     "metadata": {},
     "output_type": "execute_result"
    }
   ],
   "source": [
    "B=A*A\n",
    "a=np.sum(B)\n",
    "b=np.mean(A)\n",
    "var=a/len(A)-b*b\n",
    "var"
   ]
  },
  {
   "cell_type": "markdown",
   "metadata": {},
   "source": [
    "exercise5 solution 1"
   ]
  },
  {
   "cell_type": "code",
   "execution_count": 207,
   "metadata": {
    "collapsed": true
   },
   "outputs": [],
   "source": [
    "A = np.array([[1, 2], [3, 4]])\n",
    "B = np.array([[3, 4], [4, 5]])\n",
    "C = np.array([[5, 4], [4, 6]])"
   ]
  },
  {
   "cell_type": "code",
   "execution_count": 208,
   "metadata": {},
   "outputs": [
    {
     "data": {
      "text/plain": [
       "array([[111, 128],\n",
       "       [253, 292]])"
      ]
     },
     "execution_count": 208,
     "metadata": {},
     "output_type": "execute_result"
    }
   ],
   "source": [
    "(A@B)@C"
   ]
  },
  {
   "cell_type": "code",
   "execution_count": 209,
   "metadata": {},
   "outputs": [
    {
     "data": {
      "text/plain": [
       "array([[111, 128],\n",
       "       [253, 292]])"
      ]
     },
     "execution_count": 209,
     "metadata": {},
     "output_type": "execute_result"
    }
   ],
   "source": [
    "(A@(B@C))"
   ]
  },
  {
   "cell_type": "code",
   "execution_count": 212,
   "metadata": {},
   "outputs": [
    {
     "data": {
      "text/plain": [
       "array([[11, 25],\n",
       "       [14, 32]])"
      ]
     },
     "execution_count": 212,
     "metadata": {},
     "output_type": "execute_result"
    }
   ],
   "source": [
    "(A@B).T"
   ]
  },
  {
   "cell_type": "code",
   "execution_count": 213,
   "metadata": {},
   "outputs": [
    {
     "data": {
      "text/plain": [
       "array([[11, 25],\n",
       "       [14, 32]])"
      ]
     },
     "execution_count": 213,
     "metadata": {},
     "output_type": "execute_result"
    }
   ],
   "source": [
    "B.T@A.T"
   ]
  },
  {
   "cell_type": "markdown",
   "metadata": {},
   "source": [
    "exercise 5 solution 2"
   ]
  },
  {
   "cell_type": "code",
   "execution_count": 43,
   "metadata": {
    "collapsed": true
   },
   "outputs": [],
   "source": [
    "import numpy as np\n",
    "A=np.random.normal(size=(2,2))\n",
    "B=np.random.normal(size=(2,2))\n",
    "C=np.random.normal(size=(2,2))\n",
    "\n"
   ]
  },
  {
   "cell_type": "code",
   "execution_count": 44,
   "metadata": {},
   "outputs": [
    {
     "data": {
      "text/plain": [
       "array([[-0.64833845, -0.94478786],\n",
       "       [-0.88615859, -1.30044712]])"
      ]
     },
     "execution_count": 44,
     "metadata": {},
     "output_type": "execute_result"
    }
   ],
   "source": [
    "(A@B)@C"
   ]
  },
  {
   "cell_type": "code",
   "execution_count": 45,
   "metadata": {},
   "outputs": [
    {
     "data": {
      "text/plain": [
       "array([[-0.64833845, -0.94478786],\n",
       "       [-0.88615859, -1.30044712]])"
      ]
     },
     "execution_count": 45,
     "metadata": {},
     "output_type": "execute_result"
    }
   ],
   "source": [
    "A@(B@C)"
   ]
  },
  {
   "cell_type": "code",
   "execution_count": 46,
   "metadata": {},
   "outputs": [
    {
     "data": {
      "text/plain": [
       "array([[ 1.08026724,  1.50600658],\n",
       "       [-0.1410418 , -0.1657117 ]])"
      ]
     },
     "execution_count": 46,
     "metadata": {},
     "output_type": "execute_result"
    }
   ],
   "source": [
    "(A@B).T"
   ]
  },
  {
   "cell_type": "code",
   "execution_count": 47,
   "metadata": {},
   "outputs": [
    {
     "data": {
      "text/plain": [
       "array([[ 1.08026724,  1.50600658],\n",
       "       [-0.1410418 , -0.1657117 ]])"
      ]
     },
     "execution_count": 47,
     "metadata": {},
     "output_type": "execute_result"
    }
   ],
   "source": [
    "(B.T)@(A.T)"
   ]
  },
  {
   "cell_type": "markdown",
   "metadata": {},
   "source": [
    "exercise 6"
   ]
  },
  {
   "cell_type": "code",
   "execution_count": 41,
   "metadata": {},
   "outputs": [
    {
     "name": "stdout",
     "output_type": "stream",
     "text": [
      "[[ 1.  1.  1.]\n",
      " [ 1.  1.  1.]\n",
      " [ 1.  1.  1.]]\n",
      "[[ 0.44096764  0.2549087   0.55189716]\n",
      " [ 0.34375719  0.52107267  0.5550408 ]\n",
      " [ 0.76948201  0.80827464  0.59973821]]\n",
      "[[ 1.  1.  1.]\n",
      " [ 1.  1.  1.]\n",
      " [ 1.  1.  1.]]\n"
     ]
    }
   ],
   "source": [
    "import pylab\n",
    "import numpy as np\n",
    "a = np.random.uniform(0,1, (3, 3))\n",
    "b=np.empty_like(a)\n",
    "np.copyto(b,a)\n",
    "c=a\n",
    "a[:] = 1\n",
    "print(a)\n",
    "print(b)\n",
    "print(c)"
   ]
  },
  {
   "cell_type": "markdown",
   "metadata": {},
   "source": [
    "exercise 7"
   ]
  },
  {
   "cell_type": "code",
   "execution_count": 26,
   "metadata": {},
   "outputs": [
    {
     "data": {
      "text/plain": [
       "(array([ 0.00098696,  0.00100721,  0.00102808,  0.00104962,  0.00107183,\n",
       "         0.00109476,  0.00111843,  0.00114288,  0.00116814,  0.00119425,\n",
       "         0.00122124,  0.00124915,  0.00127804,  0.00130794,  0.0013389 ,\n",
       "         0.00137097,  0.00140421,  0.00143867,  0.00147441,  0.00151151,\n",
       "         0.00155002,  0.00159003,  0.0016316 ,  0.00167483,  0.00171979,\n",
       "         0.00176659,  0.00181533,  0.00186611,  0.00191906,  0.00197429,\n",
       "         0.00203194,  0.00209215,  0.00215508,  0.00222089,  0.00228976,\n",
       "         0.00236188,  0.00243747,  0.00251674,  0.00259995,  0.00268735,\n",
       "         0.00277924,  0.00287592,  0.00297773,  0.00308504,  0.00319827,\n",
       "         0.00331784,  0.00344425,  0.00357802,  0.00371974,  0.00387004,\n",
       "         0.00402965,  0.00419934,  0.00437997,  0.00457251,  0.00477804,\n",
       "         0.00499774,  0.00523295,  0.00548516,  0.00575606,  0.00604753,\n",
       "         0.00636172,  0.00670104,  0.00706825,  0.00746649,  0.00789935,\n",
       "         0.00837099,  0.00888615,  0.00945038,  0.0100701 ,  0.01075284,\n",
       "         0.01150743,  0.01234434,  0.01327597,  0.01431718,  0.01548585,\n",
       "         0.01680367,  0.01829714,  0.0199989 ,  0.02194957,  0.02420014,\n",
       "         0.02681539,  0.02987854,  0.03349798,  0.03781695,  0.04302788,\n",
       "         0.04939416,  0.05728384,  0.06722376,  0.07998893,  0.09675632,\n",
       "         0.11938091,  0.1509164 ,  0.19665272,  0.26629961,  0.37872362,\n",
       "         0.57082967,  0.88282992,  0.64358856, -0.43030122]),\n",
       " array([ 0.99999951,  0.99999949,  0.99999947,  0.99999945,  0.99999943,\n",
       "         0.9999994 ,  0.99999937,  0.99999935,  0.99999932,  0.99999929,\n",
       "         0.99999925,  0.99999922,  0.99999918,  0.99999914,  0.9999991 ,\n",
       "         0.99999906,  0.99999901,  0.99999897,  0.99999891,  0.99999886,\n",
       "         0.9999988 ,  0.99999874,  0.99999867,  0.9999986 ,  0.99999852,\n",
       "         0.99999844,  0.99999835,  0.99999826,  0.99999816,  0.99999805,\n",
       "         0.99999794,  0.99999781,  0.99999768,  0.99999753,  0.99999738,\n",
       "         0.99999721,  0.99999703,  0.99999683,  0.99999662,  0.99999639,\n",
       "         0.99999614,  0.99999586,  0.99999557,  0.99999524,  0.99999489,\n",
       "         0.9999945 ,  0.99999407,  0.9999936 ,  0.99999308,  0.99999251,\n",
       "         0.99999188,  0.99999118,  0.99999041,  0.99998955,  0.99998859,\n",
       "         0.99998751,  0.99998631,  0.99998496,  0.99998343,  0.99998171,\n",
       "         0.99997976,  0.99997755,  0.99997502,  0.99997213,  0.9999688 ,\n",
       "         0.99996496,  0.99996052,  0.99995534,  0.9999493 ,  0.99994219,\n",
       "         0.99993379,  0.99992381,  0.99991187,  0.9998975 ,  0.99988009,\n",
       "         0.99985881,  0.99983259,  0.9998    ,  0.99975908,  0.99970713,\n",
       "         0.9996404 ,  0.99955354,  0.99943879,  0.99928468,  0.99907387,\n",
       "         0.99877936,  0.99835793,  0.99773792,  0.99679575,  0.9953081 ,\n",
       "         0.99284853,  0.98854653,  0.98047321,  0.9638903 ,  0.92550982,\n",
       "         0.8210685 ,  0.4696928 , -0.76537165, -0.90268536]))"
      ]
     },
     "execution_count": 26,
     "metadata": {},
     "output_type": "execute_result"
    }
   ],
   "source": [
    "import numpy as np\n",
    "import math \n",
    "x1=np.linspace(100,1,99)\n",
    "x2=math.pi*1/x1\n",
    "x3=x2*x2\n",
    "cal_sin=np.sin(x3\n",
    "cal_cos=np.cos(x3)\n",
    "\n",
    "cal_sin,cal_cos"
   ]
  },
  {
   "cell_type": "markdown",
   "metadata": {
    "collapsed": true
   },
   "source": [
    "exercise 8"
   ]
  },
  {
   "cell_type": "code",
   "execution_count": 39,
   "metadata": {},
   "outputs": [
    {
     "data": {
      "text/plain": [
       "array([0, 0, 0, 0, 1, 0, 0, 0, 0, 1])"
      ]
     },
     "execution_count": 39,
     "metadata": {},
     "output_type": "execute_result"
    }
   ],
   "source": [
    "import numpy as np\n",
    "A = np.array([1, 2, 3, 4, 5, 6, 7, 8, 9, 10])\n",
    "def f(x): return 1 if x%5==0 else 0\n",
    "f=np.vectorize(f)\n",
    "f(A)"
   ]
  }
 ],
 "metadata": {
  "kernelspec": {
   "display_name": "Python 3",
   "language": "python",
   "name": "python3"
  },
  "language_info": {
   "codemirror_mode": {
    "name": "ipython",
    "version": 3
   },
   "file_extension": ".py",
   "mimetype": "text/x-python",
   "name": "python",
   "nbconvert_exporter": "python",
   "pygments_lexer": "ipython3",
   "version": "3.6.3"
  }
 },
 "nbformat": 4,
 "nbformat_minor": 2
}
