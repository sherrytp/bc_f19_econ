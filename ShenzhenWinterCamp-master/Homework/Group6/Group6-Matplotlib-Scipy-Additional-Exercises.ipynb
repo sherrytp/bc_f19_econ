{
 "cells": [
  {
   "cell_type": "markdown",
   "metadata": {},
   "source": [
    "Group Member: Haijing ZHU, Ting ZHU, Huajuan ZHOU, You SHAN, Zhen XING"
   ]
  },
  {
   "cell_type": "markdown",
   "metadata": {},
   "source": [
    "Matplotlib Exercise"
   ]
  },
  {
   "cell_type": "code",
   "execution_count": 6,
   "metadata": {
    "scrolled": true
   },
   "outputs": [
    {
     "data": {
      "image/png": "[encoded data removed]",
      "text/plain": [
       "<matplotlib.figure.Figure at 0x10fa89550>"
      ]
     },
     "metadata": {},
     "output_type": "display_data"
    }
   ],
   "source": [
    "import matplotlib.pyplot as plt\n",
    "import numpy as np\n",
    "import sympy as sym\n",
    "from scipy.optimize import brentq\n",
    "a=np.pi\n",
    "fig,ax=plt.subplots()\n",
    "x=np.linspace(-a,a,150)\n",
    "y=np.sin(x)\n",
    "ax.plot(x,y,'b-',label='sin')\n",
    "ax.legend()\n",
    "z=np.cos(x)\n",
    "ax.plot(x,z,'g-',label='cos')\n",
    "ax.legend()\n",
    "m=brentq(lambda x:np.sin(x)-np.cos(x),-a,0)\n",
    "n=brentq(lambda x:np.sin(x)-np.cos(x),0,a)\n",
    "plt.scatter([m,n],[np.sin(m),np.sin(n)],color='red')\n",
    "ax.set_xticks([m,n])\n",
    "ax.set_yticks([np.sin(m),np.sin(n)])\n",
    "plt.show()"
   ]
  },
  {
   "cell_type": "markdown",
   "metadata": {},
   "source": [
    "Scipy Exercise"
   ]
  },
  {
   "cell_type": "markdown",
   "metadata": {},
   "source": [
    "Exercise1"
   ]
  },
  {
   "cell_type": "code",
   "execution_count": 8,
   "metadata": {},
   "outputs": [
    {
     "data": {
      "image/png": "[encoded data removed]",
      "text/plain": [
       "<matplotlib.figure.Figure at 0x10fa89048>"
      ]
     },
     "metadata": {},
     "output_type": "display_data"
    }
   ],
   "source": [
    "import numpy as np\n",
    "from scipy.stats import linregress\n",
    "import matplotlib.pyplot as plt\n",
    "fig,ax=plt.subplots()\n",
    "x=np.random.randn(20)\n",
    "y=2*x+0.5*np.random.randn(20)\n",
    "t=y\n",
    "gradient, intercept, r_value, p_value, std_err = linregress(x, y)\n",
    "z=gradient*x+intercept\n",
    "ax.plot(x,z,'r-')\n",
    "ax.scatter(x,t,c='b')\n",
    "xticks=np.arange(-2,2.5,0.5)\n",
    "yticks=np.arange(-4,5,2)\n",
    "plt.xticks(xticks)\n",
    "plt.yticks(yticks)\n",
    "plt.show()"
   ]
  },
  {
   "cell_type": "markdown",
   "metadata": {},
   "source": [
    "Exercise2"
   ]
  },
  {
   "cell_type": "code",
   "execution_count": 7,
   "metadata": {},
   "outputs": [
    {
     "name": "stdout",
     "output_type": "stream",
     "text": [
      "[-18.  21.]\n"
     ]
    }
   ],
   "source": [
    "from scipy.optimize import fsolve\n",
    "def f(x):\n",
    "    x0,x1=x.tolist()\n",
    "    return[x0*x0-3*x0+7-385,x1*x1-3*x1+7-385]\n",
    "r=fsolve(f,[3,5])\n",
    "print(r)"
   ]
  },
  {
   "cell_type": "markdown",
   "metadata": {},
   "source": [
    "Exercise3"
   ]
  },
  {
   "cell_type": "code",
   "execution_count": 9,
   "metadata": {},
   "outputs": [
    {
     "data": {
      "text/plain": [
       "0.7853981633670628"
      ]
     },
     "execution_count": 9,
     "metadata": {},
     "output_type": "execute_result"
    }
   ],
   "source": [
    "def bifunc(f,a,b):\n",
    "    if abs(f(a))<=1e-10:\n",
    "        return a\n",
    "    if abs(f(b))<=1e-10:\n",
    "        return b\n",
    "    if f((a+b)/2)*f(b)<=0:\n",
    "        return bifunc(f,(a+b)/2,b)\n",
    "    if  f((a+b)/2)*f(a)<=0:\n",
    "        return bifunc(f,a,(a+b)/2)\n",
    "    \n",
    "f = lambda x: np.sin(x)-np.cos(x)\n",
    "x1=bifunc(f, 0,1)\n",
    "x1"
   ]
  },
  {
   "cell_type": "markdown",
   "metadata": {},
   "source": [
    "Additional Exercises"
   ]
  },
  {
   "cell_type": "markdown",
   "metadata": {},
   "source": [
    "Excercise 1"
   ]
  },
  {
   "cell_type": "code",
   "execution_count": 21,
   "metadata": {},
   "outputs": [
    {
     "name": "stdout",
     "output_type": "stream",
     "text": [
      "CPU times: user 3 µs, sys: 0 ns, total: 3 µs\n",
      "Wall time: 7.39 µs\n"
     ]
    },
    {
     "data": {
      "text/plain": [
       "array([ 0.        ,  0.        ,  0.        , ...,  1.1483153 ,\n",
       "        1.51881259,  0.41881235])"
      ]
     },
     "execution_count": 21,
     "metadata": {},
     "output_type": "execute_result"
    }
   ],
   "source": [
    "#using looping implementation\n",
    "import numpy as np\n",
    "array=np.random.randn(10000000)\n",
    "n=len(array)\n",
    "for i in range(n):\n",
    "    if array[i]<0:\n",
    "        array[i]=0\n",
    "%time array"
   ]
  },
  {
   "cell_type": "code",
   "execution_count": 19,
   "metadata": {},
   "outputs": [
    {
     "name": "stdout",
     "output_type": "stream",
     "text": [
      "CPU times: user 2.26 s, sys: 279 ms, total: 2.54 s\n",
      "Wall time: 2.64 s\n"
     ]
    },
    {
     "data": {
      "text/plain": [
       "array([0, 0, 0, ..., 0, 0, 0])"
      ]
     },
     "execution_count": 19,
     "metadata": {},
     "output_type": "execute_result"
    }
   ],
   "source": [
    "#without looping_version1\n",
    "import numpy as np\n",
    "array=np.random.randn(10000000)\n",
    "def f(x): return 0 if x<0 else x\n",
    "f=np.vectorize(f)\n",
    "%time f(array)"
   ]
  },
  {
   "cell_type": "code",
   "execution_count": 20,
   "metadata": {},
   "outputs": [
    {
     "name": "stdout",
     "output_type": "stream",
     "text": [
      "CPU times: user 62.8 ms, sys: 8.15 ms, total: 70.9 ms\n",
      "Wall time: 71.1 ms\n"
     ]
    },
    {
     "data": {
      "text/plain": [
       "array([ 1.00177101,  2.34963537,  0.        , ...,  0.        ,\n",
       "        0.        ,  1.40509732])"
      ]
     },
     "execution_count": 20,
     "metadata": {},
     "output_type": "execute_result"
    }
   ],
   "source": [
    "#without looping_version2\n",
    "import numpy as np\n",
    "array=np.random.randn(10000000)\n",
    "%time np.where(array<0,0,array)"
   ]
  },
  {
   "cell_type": "code",
   "execution_count": 178,
   "metadata": {},
   "outputs": [
    {
     "name": "stdout",
     "output_type": "stream",
     "text": [
      "CPU times: user 3 µs, sys: 1 µs, total: 4 µs\n",
      "Wall time: 5.96 µs\n"
     ]
    },
    {
     "data": {
      "text/plain": [
       "array([ 0.12127307,  1.43167741,  1.81777141, ...,  0.22179434,\n",
       "       -0.        , -0.        ])"
      ]
     },
     "execution_count": 178,
     "metadata": {},
     "output_type": "execute_result"
    }
   ],
   "source": [
    "#without looping_version3\n",
    "x = np.random.randn(10000000)\n",
    "x1=(x>=0)\n",
    "x2=x*x1\n",
    "\n",
    "%time x2"
   ]
  },
  {
   "cell_type": "markdown",
   "metadata": {},
   "source": [
    "Exercise 2"
   ]
  },
  {
   "cell_type": "code",
   "execution_count": 163,
   "metadata": {},
   "outputs": [
    {
     "name": "stdout",
     "output_type": "stream",
     "text": [
      "CPU times: user 303 µs, sys: 121 µs, total: 424 µs\n",
      "Wall time: 316 µs\n"
     ]
    },
    {
     "data": {
      "text/plain": [
       "array([[  0.,   4.,   8.],\n",
       "       [  1.,   5.,   9.],\n",
       "       [  2.,   6.,  10.],\n",
       "       [  3.,   7.,  11.]])"
      ]
     },
     "execution_count": 163,
     "metadata": {},
     "output_type": "execute_result"
    }
   ],
   "source": [
    "#Solution 1\n",
    "import numpy as np\n",
    "def f(k):\n",
    "    a0=np.linspace(0,4*(k-1),k)\n",
    "    a1=a0+1\n",
    "    a2=a1+1\n",
    "    a3=a2+1\n",
    "    return np.array((a0,a1,a2,a3))\n",
    "%time f(3)"
   ]
  },
  {
   "cell_type": "code",
   "execution_count": 179,
   "metadata": {},
   "outputs": [
    {
     "name": "stdout",
     "output_type": "stream",
     "text": [
      "CPU times: user 3 µs, sys: 0 ns, total: 3 µs\n",
      "Wall time: 8.11 µs\n"
     ]
    },
    {
     "data": {
      "text/plain": [
       "array([[  0.,   4.,   8.],\n",
       "       [  1.,   5.,   9.],\n",
       "       [  2.,   6.,  10.],\n",
       "       [  3.,   7.,  11.]])"
      ]
     },
     "execution_count": 179,
     "metadata": {},
     "output_type": "execute_result"
    }
   ],
   "source": [
    "#Solution 2\n",
    "import numpy as np\n",
    "def f(x):\n",
    "    A=np.linspace( 0,4*(int(x)-1),int(x))\n",
    "    return np.vstack((A,A+1,A+2,A+3))\n",
    "%time\n",
    "f(3)"
   ]
  },
  {
   "cell_type": "markdown",
   "metadata": {},
   "source": [
    "Exercise 3"
   ]
  },
  {
   "cell_type": "code",
   "execution_count": 180,
   "metadata": {},
   "outputs": [
    {
     "name": "stdout",
     "output_type": "stream",
     "text": [
      "0:gcd(123456,7890)\n",
      "1:gcd(7890,5106)\n",
      "2:gcd(5106,2784)\n",
      "3:gcd(2784,2322)\n",
      "4:gcd(2322,462)\n",
      "5:gcd(462,12)\n",
      "6:gcd(12,6)\n"
     ]
    },
    {
     "data": {
      "text/plain": [
       "6"
      ]
     },
     "execution_count": 180,
     "metadata": {},
     "output_type": "execute_result"
    }
   ],
   "source": [
    "#Part1: Computing gcd_Solution1\n",
    "import numpy as np\n",
    "def gcd(a,b,count):\n",
    "    if a<b:\n",
    "        t=b\n",
    "        b=a\n",
    "        a=t\n",
    "    str=\"%d%s%d%s%d%s\"%(count,':gcd(',a,',',b,')')\n",
    "    print(str)\n",
    "    if a%b==0:\n",
    "        return b\n",
    "    else:\n",
    "        m=a-b*np.int(a/b)\n",
    "        return gcd(m,b,count+1)\n",
    "\n",
    "x=gcd(123456,7890,0)\n",
    "x"
   ]
  },
  {
   "cell_type": "code",
   "execution_count": 24,
   "metadata": {},
   "outputs": [
    {
     "name": "stdout",
     "output_type": "stream",
     "text": [
      "0:gcd(123456,7890)\n",
      "1:gcd(7890,5106)\n",
      "2:gcd(5106,2784)\n",
      "3:gcd(2784,2322)\n",
      "4:gcd(2322,462)\n",
      "5:gcd(462,12)\n",
      "6:gcd(12,6)\n"
     ]
    },
    {
     "data": {
      "text/plain": [
       "6"
      ]
     },
     "execution_count": 24,
     "metadata": {},
     "output_type": "execute_result"
    }
   ],
   "source": [
    "#Part1: Computing gcd_Solution2\n",
    "import numpy as np\n",
    "def gcd(a,b,count):\n",
    "    if a<b:\n",
    "        a,b=b,a     \n",
    "    str=\"%d%s%d%s%d%s\"%(count,':gcd(',a,',',b,')')\n",
    "    print(str)\n",
    "    if a%b==0:\n",
    "        return b\n",
    "    else:\n",
    "        m=a-b*np.int(a/b)\n",
    "        return gcd(m,b,count+1)\n",
    "\n",
    "x=gcd(123456,7890,0)\n",
    "x"
   ]
  },
  {
   "cell_type": "code",
   "execution_count": 25,
   "metadata": {},
   "outputs": [
    {
     "name": "stdout",
     "output_type": "stream",
     "text": [
      "0:gcd(123456,7890)\n",
      "1:gcd(7890,5106)\n",
      "2:gcd(5106,2784)\n",
      "3:gcd(2784,2322)\n",
      "4:gcd(2322,462)\n",
      "5:gcd(462,12)\n",
      "6:gcd(12,6)\n"
     ]
    },
    {
     "data": {
      "text/plain": [
       "162344640.0"
      ]
     },
     "execution_count": 25,
     "metadata": {},
     "output_type": "execute_result"
    }
   ],
   "source": [
    "#Part2: Computing lcm\n",
    "def lcm(a,b):\n",
    "    return a*b/gcd(a,b,0)\n",
    "\n",
    "y=lcm(123456,7890)\n",
    "y"
   ]
  },
  {
   "cell_type": "markdown",
   "metadata": {},
   "source": [
    "Exercise 4"
   ]
  },
  {
   "cell_type": "code",
   "execution_count": 164,
   "metadata": {},
   "outputs": [
    {
     "name": "stdout",
     "output_type": "stream",
     "text": [
      "This is for removing redundant spaces\n"
     ]
    }
   ],
   "source": [
    "#Solution 1\n",
    "str='This is           for removing       redundant spaces'\n",
    "print(' '.join(str.split()))"
   ]
  },
  {
   "cell_type": "code",
   "execution_count": 182,
   "metadata": {},
   "outputs": [
    {
     "data": {
      "text/plain": [
       "'This is for removing redundant spaces'"
      ]
     },
     "execution_count": 182,
     "metadata": {},
     "output_type": "execute_result"
    }
   ],
   "source": [
    "#Solution 2\n",
    "import re\n",
    "re.sub(' +',' ','This is           for removing       redundant spaces')"
   ]
  },
  {
   "cell_type": "code",
   "execution_count": null,
   "metadata": {
    "collapsed": true
   },
   "outputs": [],
   "source": [
    "Exercise 5"
   ]
  },
  {
   "cell_type": "code",
   "execution_count": 74,
   "metadata": {},
   "outputs": [
    {
     "data": {
      "text/plain": [
       "{9, 12, 18, 24, 27}"
      ]
     },
     "execution_count": 74,
     "metadata": {},
     "output_type": "execute_result"
    }
   ],
   "source": [
    "import numpy as np\n",
    "a=np.array((2,18,9,22,17,24,8,12,27))\n",
    "b=np.where(a%3==0,a,0)\n",
    "set(a).intersection(set(b))"
   ]
  },
  {
   "cell_type": "markdown",
   "metadata": {},
   "source": [
    "Exercise 6"
   ]
  },
  {
   "cell_type": "code",
   "execution_count": 23,
   "metadata": {},
   "outputs": [
    {
     "name": "stdout",
     "output_type": "stream",
     "text": [
      "The 20 most frequent words and their occurences are (after excluding words in the dictionary we set)：\n",
      "(1, 7281, 'the')\n",
      "(2, 4579, 'and')\n",
      "(3, 3487, 'of')\n",
      "(4, 1925, 'i')\n",
      "(5, 1680, 'it')\n",
      "(6, 1334, 'is')\n",
      "(7, 1329, 'that')\n",
      "(8, 1051, 'not')\n",
      "(9, 882, 'was')\n",
      "(10, 880, 'or')\n",
      "(11, 876, 'with')\n",
      "(12, 868, 'which')\n",
      "(13, 775, 'my')\n",
      "(14, 756, 'he')\n",
      "(15, 737, 'be')\n",
      "(16, 723, 'his')\n",
      "(17, 710, 'they')\n",
      "(18, 684, 'by')\n",
      "(19, 672, 'have')\n",
      "(20, 670, 'are')\n"
     ]
    }
   ],
   "source": [
    "keep=['a','b','c','d','e','f','g','h','i','j','k','l','m','n','o','p','q','r','s','t','u','v','w','x','y','z',' ','-',\"'\"]  \n",
    "stop_words=['to','a','as','this','for','in','on','but']  \n",
    "def normalize(s):  \n",
    "    result=''  \n",
    "    for c in s.lower():  \n",
    "        if c in keep:  \n",
    "            result+=c  \n",
    "    return result  \n",
    "def make_dict(s):  \n",
    "    words=normalize(s).split()  \n",
    "    d={}  \n",
    "    for w in words:  \n",
    "        if w in d:  \n",
    "            d[w]+=1  \n",
    "        else:  \n",
    "            d[w]=1  \n",
    "    return d  \n",
    "f = open('/Users/zhuhaijing/Desktop/Walden.txt') # open the file 'Walden.txt' via its path\n",
    "c = f.read() \n",
    "d=make_dict(c)  \n",
    "lst=[(d[w],w) for w in d]  \n",
    "lst.sort()  \n",
    "lst.reverse()     \n",
    "print('The 20 most frequent words and their occurences are (after excluding words in the dictionary we set)：')  \n",
    "j=1  \n",
    "for count,word in lst[:]:  \n",
    "    if word not in stop_words:  \n",
    "        print((j,count,word))  \n",
    "        j+=1  \n",
    "    if j==21:  \n",
    "        break"
   ]
  },
  {
   "cell_type": "markdown",
   "metadata": {},
   "source": [
    "Exercise 7"
   ]
  },
  {
   "cell_type": "code",
   "execution_count": 184,
   "metadata": {},
   "outputs": [
    {
     "data": {
      "text/plain": [
       "array([ 2,  3,  5,  7, 11, 13])"
      ]
     },
     "execution_count": 184,
     "metadata": {},
     "output_type": "execute_result"
    }
   ],
   "source": [
    "#Solution 1\n",
    "import numpy as np\n",
    "\n",
    "def prime(x):\n",
    "    for i in range(2,x):\n",
    "        if x%i==0:\n",
    "            break\n",
    "    else: return \"yes\"\n",
    "prime=np.vectorize(prime)  \n",
    "def f(n):\n",
    "    a=np.arange(2,n+1)\n",
    "    b=prime(a)\n",
    "    c=np.where(b==\"yes\",a,0)\n",
    "    index=[idx for idx,x in enumerate(c) if x==0]\n",
    "    d=np.delete(c,index)\n",
    "    return d\n",
    "f(13)     "
   ]
  },
  {
   "cell_type": "code",
   "execution_count": 185,
   "metadata": {},
   "outputs": [
    {
     "name": "stdout",
     "output_type": "stream",
     "text": [
      "3\n",
      "5\n",
      "7\n",
      "11\n",
      "13\n",
      "17\n",
      "19\n",
      "23\n",
      "29\n",
      "31\n",
      "37\n",
      "41\n",
      "43\n",
      "47\n",
      "53\n",
      "59\n",
      "61\n",
      "67\n",
      "71\n",
      "73\n",
      "79\n"
     ]
    }
   ],
   "source": [
    "#Solution 2\n",
    "def primeNumber(n):  \n",
    "    x = 1    \n",
    "    for i in range(3,n+1):  \n",
    "        result = True  \n",
    "        for j in range(2,i-1):  \n",
    "            if i % j == 0:  \n",
    "                result = False  \n",
    "        if result == True:    \n",
    "            x += 1  \n",
    "            print(i)\n",
    "primeNumber(80)"
   ]
  }
 ],
 "metadata": {
  "kernelspec": {
   "display_name": "Python 3",
   "language": "python",
   "name": "python3"
  },
  "language_info": {
   "codemirror_mode": {
    "name": "ipython",
    "version": 3
   },
   "file_extension": ".py",
   "mimetype": "text/x-python",
   "name": "python",
   "nbconvert_exporter": "python",
   "pygments_lexer": "ipython3",
   "version": "3.6.3"
  }
 },
 "nbformat": 4,
 "nbformat_minor": 2
}
