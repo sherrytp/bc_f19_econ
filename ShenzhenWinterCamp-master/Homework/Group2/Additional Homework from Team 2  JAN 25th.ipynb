{
 "cells": [
  {
   "cell_type": "markdown",
   "metadata": {},
   "source": [
    "## The Additional Homework from Team 2 ##"
   ]
  },
  {
   "cell_type": "markdown",
   "metadata": {},
   "source": [
    "** Athuors: Liling HUANG, Kaisheng LIAN, Zhangjie LV, Shurui LIU, Yuhong ZHU **"
   ]
  },
  {
   "cell_type": "markdown",
   "metadata": {},
   "source": [
    "** Time: JAN 25th 2018 **"
   ]
  },
  {
   "cell_type": "markdown",
   "metadata": {},
   "source": [
    "** Exercise 1 **"
   ]
  },
  {
   "cell_type": "code",
   "execution_count": 26,
   "metadata": {},
   "outputs": [
    {
     "name": "stdout",
     "output_type": "stream",
     "text": [
      "Wall time: 1 ms\n",
      "Wall time: 17 ms\n",
      "Wall time: 67.6 ms\n"
     ]
    }
   ],
   "source": [
    "## Implementation 1: using for loop\n",
    "import numpy as np\n",
    "s1 = np.random.rand(10000000)\n",
    "def f(x):\n",
    "    for i in x:\n",
    "        if i < 0:\n",
    "            return  0\n",
    "        else:\n",
    "            return i\n",
    "%time f(s1)\n",
    "        \n",
    "## Implementation 2: without using loop\n",
    "import numpy as np\n",
    "s1 = np.random.rand(10000000)\n",
    "%time s1[s1 < 0] = 0\n",
    "\n",
    "## Iplementation 3: without using loop\n",
    "import numpy as np\n",
    "s1 = np.random.rand(10000000)\n",
    "%time s2 = np.where(s1 < 0, s1, 0)"
   ]
  },
  {
   "cell_type": "markdown",
   "metadata": {},
   "source": [
    "** Exercise 2 **"
   ]
  },
  {
   "cell_type": "code",
   "execution_count": null,
   "metadata": {
    "collapsed": true,
    "scrolled": true
   },
   "outputs": [],
   "source": [
    "import numpy as np\n",
    "k = int(input(\"k: \"))\n",
    "x = np.linspace(0,4*(k-1)+3,4*k)\n",
    "x.shape = (k,4)\n",
    "x = x.T"
   ]
  },
  {
   "cell_type": "markdown",
   "metadata": {},
   "source": [
    "** Exercise 3 **"
   ]
  },
  {
   "cell_type": "code",
   "execution_count": 7,
   "metadata": {},
   "outputs": [
    {
     "name": "stdout",
     "output_type": "stream",
     "text": [
      "0:gcd(7890,5106)\n",
      "1:gcd(5106,2784)\n",
      "2:gcd(2784,2322)\n",
      "3:gcd(2322,462)\n",
      "4:gcd(462,12)\n",
      "5:gcd(12,6)\n"
     ]
    },
    {
     "data": {
      "text/plain": [
       "6"
      ]
     },
     "execution_count": 7,
     "metadata": {},
     "output_type": "execute_result"
    }
   ],
   "source": [
    "##Notice LCM = a*b / GCD\n",
    "def gcd(a,b): #a>b\n",
    "    if a%b == 0:\n",
    "        return b\n",
    "    else:\n",
    "        k = 0\n",
    "        while a % b != 0 or k < 10000:\n",
    "            c = a\n",
    "            a = b\n",
    "            b = c - (c//a)*a\n",
    "            k += 1\n",
    "            print(\"{2}:gcd({0},{1})\".format(a,b,k-1))\n",
    "            if a % b == 0:\n",
    "                break\n",
    "        return b \n",
    "\n",
    "def lcd(a,b):\n",
    "    return a*b/gcd(a,b)\n",
    "\n",
    "### a test\n",
    "gcd(123456,7890)"
   ]
  },
  {
   "cell_type": "markdown",
   "metadata": {},
   "source": [
    "** Exercise 4 **"
   ]
  },
  {
   "cell_type": "code",
   "execution_count": 8,
   "metadata": {},
   "outputs": [
    {
     "name": "stdout",
     "output_type": "stream",
     "text": [
      "This is for removing redundant spacesThis is for removing redundant spaces\n"
     ]
    }
   ],
   "source": [
    "a=\"This is           for removing       redundant spacesThis is           for removing       redundant spaces \"\n",
    "a=a.split()\n",
    "a=' '.join(a)\n",
    "print(a)"
   ]
  },
  {
   "cell_type": "markdown",
   "metadata": {},
   "source": [
    "** Exercise 5 **"
   ]
  },
  {
   "cell_type": "code",
   "execution_count": 72,
   "metadata": {},
   "outputs": [
    {
     "name": "stdout",
     "output_type": "stream",
     "text": [
      "[18  9 24 12 27]\n"
     ]
    }
   ],
   "source": [
    "## Implemention 1\n",
    "import numpy as np\n",
    "a=np.array([2, 18, 9, 22, 17, 24, 8, 12, 27])\n",
    "a[a%3==0]\n",
    "\n",
    "## Implemention 2 Using the filter function\n",
    "import numpy as np\n",
    "a = np.array([2,18,9,22,17,24,8,12,27])\n",
    "def f(x):\n",
    "    return x % 3 == 0\n",
    "b = np.array(list(filter(f,a)))\n",
    "print(b)"
   ]
  },
  {
   "cell_type": "markdown",
   "metadata": {},
   "source": [
    "** Exercise 6 **"
   ]
  },
  {
   "cell_type": "code",
   "execution_count": 3,
   "metadata": {},
   "outputs": [
    {
     "data": {
      "text/html": [
       "<div>\n",
       "<style>\n",
       "    .dataframe thead tr:only-child th {\n",
       "        text-align: right;\n",
       "    }\n",
       "\n",
       "    .dataframe thead th {\n",
       "        text-align: left;\n",
       "    }\n",
       "\n",
       "    .dataframe tbody tr th {\n",
       "        vertical-align: top;\n",
       "    }\n",
       "</style>\n",
       "<table border=\"1\" class=\"dataframe\">\n",
       "  <thead>\n",
       "    <tr style=\"text-align: right;\">\n",
       "      <th></th>\n",
       "      <th>letter</th>\n",
       "      <th>count</th>\n",
       "    </tr>\n",
       "  </thead>\n",
       "  <tbody>\n",
       "    <tr>\n",
       "      <th>18</th>\n",
       "      <td>hello</td>\n",
       "      <td>4</td>\n",
       "    </tr>\n",
       "    <tr>\n",
       "      <th>9</th>\n",
       "      <td>do</td>\n",
       "      <td>3</td>\n",
       "    </tr>\n",
       "    <tr>\n",
       "      <th>13</th>\n",
       "      <td>PHBS</td>\n",
       "      <td>2</td>\n",
       "    </tr>\n",
       "    <tr>\n",
       "      <th>16</th>\n",
       "      <td>PKU</td>\n",
       "      <td>2</td>\n",
       "    </tr>\n",
       "    <tr>\n",
       "      <th>0</th>\n",
       "      <td>Hello</td>\n",
       "      <td>1</td>\n",
       "    </tr>\n",
       "    <tr>\n",
       "      <th>4</th>\n",
       "      <td>text</td>\n",
       "      <td>1</td>\n",
       "    </tr>\n",
       "    <tr>\n",
       "      <th>5</th>\n",
       "      <td>file</td>\n",
       "      <td>1</td>\n",
       "    </tr>\n",
       "    <tr>\n",
       "      <th>7</th>\n",
       "      <td>order</td>\n",
       "      <td>1</td>\n",
       "    </tr>\n",
       "    <tr>\n",
       "      <th>12</th>\n",
       "      <td>some</td>\n",
       "      <td>1</td>\n",
       "    </tr>\n",
       "    <tr>\n",
       "      <th>15</th>\n",
       "      <td>where</td>\n",
       "      <td>1</td>\n",
       "    </tr>\n",
       "    <tr>\n",
       "      <th>22</th>\n",
       "      <td>alsjdhasd</td>\n",
       "      <td>1</td>\n",
       "    </tr>\n",
       "  </tbody>\n",
       "</table>\n",
       "</div>"
      ],
      "text/plain": [
       "       letter count\n",
       "18      hello     4\n",
       "9          do     3\n",
       "13       PHBS     2\n",
       "16        PKU     2\n",
       "0       Hello     1\n",
       "4        text     1\n",
       "5        file     1\n",
       "7       order     1\n",
       "12       some     1\n",
       "15      where     1\n",
       "22  alsjdhasd     1"
      ]
     },
     "execution_count": 3,
     "metadata": {},
     "output_type": "execute_result"
    }
   ],
   "source": [
    "import re\n",
    "import pandas as pd\n",
    "import numpy as np\n",
    "#subfunction 1\n",
    "def do_split(s, symbol):\n",
    "    symbol = \"[\" + symbol + \"]+\"    \n",
    "    result = re.split(symbol, s)     \n",
    "    return [x for x in result if x]  \n",
    "\n",
    "#subfunction 2\n",
    "def CountAppearTimes(listname):###without suffix .txt\n",
    "    #f = open(filename,'r')\n",
    "    df = pd.DataFrame()\n",
    "    no_space_list = listname\n",
    "    countlist = np.zeros_like(no_space_list)\n",
    "    copy_list = np.array(no_space_list)\n",
    "    for index,ch in enumerate(no_space_list):\n",
    "        countlist[index] = len(copy_list[copy_list == ch])\n",
    "    #f.close() \n",
    "    df['letter'] = listname\n",
    "    df['count'] = countlist\n",
    "    return df\n",
    "###the follwing is main function\n",
    "def count_and_sort_words(filename,symbol,words_not_count):#like 'test.txt' \n",
    "    \"\"\"\n",
    "    Note that:\n",
    "    Return a dataframe which has been sorted and duplicats dropped\n",
    "    filename input format should be like 'test.txt'\n",
    "    symbol is a string about those you do not want to count in\n",
    "    like symbol = ',\\t\\n#!?$ '    \n",
    "    words_not_count is a list of words that do not make much sense in counting\n",
    "    like words_not_count = ['to','the','as','this','in','on','at','for','but','a','is']\n",
    "    However, this function can not be used to solve all the 'count and sort words' problem \n",
    "    \n",
    "    \"\"\"\n",
    "    file = open(filename) \n",
    "    try:\n",
    "         all_the_text = file.read()\n",
    "    finally:\n",
    "         file.close()\n",
    " \n",
    "    if __name__ == \"__main__\":\n",
    "        s = all_the_text    \n",
    "        #symbol = ',\\t\\n#!?$ '     \n",
    "        result = do_split(s, symbol)\n",
    "\n",
    "    df = CountAppearTimes(result)\n",
    "    #words_not_count = ['to','the','as','this','in','on','at','for','but','a','is']\n",
    "    df_1 = df[~df['letter'].isin(words_not_count)]\n",
    "    return df_1.drop_duplicates(['letter']).sort_values(by='count',ascending=0)\n",
    "\n",
    "#test program here\n",
    "symbol = ',\\t\\n#!?$ ' \n",
    "words_not_count = ['to','the','as','this','in','on','at','for','but','a','is']\n",
    "count_and_sort_words('test.txt',symbol,words_not_count)"
   ]
  },
  {
   "cell_type": "markdown",
   "metadata": {},
   "source": [
    "** Exercise 7 **"
   ]
  },
  {
   "cell_type": "code",
   "execution_count": 4,
   "metadata": {},
   "outputs": [
    {
     "name": "stdout",
     "output_type": "stream",
     "text": [
      "Please input N:10\n",
      "[2, 3, 5, 7]\n"
     ]
    }
   ],
   "source": [
    "num = []\n",
    "N = int(input('Please input N:'))\n",
    "for i in range(2,N):\n",
    "    for j in range(2,i):\n",
    "        if i % j == 0:\n",
    "            break\n",
    "    else:\n",
    "            num.append(i)\n",
    "print(num)"
   ]
  }
 ],
 "metadata": {
  "kernelspec": {
   "display_name": "Python 3",
   "language": "python",
   "name": "python3"
  },
  "language_info": {
   "codemirror_mode": {
    "name": "ipython",
    "version": 3
   },
   "file_extension": ".py",
   "mimetype": "text/x-python",
   "name": "python",
   "nbconvert_exporter": "python",
   "pygments_lexer": "ipython3",
   "version": "3.6.3"
  }
 },
 "nbformat": 4,
 "nbformat_minor": 2
}
