{
 "cells": [
  {
   "cell_type": "markdown",
   "metadata": {},
   "source": [
    "## The homework of Python Essentials and Numpy ##"
   ]
  },
  {
   "cell_type": "markdown",
   "metadata": {},
   "source": [
    "## Authors: Liling HUANG, Zhangjie LV, Shurui LIU, Yuhong ZHU, Kaisheng LIAN ##"
   ]
  },
  {
   "cell_type": "markdown",
   "metadata": {},
   "source": [
    "## PART 1 Python Essentials ##"
   ]
  },
  {
   "cell_type": "code",
   "execution_count": null,
   "metadata": {
    "collapsed": true
   },
   "outputs": [],
   "source": [
    "import numpy as np"
   ]
  },
  {
   "cell_type": "markdown",
   "metadata": {},
   "source": [
    "** Exercise 1 **"
   ]
  },
  {
   "cell_type": "code",
   "execution_count": 95,
   "metadata": {},
   "outputs": [
    {
     "name": "stdout",
     "output_type": "stream",
     "text": [
      "True\n",
      "823350\n",
      "Number of even numbers : 50\n"
     ]
    },
    {
     "data": {
      "text/plain": [
       "2"
      ]
     },
     "execution_count": 95,
     "metadata": {},
     "output_type": "execute_result"
    }
   ],
   "source": [
    "## Part 1 \n",
    "x_val = [x for x in range(100)]      # Use list expression to generate a new list\n",
    "y_val = [y for y in range(100,200)]\n",
    "print (len(x_val) == len(y_val))         #compare the length of two lists\n",
    "print (sum(x*y for x,y in zip(x_val,y_val))) #zip function returns [(x0,y0),(x1,y1),...,(x99,y99)]\n",
    "\n",
    "## Part 2\n",
    "x_values = range(100)\n",
    "count_even = 0\n",
    "for x in range(len(x_values)):\n",
    "        if not x % 2 ==0 :\n",
    "    \t     count_even+=1\n",
    "print(\"Number of even numbers :\",count_even)\n",
    "\n",
    "## Part 3\n",
    "pairs = ((2, 5),(4, 2),(9, 8),(12, 10))\n",
    "sum([x % 2 == 0 and y % 2 == 0 for x, y in pairs])"
   ]
  },
  {
   "cell_type": "markdown",
   "metadata": {},
   "source": [
    "** Exercise 2 **"
   ]
  },
  {
   "cell_type": "code",
   "execution_count": 2,
   "metadata": {},
   "outputs": [
    {
     "data": {
      "text/plain": [
       "3"
      ]
     },
     "execution_count": 2,
     "metadata": {},
     "output_type": "execute_result"
    }
   ],
   "source": [
    "def p(x, coeff):\n",
    "    return sum(a * x ** i for i, a in enumerate(coeff))\n",
    "p(1,coeff=(1,2))"
   ]
  },
  {
   "cell_type": "markdown",
   "metadata": {},
   "source": [
    "** Exercise 3 **"
   ]
  },
  {
   "cell_type": "code",
   "execution_count": 5,
   "metadata": {},
   "outputs": [
    {
     "data": {
      "text/plain": [
       "5"
      ]
     },
     "execution_count": 5,
     "metadata": {},
     "output_type": "execute_result"
    }
   ],
   "source": [
    "def f(string):\n",
    "    count=0\n",
    "    for letter in string:\n",
    "        if letter==letter.upper() and letter.isalpha():  ## the isalpha is to recognize if the word is a letter.\n",
    "            count+=1\n",
    "    return count\n",
    "# for example\n",
    "f('We want to be excellent PHBSers.')"
   ]
  },
  {
   "cell_type": "markdown",
   "metadata": {},
   "source": [
    "** Exercise 4 **"
   ]
  },
  {
   "cell_type": "code",
   "execution_count": 6,
   "metadata": {},
   "outputs": [
    {
     "name": "stdout",
     "output_type": "stream",
     "text": [
      "False\n",
      "True\n"
     ]
    }
   ],
   "source": [
    "def f(seq_a,seq_b):\n",
    "    same_element = True\n",
    "    for i in seq_a:\n",
    "        if i not in seq_b :\n",
    "            same_element = False\n",
    "    return same_element\n",
    "## Now, we input 2 seqs and have a test.\n",
    "print(f([1,2,3,4,5],[8,9,10,22]))\n",
    "print(f([2,4],[1,2,4]))"
   ]
  },
  {
   "cell_type": "markdown",
   "metadata": {},
   "source": [
    "** Exercise 5 **"
   ]
  },
  {
   "cell_type": "code",
   "execution_count": 7,
   "metadata": {},
   "outputs": [
    {
     "data": {
      "text/plain": [
       "100.0"
      ]
     },
     "execution_count": 7,
     "metadata": {},
     "output_type": "execute_result"
    }
   ],
   "source": [
    "def linapprox(f,a,b,n,x):\n",
    "    len_q = b - a\n",
    "    interpoint = n - 1\n",
    "    delta_step = len_q / interpoint\n",
    "    first_p = a\n",
    "    \n",
    "    while first_p <= x:\n",
    "        first_p += delta_step\n",
    "    \n",
    "    u, v=[first_p - delta_step, first_p]\n",
    "    return f(u) + (x - u) * (f(u) - f(v)) / (u - v)\n",
    "\n",
    "def f(p):\n",
    "    return p ** 2\n",
    "## let do a test!!\n",
    "linapprox(f, 8, 9, 7, 10)"
   ]
  },
  {
   "cell_type": "markdown",
   "metadata": {},
   "source": [
    "** Exercise 6 **"
   ]
  },
  {
   "cell_type": "markdown",
   "metadata": {},
   "source": [
    "1.Using enumerate to find out the indices of all the even integers in list l1=[1,3,5,2,1,6,8,0,3] "
   ]
  },
  {
   "cell_type": "code",
   "execution_count": 22,
   "metadata": {},
   "outputs": [
    {
     "data": {
      "text/plain": [
       "[0, 1, 2, 4, 8]"
      ]
     },
     "execution_count": 22,
     "metadata": {},
     "output_type": "execute_result"
    }
   ],
   "source": [
    "l1=[1,3,5,2,1,6,8,0,3]\n",
    "l2=[]\n",
    "for index, item in enumerate(l1):\n",
    "    if not item % 2 ==0 :\n",
    "        l2.append(index)\n",
    "l2"
   ]
  },
  {
   "cell_type": "markdown",
   "metadata": {},
   "source": [
    "2.Using zip() function to perform the task above"
   ]
  },
  {
   "cell_type": "code",
   "execution_count": 27,
   "metadata": {},
   "outputs": [
    {
     "data": {
      "text/plain": [
       "[(1, 0), (3, 1), (5, 2), (1, 4), (3, 8)]"
      ]
     },
     "execution_count": 27,
     "metadata": {},
     "output_type": "execute_result"
    }
   ],
   "source": [
    "l1=[1,3,5,2,1,6,8,0,3]\n",
    "l2=[x for x in range(len(l1))]\n",
    "l3= []\n",
    "for x, y in zip(l1, l2):\n",
    "    if not x % 2 == 0 :\n",
    "        l3.append((x,y))\n",
    "l3"
   ]
  },
  {
   "cell_type": "markdown",
   "metadata": {},
   "source": [
    "** Exercise 7 **"
   ]
  },
  {
   "cell_type": "markdown",
   "metadata": {},
   "source": [
    "Get the location indices of the elements which are equal to 0, not equal to 0, larger than the mean, or smaller than the mean in  list l2=[1,3,5,2,7,10,0,2,3,0,1]"
   ]
  },
  {
   "cell_type": "code",
   "execution_count": 88,
   "metadata": {},
   "outputs": [
    {
     "name": "stdout",
     "output_type": "stream",
     "text": [
      "[6, 9] [0, 1, 2, 3, 4, 5, 7, 8, 10]\n",
      "[0, 1, 3, 6, 7, 8, 9, 10] [2, 4, 5]\n"
     ]
    }
   ],
   "source": [
    "l2=[1,3,5,2,7,10,0,2,3,0,1]\n",
    "meanvalue = sum(l2) / len(l2)\n",
    "not_0 = []\n",
    "is_0 = []\n",
    "big_mean = []\n",
    "small_mean = []\n",
    "for index, item in enumerate(l2):\n",
    "    if item == 0:\n",
    "        is_0.append(index)\n",
    "    else: \n",
    "        not_0.append(index)\n",
    "\n",
    "for index, item in enumerate(l2):\n",
    "    if item < meanvalue:\n",
    "        small_mean.append(index)\n",
    "    else: \n",
    "        big_mean.append(index)\n",
    "     \n",
    "print(is_0,not_0)\n",
    "print(small_mean,big_mean)   \n"
   ]
  },
  {
   "cell_type": "markdown",
   "metadata": {},
   "source": [
    "** Exercise 8 **"
   ]
  },
  {
   "cell_type": "markdown",
   "metadata": {},
   "source": [
    "c1 and c2 are two booleans.\n",
    "Use and, or, not to construct an exclusive or which is true when the true value of its components are different"
   ]
  },
  {
   "cell_type": "code",
   "execution_count": 111,
   "metadata": {},
   "outputs": [
    {
     "data": {
      "text/plain": [
       "[True, False, False]"
      ]
     },
     "execution_count": 111,
     "metadata": {},
     "output_type": "execute_result"
    }
   ],
   "source": [
    "## function\n",
    "z=[]\n",
    "def exclusive_or(c1,c2):\n",
    "    for x,y in zip(c1,c2):\n",
    "        z.append(False) if x&y==x and x&y==y else z.append(True)     \n",
    "    return z\n",
    "## a test\n",
    "c1=[True,False,True]\n",
    "c2=[False,False,True]\n",
    "exclusive_or(c1,c2)"
   ]
  },
  {
   "cell_type": "markdown",
   "metadata": {},
   "source": [
    "## PART 2 Numpy ##"
   ]
  },
  {
   "cell_type": "markdown",
   "metadata": {},
   "source": [
    "** Exercise 1 **"
   ]
  },
  {
   "cell_type": "code",
   "execution_count": 61,
   "metadata": {},
   "outputs": [
    {
     "data": {
      "text/plain": [
       "5.0"
      ]
     },
     "execution_count": 61,
     "metadata": {},
     "output_type": "execute_result"
    }
   ],
   "source": [
    "import numpy as np\n",
    "list_final=[]\n",
    "def p(x, coeff):\n",
    "    list_1 = np.zeros(len(coeff))\n",
    "    list_1[:] = x\n",
    "    list_1[0] = 1\n",
    "    list_2 = np.cumprod(list_1)\n",
    "    return np.dot(list_2, coeff)\n",
    "\n",
    "p(2,coeff=[1,2])"
   ]
  },
  {
   "cell_type": "markdown",
   "metadata": {},
   "source": [
    "** Exercise 2 **"
   ]
  },
  {
   "cell_type": "code",
   "execution_count": 94,
   "metadata": {},
   "outputs": [
    {
     "data": {
      "text/plain": [
       "50"
      ]
     },
     "execution_count": 94,
     "metadata": {},
     "output_type": "execute_result"
    }
   ],
   "source": [
    "## function\n",
    "from random import uniform\n",
    "def sample(q):\n",
    "    a = 0.0\n",
    "    U = uniform(0,1)\n",
    "    q.sort()\n",
    "    i = q.searchsorted(a)\n",
    "    return i                    ## can only draw once\n",
    "\n",
    "## a test\n",
    "q0 = np.random.normal(0,1,size = 100)\n",
    "q = np.array(q0)\n",
    "q = q / sum(q0)\n",
    "sample(q)"
   ]
  },
  {
   "cell_type": "markdown",
   "metadata": {},
   "source": [
    "** Exercise 3 **"
   ]
  },
  {
   "cell_type": "markdown",
   "metadata": {},
   "source": [
    "As following:"
   ]
  },
  {
   "cell_type": "code",
   "execution_count": 93,
   "metadata": {},
   "outputs": [
    {
     "name": "stdout",
     "output_type": "stream",
     "text": [
      "0.5\n"
     ]
    },
    {
     "data": {
      "image/png": "[encoded data removed]",
      "text/plain": [
       "<matplotlib.figure.Figure at 0x16cb2090f28>"
      ]
     },
     "metadata": {},
     "output_type": "display_data"
    }
   ],
   "source": [
    "## function\n",
    "import matplotlib.pyplot as plt\n",
    "\n",
    "class ECDF:\n",
    "    def __init__(self,observations):\n",
    "        self.observations = observations\n",
    "        \n",
    "    def __call__(self,x):\n",
    "        obs0 = np.array(self.observations)\n",
    "        obs = len(obs0[obs0<=x])\n",
    "        return obs/len(self.observations)\n",
    "    \n",
    "    def plot(self,a,b):\n",
    "        z = np.linspace(a,b,30)\n",
    "        cdf_list = []\n",
    "        for i in range(len(z)):\n",
    "            obs0 = np.array(self.observations)\n",
    "            obs = len(obs0[obs0<=z[i]])\n",
    "            cdf_list.append(obs/len(self.observations))\n",
    "        plt.plot(z,cdf_list)\n",
    "        return plt.show()\n",
    "\n",
    "## a test\n",
    "sample = [np.random.uniform(0,1) for i in range(10)]\n",
    "F = ECDF(sample)\n",
    "print(F(0.5))\n",
    "F.plot(-2,3)"
   ]
  },
  {
   "cell_type": "markdown",
   "metadata": {},
   "source": [
    "** Exercise 4 **"
   ]
  },
  {
   "cell_type": "markdown",
   "metadata": {},
   "source": [
    "Using Array methods to calculate the variance of array (1,2,3,4,5) by definition, and compare your result with the function of variance."
   ]
  },
  {
   "cell_type": "code",
   "execution_count": 85,
   "metadata": {},
   "outputs": [
    {
     "name": "stdout",
     "output_type": "stream",
     "text": [
      "2.0\n",
      "2.0\n"
     ]
    }
   ],
   "source": [
    "## the result caculated by the definition ##\n",
    "import numpy as np\n",
    "s1 = np.linspace(1,5,5)\n",
    "a = s1.mean()\n",
    "s2 = s1 - a\n",
    "s3 = s2 * s2\n",
    "s4 = s3.sum() / len(s1)\n",
    "print(s4)\n",
    "## the result with the function of variance ##\n",
    "print(np.var(s1))"
   ]
  },
  {
   "cell_type": "markdown",
   "metadata": {},
   "source": [
    "** Exercise 5 **"
   ]
  },
  {
   "cell_type": "code",
   "execution_count": null,
   "metadata": {
    "collapsed": true
   },
   "outputs": [],
   "source": [
    "A = np.random.randn(4)\n",
    "A.shape = (2,2)\n",
    "B = np.random.randn(4)\n",
    "B.shape = (2,2)\n",
    "C = np.random.randn(4)\n",
    "C.shape = (2,2)\n",
    "#confirm rule 1 \n",
    "print(((A@B)@C)-(A@(B@C)))\n",
    "#confirm rule 2 \n",
    "(A@B).T - B.T @ A.T"
   ]
  },
  {
   "cell_type": "markdown",
   "metadata": {},
   "source": [
    "** Exercise 6 **"
   ]
  },
  {
   "cell_type": "code",
   "execution_count": null,
   "metadata": {
    "collapsed": true
   },
   "outputs": [],
   "source": [
    "a = np.random.uniform(0,1,(3,3))\n",
    "a_indpt_copy = np.zeros_like(a)\n",
    "np.copyto(a_indpt_copy , a)\n",
    "a_dpt_copy = a"
   ]
  },
  {
   "cell_type": "markdown",
   "metadata": {},
   "source": [
    "** Exercise 7 **"
   ]
  },
  {
   "cell_type": "code",
   "execution_count": null,
   "metadata": {
    "collapsed": true
   },
   "outputs": [],
   "source": [
    "import numpy as np\n",
    "#generate the array\n",
    "a=np.linspace(np.pi/100,np.pi,100)\n",
    "#calculate\n",
    "sin=np.sin(a ** 2)\n",
    "cos=np.cos(a ** 2)\n",
    "print('sin=\\n',sin,'\\ncos=\\n',cos)"
   ]
  },
  {
   "cell_type": "markdown",
   "metadata": {},
   "source": [
    "** Exercise 8 **"
   ]
  },
  {
   "cell_type": "code",
   "execution_count": null,
   "metadata": {
    "collapsed": true
   },
   "outputs": [],
   "source": [
    "#findings:ValueError: The truth value of an array with more than one element is ambiguous. \n",
    "#fix\n",
    "import numpy as np\n",
    "A = np.array([1, 2, 3, 4, 5, 6, 7, 8, 9, 10])\n",
    "def f(x):\n",
    "    return 1 if x % 5 == 0 else 0\n",
    "f=np.vectorize(f)\n",
    "f(A)"
   ]
  }
 ],
 "metadata": {
  "kernelspec": {
   "display_name": "Python 3",
   "language": "python",
   "name": "python3"
  },
  "language_info": {
   "codemirror_mode": {
    "name": "ipython",
    "version": 3
   },
   "file_extension": ".py",
   "mimetype": "text/x-python",
   "name": "python",
   "nbconvert_exporter": "python",
   "pygments_lexer": "ipython3",
   "version": "3.6.3"
  }
 },
 "nbformat": 4,
 "nbformat_minor": 2
}
