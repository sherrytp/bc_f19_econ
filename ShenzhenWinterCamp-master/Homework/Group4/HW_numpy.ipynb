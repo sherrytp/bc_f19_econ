{
 "cells": [
  {
   "cell_type": "code",
   "execution_count": 1,
   "metadata": {},
   "outputs": [
    {
     "data": {
      "text/plain": [
       "49"
      ]
     },
     "execution_count": 1,
     "metadata": {},
     "output_type": "execute_result"
    }
   ],
   "source": [
    "#Exercise 1\n",
    "import numpy as np\n",
    "\n",
    "def p(x,coeff):\n",
    "    x_arr = x*np.ones_like(coeff)\n",
    "    x_arr[0] = 1\n",
    "    return sum(np.cumprod(x_arr)*coeff)\n",
    "\n",
    "#Test\n",
    "a = np.array([1,2,3,4])\n",
    "p(2,a)"
   ]
  },
  {
   "cell_type": "code",
   "execution_count": 2,
   "metadata": {},
   "outputs": [
    {
     "data": {
      "text/plain": [
       "array([2, 2, 0, 2, 1], dtype=int64)"
      ]
     },
     "execution_count": 2,
     "metadata": {},
     "output_type": "execute_result"
    }
   ],
   "source": [
    "#Exercise 2\n",
    "import numpy as np\n",
    "\n",
    "class discreteRV:\n",
    "    def __init__(self,q):\n",
    "        self.q = np.array(q)\n",
    "    def draw(self,k=1):\n",
    "        cdf = np.cumsum(self.q)\n",
    "        points = np.random.uniform(0,1,size=k)\n",
    "        return cdf.searchsorted(points)\n",
    "\n",
    "#Test\n",
    "b = discreteRV(np.array([0.25,0.25,0.5]))\n",
    "b.draw(5)"
   ]
  },
  {
   "cell_type": "code",
   "execution_count": 3,
   "metadata": {},
   "outputs": [],
   "source": [
    "#Exercise 3\n",
    "import numpy as np\n",
    "import matplotlib.pyplot as plt\n",
    "\n",
    "class ECDF:\n",
    "    def __init__(self, observations):\n",
    "        self.observations = np.array(observations)\n",
    "\n",
    "    def __call__(self, x):\n",
    "        sorted_observations = np.array(self.observations.copy())\n",
    "        sorted_observations.sort() #sort the observations to ensure they are in the ascending order\n",
    "        counter = sorted_observations.searchsorted(x)\n",
    "        if x in sorted_observations:  #If x is in the list \"sorted_observations\", a point equals to x is left out\n",
    "            counter = counter + 1     #We must take this point into consideration \n",
    "        return counter / np.size(self.observations)\n",
    "    \n",
    "    def plot(self,a,b,n=100):\n",
    "        points = np.linspace(a,b,n)\n",
    "        ecdf_call = np.vectorize(self.__call__)\n",
    "        ecdf_value = ecdf_call(points)\n",
    "        plt.plot(points,ecdf_value,'r-',linewidth=2,alpha=0.6)\n",
    "        plt.show()"
   ]
  },
  {
   "cell_type": "code",
   "execution_count": 4,
   "metadata": {},
   "outputs": [
    {
     "name": "stdout",
     "output_type": "stream",
     "text": [
      "0.7\n",
      "0.48\n"
     ]
    },
    {
     "data": {
      "image/png": "[encoded data removed]",
      "text/plain": [
       "<matplotlib.figure.Figure at 0x4919f60>"
      ]
     },
     "metadata": {},
     "output_type": "display_data"
    }
   ],
   "source": [
    "# Exercise 3 Test\n",
    "from random import uniform\n",
    "samples = [uniform(0, 1) for i in range(10)]\n",
    "F = ECDF(samples)\n",
    "\n",
    "print(F(0.5))  # Evaluate ecdf at x = 0.5\n",
    "\n",
    "F.observations = [uniform(0, 1) for i in range(1000)]\n",
    "\n",
    "print(F(0.5))\n",
    "F.plot(-2,3,1000)"
   ]
  },
  {
   "cell_type": "code",
   "execution_count": 5,
   "metadata": {},
   "outputs": [
    {
     "name": "stdout",
     "output_type": "stream",
     "text": [
      "2.0\n",
      "2.0\n"
     ]
    }
   ],
   "source": [
    "#Exercise 4\n",
    "import numpy as np\n",
    "def variance(x):\n",
    "    x_bar = x.mean()\n",
    "    return np.mean((x-x_bar)**2)\n",
    "\n",
    "#Test\n",
    "print(variance(np.array([1,2,3,4,5]))) #using the newly-made function \"variance\"\n",
    "print(np.var(np.array([1,2,3,4,5])))   #using function in numpy"
   ]
  },
  {
   "cell_type": "code",
   "execution_count": 6,
   "metadata": {},
   "outputs": [
    {
     "name": "stdout",
     "output_type": "stream",
     "text": [
      "[[  0.00000000e+00   4.44089210e-16]\n",
      " [  1.11022302e-16   2.22044605e-16]]\n",
      "[[ 0.  0.]\n",
      " [ 0.  0.]]\n"
     ]
    }
   ],
   "source": [
    "#Exercise 5\n",
    "import numpy as np\n",
    "def gen_matrix(n=2):                       #return a n*n matrix with normalized components\n",
    "    lst = np.random.normal(0,1,size=(n,n))\n",
    "    return lst\n",
    "\n",
    "A = gen_matrix()\n",
    "B = gen_matrix()\n",
    "C = gen_matrix()\n",
    "result_1 = np.dot(np.dot(A,B),C) - np.dot(A,np.dot(B,C))\n",
    "result_2 = np.dot(A,B).T-np.dot(B.T,A.T)\n",
    "print(result_1)\n",
    "print(result_2)"
   ]
  },
  {
   "cell_type": "code",
   "execution_count": 7,
   "metadata": {},
   "outputs": [
    {
     "name": "stdout",
     "output_type": "stream",
     "text": [
      "[[ 0.  0.]\n",
      " [ 0.  0.]]\n",
      "[[ 0.  0.]\n",
      " [ 0.  0.]]\n"
     ]
    }
   ],
   "source": [
    "#Exercise 5 Test\n",
    "A = gen_matrix()\n",
    "B = gen_matrix()\n",
    "C = gen_matrix()\n",
    "result_1 = np.dot(np.dot(A,B),C) - np.dot(A,np.dot(B,C))\n",
    "result_2 = np.dot(A,B).T-np.dot(B.T,A.T)\n",
    "print(result_1)\n",
    "print(result_2)"
   ]
  },
  {
   "cell_type": "code",
   "execution_count": 8,
   "metadata": {},
   "outputs": [
    {
     "name": "stdout",
     "output_type": "stream",
     "text": [
      "[[ 0.26217885  0.65310311  0.88962854]\n",
      " [ 0.21980269  0.15458288  0.99691328]\n",
      " [ 0.44383978  0.65178551  0.43101697]]\n",
      "[[ 0.26217885  0.65310311  0.88962854]\n",
      " [ 0.21980269  0.15458288  0.99691328]\n",
      " [ 0.44383978  0.65178551  0.43101697]]\n",
      "[[ 0.26217885  0.65310311  0.88962854]\n",
      " [ 0.21980269  0.15458288  0.99691328]\n",
      " [ 0.44383978  0.65178551  0.43101697]]\n"
     ]
    }
   ],
   "source": [
    "#Exercise 6\n",
    "import numpy as np\n",
    "a = np.random.uniform(0,1, (3, 3))\n",
    "print(a)\n",
    "\n",
    "#dependent copy\n",
    "b = a                #b is a reference to a.Once b is changed, a is also changed        \n",
    "\n",
    "#independent copy\n",
    "c = np.zeros_like(a)  #b is an independent copy of a, which remains constant when a changes\n",
    "np.copyto(c,a)      \n",
    "print(b)\n",
    "print(c)"
   ]
  },
  {
   "cell_type": "code",
   "execution_count": 9,
   "metadata": {},
   "outputs": [],
   "source": [
    "#Exercise 7\n",
    "import numpy as np\n",
    "x = np.pi/np.arange(1,101)\n",
    "x.sort()\n",
    "y1 = np.sin(x)**2\n",
    "y2 = np.cos(x)**2"
   ]
  },
  {
   "cell_type": "code",
   "execution_count": 10,
   "metadata": {},
   "outputs": [
    {
     "name": "stdout",
     "output_type": "stream",
     "text": [
      "[0 0 0 0 1 0 0 0 0 1]\n"
     ]
    }
   ],
   "source": [
    "#Exercise 8\n",
    "import numpy as np\n",
    "A = np.array([1, 2, 3, 4, 5, 6, 7, 8, 9, 10])\n",
    "def f(x):\n",
    "    return 1 if x % 5 == 0 else 0\n",
    "\n",
    "f = np.vectorize(f) #vectorize a given function\n",
    "print(f(A))\n",
    "\n",
    "#'map' function can also be used to solve this problem\n",
    "#list((map(f,A)))  "
   ]
  },
  {
   "cell_type": "code",
   "execution_count": null,
   "metadata": {
    "collapsed": true
   },
   "outputs": [],
   "source": []
  }
 ],
 "metadata": {
  "anaconda-cloud": {},
  "kernelspec": {
   "display_name": "Python 3",
   "language": "python",
   "name": "python3"
  },
  "language_info": {
   "codemirror_mode": {
    "name": "ipython",
    "version": 3
   },
   "file_extension": ".py",
   "mimetype": "text/x-python",
   "name": "python",
   "nbconvert_exporter": "python",
   "pygments_lexer": "ipython3",
   "version": "3.6.1"
  }
 },
 "nbformat": 4,
 "nbformat_minor": 1
}
