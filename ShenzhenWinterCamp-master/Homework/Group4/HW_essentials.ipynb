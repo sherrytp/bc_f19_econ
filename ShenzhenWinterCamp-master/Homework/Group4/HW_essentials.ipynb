{
 "cells": [
  {
   "cell_type": "code",
   "execution_count": 1,
   "metadata": {
    "collapsed": false
   },
   "outputs": [
    {
     "data": {
      "text/plain": [
       "14"
      ]
     },
     "execution_count": 1,
     "metadata": {},
     "output_type": "execute_result"
    }
   ],
   "source": [
    "#Exercise 1 Part 1\n",
    "def inner_product(x_vals,y_vals):\n",
    "    result = 0\n",
    "    for i,j in zip(x_vals,y_vals):\n",
    "        result += i*j\n",
    "    return result\n",
    "\n",
    "#Test\n",
    "inner_product((1,2,3),(1,2,3))"
   ]
  },
  {
   "cell_type": "code",
   "execution_count": 2,
   "metadata": {
    "collapsed": false
   },
   "outputs": [
    {
     "data": {
      "text/plain": [
       "50"
      ]
     },
     "execution_count": 2,
     "metadata": {},
     "output_type": "execute_result"
    }
   ],
   "source": [
    "#Exercise 1 Part 2\n",
    "sum([i % 2 == 0 for i in range(100)])"
   ]
  },
  {
   "cell_type": "code",
   "execution_count": 3,
   "metadata": {
    "collapsed": false
   },
   "outputs": [
    {
     "data": {
      "text/plain": [
       "17"
      ]
     },
     "execution_count": 3,
     "metadata": {},
     "output_type": "execute_result"
    }
   ],
   "source": [
    "#Exercise 2\n",
    "def p(x,coeff):\n",
    "    result = 0\n",
    "    for index,a in enumerate(coeff):\n",
    "        result += a*x**index\n",
    "    return result\n",
    "\n",
    "#Test\n",
    "p(2,(1,2,3))"
   ]
  },
  {
   "cell_type": "code",
   "execution_count": 4,
   "metadata": {
    "collapsed": false
   },
   "outputs": [
    {
     "data": {
      "text/plain": [
       "4"
      ]
     },
     "execution_count": 4,
     "metadata": {},
     "output_type": "execute_result"
    }
   ],
   "source": [
    "#Exercise 3\n",
    "def capital_letter_numbers(s):\n",
    "    s_upper = s.upper()\n",
    "    cnt = 0\n",
    "    for i in range(len(s)):\n",
    "        if s[i] == s_upper[i] and s[i].isalpha() == True:\n",
    "            cnt += 1\n",
    "    return cnt\n",
    "\n",
    "#Test\n",
    "capital_letter_numbers('ABc aBC')"
   ]
  },
  {
   "cell_type": "code",
   "execution_count": 5,
   "metadata": {
    "collapsed": false
   },
   "outputs": [
    {
     "data": {
      "text/plain": [
       "True"
      ]
     },
     "execution_count": 5,
     "metadata": {},
     "output_type": "execute_result"
    }
   ],
   "source": [
    "#Exercise 4\n",
    "#a new version of \"issubset\"\n",
    "def new_issubset(seq_a,seq_b):     \n",
    "    flag = True\n",
    "    for i in seq_a:\n",
    "        flag = flag and (i in seq_b)\n",
    "    return flag\n",
    "new_issubset((1,2,3),(1,2,3,4))"
   ]
  },
  {
   "cell_type": "code",
   "execution_count": 6,
   "metadata": {
    "collapsed": false
   },
   "outputs": [
    {
     "data": {
      "text/plain": [
       "0.26"
      ]
     },
     "execution_count": 6,
     "metadata": {},
     "output_type": "execute_result"
    }
   ],
   "source": [
    "#Exercise 5\n",
    "def linapprox(f,a,b,n,x):\n",
    "    interval = (b-a)/n\n",
    "    point = [interval*i for i in range(n+1)]\n",
    "    for i in range(n):\n",
    "        if x >= point[i] and x <= point[i+1]:\n",
    "            slope = (f(point[i+1])-f(point[i]))/interval\n",
    "            fx = f(point[i])+slope*(x-point[i])\n",
    "    return fx\n",
    "\n",
    "#Test\n",
    "linapprox(lambda x:x**2,0,2,10,0.5)"
   ]
  },
  {
   "cell_type": "code",
   "execution_count": 7,
   "metadata": {
    "collapsed": false
   },
   "outputs": [
    {
     "data": {
      "text/plain": [
       "[3, 5, 6, 7]"
      ]
     },
     "execution_count": 7,
     "metadata": {},
     "output_type": "execute_result"
    }
   ],
   "source": [
    "#Exercise 6 Part 1\n",
    "def even_number_indices_v1(lst):\n",
    "    indices_list = []\n",
    "    for indice,value in enumerate(lst):\n",
    "        if value % 2 == 0:\n",
    "            indices_list.append(indice)\n",
    "    return indices_list\n",
    "\n",
    "#Test\n",
    "l1=[1,3,5,2,1,6,8,0,3]\n",
    "even_number_indices_v1(l1)"
   ]
  },
  {
   "cell_type": "code",
   "execution_count": 8,
   "metadata": {
    "collapsed": false
   },
   "outputs": [
    {
     "data": {
      "text/plain": [
       "[3, 5, 6, 7]"
      ]
     },
     "execution_count": 8,
     "metadata": {},
     "output_type": "execute_result"
    }
   ],
   "source": [
    "#Exercise 6 Part 2\n",
    "def even_number_indices_v2(lst):\n",
    "    indices_list = []\n",
    "    all_indices = range(len(lst))\n",
    "    for indice,value in zip(all_indices,lst):\n",
    "        if value % 2 == 0:\n",
    "            indices_list.append(indice)\n",
    "    return indices_list\n",
    "\n",
    "#Test\n",
    "l1=[1,3,5,2,1,6,8,0,3]\n",
    "even_number_indices_v2(l1)"
   ]
  },
  {
   "cell_type": "code",
   "execution_count": 9,
   "metadata": {
    "collapsed": false
   },
   "outputs": [
    {
     "name": "stdout",
     "output_type": "stream",
     "text": [
      "[6, 9]\n",
      "[0, 1, 2, 3, 4, 5, 7, 8, 10]\n",
      "[2, 4, 5]\n",
      "[0, 1, 3, 6, 7, 8, 9, 10]\n"
     ]
    }
   ],
   "source": [
    "#Exercise 7\n",
    "class get_location(object):\n",
    "    def __init__(self,lst):\n",
    "        self.lst = lst\n",
    "        \n",
    "    def equal_zero(self):\n",
    "        loc_list = []\n",
    "        for indice,value in enumerate(self.lst):\n",
    "            if value == 0:\n",
    "                loc_list.append(indice)\n",
    "        return loc_list\n",
    "    \n",
    "    def not_equal_zero(self):\n",
    "        loc_list = []\n",
    "        for indice,value in enumerate(self.lst):\n",
    "            if value != 0:\n",
    "                loc_list.append(indice)\n",
    "        return loc_list\n",
    "    \n",
    "    def above_mean(self):\n",
    "        loc_list = []\n",
    "        mean = sum(self.lst)/len(self.lst)\n",
    "        for indice,value in enumerate(self.lst):\n",
    "            if value > mean:\n",
    "                loc_list.append(indice)\n",
    "        return loc_list\n",
    "    \n",
    "    def below_mean(self):\n",
    "        loc_list = []\n",
    "        mean = sum(self.lst)/len(self.lst)\n",
    "        for indice,value in enumerate(self.lst):\n",
    "            if value < mean:\n",
    "                loc_list.append(indice)\n",
    "        return loc_list\n",
    "\n",
    "#Test\n",
    "l2=[1,3,5,2,7,10,0,2,3,0,1]\n",
    "lst = get_location(l2)\n",
    "print(lst.equal_zero())\n",
    "print(lst.not_equal_zero())\n",
    "print(lst.above_mean())\n",
    "print(lst.below_mean())"
   ]
  },
  {
   "cell_type": "code",
   "execution_count": 10,
   "metadata": {
    "collapsed": false
   },
   "outputs": [
    {
     "name": "stdout",
     "output_type": "stream",
     "text": [
      "False\n",
      "False\n",
      "True\n"
     ]
    }
   ],
   "source": [
    "#Exercise 8\n",
    "def exclusive_or(c1,c2):\n",
    "    bool_1 = c1 and not(c2)\n",
    "    bool_2 = c2 and not(c1)\n",
    "    return bool_1 or bool_2\n",
    "\n",
    "#Test\n",
    "print(exclusive_or(True,True))\n",
    "print(exclusive_or(False,False))\n",
    "print(exclusive_or(False,True))"
   ]
  },
  {
   "cell_type": "code",
   "execution_count": 11,
   "metadata": {
    "collapsed": false
   },
   "outputs": [
    {
     "name": "stdout",
     "output_type": "stream",
     "text": [
      "False\n",
      "True\n"
     ]
    }
   ],
   "source": [
    "#Exercise 9\n",
    "import pandas as pd\n",
    "\n",
    "def all_non_zero(s):\n",
    "    return all(s!=0)\n",
    "\n",
    "def any_member_larger_than_2(s):\n",
    "    return any(s>2)\n",
    "\n",
    "#Test\n",
    "s1 = pd.Series(l1)\n",
    "s2 = pd.Series(l2)\n",
    "print(all_non_zero(s1))\n",
    "print(any_member_larger_than_2(s2))"
   ]
  },
  {
   "cell_type": "code",
   "execution_count": null,
   "metadata": {
    "collapsed": true
   },
   "outputs": [],
   "source": []
  }
 ],
 "metadata": {
  "kernelspec": {
   "display_name": "Python [default]",
   "language": "python",
   "name": "python3"
  },
  "language_info": {
   "codemirror_mode": {
    "name": "ipython",
    "version": 3
   },
   "file_extension": ".py",
   "mimetype": "text/x-python",
   "name": "python",
   "nbconvert_exporter": "python",
   "pygments_lexer": "ipython3",
   "version": "3.5.2"
  }
 },
 "nbformat": 4,
 "nbformat_minor": 2
}
