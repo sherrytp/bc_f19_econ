{
 "cells": [
  {
   "cell_type": "code",
   "execution_count": 1,
   "metadata": {
    "collapsed": false
   },
   "outputs": [
    {
     "data": {
      "image/png": "[encoded data removed]",
      "text/plain": [
       "<matplotlib.figure.Figure at 0x465ecc0>"
      ]
     },
     "metadata": {},
     "output_type": "display_data"
    }
   ],
   "source": [
    "#Exercise 1\n",
    "import numpy as np\n",
    "from scipy.stats import linregress\n",
    "import matplotlib.pyplot as plt\n",
    "\n",
    "x = np.random.randn(20)\n",
    "y = 2 * x + 0.5 * np.random.randn(20)\n",
    "gradient, intercept, r_value, p_value, std_err = linregress(x, y)\n",
    "\n",
    "y_hat = intercept+gradient*x\n",
    "\n",
    "fig,ax = plt.subplots()\n",
    "ax.scatter(x,y,color='b')\n",
    "ax.plot(x,y_hat,'r-')\n",
    "plt.show()"
   ]
  },
  {
   "cell_type": "code",
   "execution_count": 2,
   "metadata": {
    "collapsed": false
   },
   "outputs": [
    {
     "data": {
      "text/plain": [
       "array([ 21.17866865])"
      ]
     },
     "execution_count": 2,
     "metadata": {},
     "output_type": "execute_result"
    }
   ],
   "source": [
    "#Exercise 2\n",
    "import numpy as np\n",
    "from scipy.optimize import fsolve\n",
    "r = fsolve(lambda x:x**2-3*x-385,10)\n",
    "r"
   ]
  },
  {
   "cell_type": "code",
   "execution_count": 3,
   "metadata": {
    "collapsed": false
   },
   "outputs": [
    {
     "data": {
      "text/plain": [
       "-2.0"
      ]
     },
     "execution_count": 3,
     "metadata": {},
     "output_type": "execute_result"
    }
   ],
   "source": [
    "#Exercise 3\n",
    "def bisection(f,a,b,accuracy=1e-16):\n",
    "    if f(a)*f(b)>0:\n",
    "        raise ValueError('f(a) and f(b) must have opposite signs')\n",
    "    else:\n",
    "        c = (a+b)/2\n",
    "        if abs(f(c))<=accuracy:\n",
    "            return c\n",
    "        else:\n",
    "            if f(a)*f(c)<0:\n",
    "                return bisection(f,a,c)\n",
    "            elif f(c)*f(b)<0:\n",
    "                return bisection(f,c,b)\n",
    "        \n",
    "\n",
    "#Test\n",
    "bisection(lambda x:x**2-4,-5,0)"
   ]
  },
  {
   "cell_type": "code",
   "execution_count": null,
   "metadata": {
    "collapsed": true
   },
   "outputs": [],
   "source": []
  }
 ],
 "metadata": {
  "anaconda-cloud": {},
  "kernelspec": {
   "display_name": "Python [default]",
   "language": "python",
   "name": "python3"
  },
  "language_info": {
   "codemirror_mode": {
    "name": "ipython",
    "version": 3
   },
   "file_extension": ".py",
   "mimetype": "text/x-python",
   "name": "python",
   "nbconvert_exporter": "python",
   "pygments_lexer": "ipython3",
   "version": "3.5.2"
  }
 },
 "nbformat": 4,
 "nbformat_minor": 2
}
