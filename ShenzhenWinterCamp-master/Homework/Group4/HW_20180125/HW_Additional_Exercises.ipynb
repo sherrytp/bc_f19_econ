{
 "cells": [
  {
   "cell_type": "code",
   "execution_count": 1,
   "metadata": {
    "collapsed": false
   },
   "outputs": [
    {
     "name": "stdout",
     "output_type": "stream",
     "text": [
      "Wall time: 2.85 s\n"
     ]
    },
    {
     "data": {
      "text/plain": [
       "array([0, 0, 0, ..., 0, 0, 0])"
      ]
     },
     "execution_count": 1,
     "metadata": {},
     "output_type": "execute_result"
    }
   ],
   "source": [
    "#Exercise 1 Part 1\n",
    "#using loop\n",
    "import numpy as np\n",
    "def gen_rvs_by_loop(n):\n",
    "    rvs = np.arange(n)\n",
    "    for i in range(n):\n",
    "        rvs[i] = np.random.rand()\n",
    "    return rvs\n",
    "%time gen_rvs_by_loop(10000000)"
   ]
  },
  {
   "cell_type": "code",
   "execution_count": 2,
   "metadata": {
    "collapsed": false
   },
   "outputs": [
    {
     "name": "stdout",
     "output_type": "stream",
     "text": [
      "Wall time: 312 ms\n"
     ]
    }
   ],
   "source": [
    "#Exercise 1 Part 2\n",
    "#without loop\n",
    "#using np.random.randn()\n",
    "import numpy as np\n",
    "%time rvs = np.random.randn(10000000)"
   ]
  },
  {
   "cell_type": "code",
   "execution_count": 3,
   "metadata": {
    "collapsed": false
   },
   "outputs": [
    {
     "name": "stdout",
     "output_type": "stream",
     "text": [
      "Wall time: 370 ms\n"
     ]
    }
   ],
   "source": [
    "#Exercise 1 Part 3\n",
    "#without loop\n",
    "#using scipy.stats.norm\n",
    "from scipy.stats import norm\n",
    "%time rvs = norm.rvs(loc=0,scale=1,size=10000000)"
   ]
  },
  {
   "cell_type": "code",
   "execution_count": 4,
   "metadata": {
    "collapsed": false
   },
   "outputs": [
    {
     "data": {
      "text/plain": [
       "array([[ 0,  4,  8, 12],\n",
       "       [ 1,  5,  9, 13],\n",
       "       [ 2,  6, 10, 14],\n",
       "       [ 3,  7, 11, 15]])"
      ]
     },
     "execution_count": 4,
     "metadata": {},
     "output_type": "execute_result"
    }
   ],
   "source": [
    "#Exercise 2\n",
    "import numpy as np\n",
    "def gen_matrix(k):\n",
    "    fst_row = 4*np.arange(k)\n",
    "    return np.vstack((fst_row,fst_row+1,fst_row+2,fst_row+3))\n",
    "\n",
    "#Test\n",
    "gen_matrix(4)"
   ]
  },
  {
   "cell_type": "code",
   "execution_count": 5,
   "metadata": {
    "collapsed": false
   },
   "outputs": [
    {
     "name": "stdout",
     "output_type": "stream",
     "text": [
      "0:gcd(123456,7890)\n",
      "1:gcd(7890,5106)\n",
      "2:gcd(5106,2784)\n",
      "3:gcd(2784,2322)\n",
      "4:gcd(2322,462)\n",
      "5:gcd(462,12)\n",
      "6:gcd(12,6)\n"
     ]
    },
    {
     "data": {
      "text/plain": [
       "6"
      ]
     },
     "execution_count": 5,
     "metadata": {},
     "output_type": "execute_result"
    }
   ],
   "source": [
    "#Exercise 3 Part 1\n",
    "#compute the Greatest Common Divisor with the method of successive division\n",
    "\n",
    "def gcd(a,b,count_flag=True,print_flag=True):\n",
    "#If count_flag=True, we inialize the global variable \"cnt\" to 0\n",
    "#If print_Flag=True, present the computing process and vice versa \n",
    "#The global variable \"cnt\" records how many times the recursion occurs\n",
    "    global cnt                \n",
    "    if count_flag==True:\n",
    "        cnt = 0\n",
    "    lhs = max(a,b)\n",
    "    rhs = min(a,b)\n",
    "    remainder = lhs%rhs\n",
    "    if print_flag==True:\n",
    "        print('{0}:gcd({1},{2})'.format(cnt,lhs,rhs))\n",
    "    if remainder == 0:\n",
    "        return rhs\n",
    "    else:\n",
    "        cnt+=1\n",
    "        return gcd(rhs,remainder,count_flag=False,print_flag=print_flag)\n",
    "    \n",
    "#Test\n",
    "gcd(123456,7890)"
   ]
  },
  {
   "cell_type": "code",
   "execution_count": 6,
   "metadata": {
    "collapsed": false
   },
   "outputs": [
    {
     "data": {
      "text/plain": [
       "12.0"
      ]
     },
     "execution_count": 6,
     "metadata": {},
     "output_type": "execute_result"
    }
   ],
   "source": [
    "#Exercise 3 Part 2\n",
    "#compute the Least Common Multiple by considering its relationship with the Greatest Common Divisor\n",
    "def lcm(a,b):\n",
    "    return a*b/gcd(a,b,print_flag=False) #For simplicity,we omit the printing process\n",
    "\n",
    "#Test\n",
    "lcm(3,4)"
   ]
  },
  {
   "cell_type": "code",
   "execution_count": 7,
   "metadata": {
    "collapsed": false
   },
   "outputs": [
    {
     "data": {
      "text/plain": [
       "'This is for removing redundant spaces'"
      ]
     },
     "execution_count": 7,
     "metadata": {},
     "output_type": "execute_result"
    }
   ],
   "source": [
    "#Exercise 4\n",
    "import re\n",
    "def remove_redundant_spaces(s):\n",
    "    return re.sub('\\s{2,}',chr(32),s)\n",
    "\n",
    "#Test\n",
    "remove_redundant_spaces('This is    for removing redundant spaces')"
   ]
  },
  {
   "cell_type": "code",
   "execution_count": 8,
   "metadata": {
    "collapsed": false
   },
   "outputs": [
    {
     "data": {
      "text/plain": [
       "array([18,  9, 24, 12, 27])"
      ]
     },
     "execution_count": 8,
     "metadata": {},
     "output_type": "execute_result"
    }
   ],
   "source": [
    "#Exercise 5\n",
    "import numpy as np\n",
    "def n_multiples_subarray(lst,n):\n",
    "    arr = np.asarray(lst)\n",
    "    return arr[arr%n==0]\n",
    "\n",
    "#Test\n",
    "n_multiples_subarray([2, 18, 9, 22, 17, 24, 8, 12, 27],3)"
   ]
  },
  {
   "cell_type": "code",
   "execution_count": 9,
   "metadata": {
    "collapsed": false
   },
   "outputs": [
    {
     "data": {
      "text/plain": [
       "life       206\n",
       "day        201\n",
       "house      195\n",
       "water      178\n",
       "time       173\n",
       "pond       165\n",
       "woods      148\n",
       "ice        121\n",
       "heard      103\n",
       "live       103\n",
       "winter      98\n",
       "shore       90\n",
       "morning     88\n",
       "feet        84\n",
       "night       83\n",
       "half        82\n",
       "sun         81\n",
       "earth       80\n",
       "spring      76\n",
       "surface     73\n",
       "dtype: int64"
      ]
     },
     "execution_count": 9,
     "metadata": {},
     "output_type": "execute_result"
    }
   ],
   "source": [
    "#Exercise 6\n",
    "import re\n",
    "import pandas as pd\n",
    "\n",
    "#obtain contents from Walden.txt\n",
    "with open('Walden.txt') as f:\n",
    "    content = f.read()\n",
    "\n",
    "#only keep English words and delete others \n",
    "content = re.sub('[^a-zA-z]',chr(32),content)  #substitute punctuations with spaces\n",
    "content = re.sub('\\s{2,}',chr(32),content)     #remove redundant spaces \n",
    "\n",
    "#split the whole text into words\n",
    "content = content.split(' ')\n",
    "\n",
    "#obtain stop words from StopWords.txt\n",
    "#The table of stop words is downloaded from http://blog.csdn.net/shijiebei2009/article/details/39696523\n",
    "with open('StopWords.txt') as f:\n",
    "    words = f.readlines()\n",
    "stop_words = []\n",
    "for word in words:\n",
    "    word = word.strip()\n",
    "    stop_words.append(word)\n",
    "\n",
    "#All words in StopWords.txt are in lower case\n",
    "#So we change the words in \"content\" into lower case in preparation for comparison \n",
    "content_lower = []\n",
    "for word in content:\n",
    "    content_lower.append(word.lower())\n",
    "content_set = set(content_lower)\n",
    "content_set = content_set-set(stop_words) #delete all the stop words from \"content_set\"\n",
    "content_list = list(content_set)\n",
    "\n",
    "#compute words' frequency in content_set\n",
    "word_frequency = []\n",
    "for word in content_set:\n",
    "    f = content.count(word)\n",
    "    word_frequency.append(f)\n",
    "\n",
    "#generate a dictionary containing words and their frequency\n",
    "content_dict = dict(zip(content_list,word_frequency))\n",
    "\n",
    "#put all the data into a pandas series, so that we can process data and present results in a more convenient way\n",
    "df = pd.Series(content_dict)\n",
    "df = df.sort_values(ascending=False) #put word's frequency in descending order\n",
    "\n",
    "#Present 20 most frequent words\n",
    "df[0:20]"
   ]
  },
  {
   "cell_type": "code",
   "execution_count": 10,
   "metadata": {
    "collapsed": false
   },
   "outputs": [
    {
     "name": "stdout",
     "output_type": "stream",
     "text": [
      "Wall time: 4.65 s\n"
     ]
    }
   ],
   "source": [
    "#Exercise 7\n",
    "#Using the algorithm designed by Eeatosthese, whose main idea is as follows:\n",
    "#Once a prime number is found, all of its multiples are composite numbers.\n",
    "#With this idea, we can process several numbers in the same time\n",
    "\n",
    "import numpy as np\n",
    "\n",
    "def find_prime_numbers(N):\n",
    "    flag_set = np.ones(N)\n",
    "    flag_set[0] = 0\n",
    "    numbers = np.arange(1,N+1)\n",
    "    for i in range(N):\n",
    "        if flag_set[i]==1:\n",
    "            flag_set[numbers%numbers[i]==0]=0\n",
    "            flag_set[i] = 1\n",
    "    return numbers[flag_set==1]\n",
    "\n",
    "%time a = find_prime_numbers(100000)"
   ]
  },
  {
   "cell_type": "code",
   "execution_count": null,
   "metadata": {
    "collapsed": true
   },
   "outputs": [],
   "source": []
  }
 ],
 "metadata": {
  "anaconda-cloud": {},
  "kernelspec": {
   "display_name": "Python [conda root]",
   "language": "python",
   "name": "conda-root-py"
  },
  "language_info": {
   "codemirror_mode": {
    "name": "ipython",
    "version": 3
   },
   "file_extension": ".py",
   "mimetype": "text/x-python",
   "name": "python",
   "nbconvert_exporter": "python",
   "pygments_lexer": "ipython3",
   "version": "3.5.2"
  }
 },
 "nbformat": 4,
 "nbformat_minor": 1
}
