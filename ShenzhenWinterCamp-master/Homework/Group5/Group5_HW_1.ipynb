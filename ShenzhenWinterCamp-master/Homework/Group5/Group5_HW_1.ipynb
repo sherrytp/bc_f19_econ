{
 "cells": [
  {
   "cell_type": "markdown",
   "metadata": {},
   "source": [
    "### Python Essentials Homework"
   ]
  },
  {
   "cell_type": "markdown",
   "metadata": {},
   "source": [
    "#### Name List\n",
    "* Jiayu ZHOU  \n",
    "* Xiaochen YAN  \n",
    "* Qinxuan ZHANG  \n",
    "* Chang WANG  \n",
    "* Shaobo ZHAO"
   ]
  },
  {
   "cell_type": "code",
   "execution_count": 70,
   "metadata": {},
   "outputs": [
    {
     "data": {
      "text/plain": [
       "10"
      ]
     },
     "execution_count": 70,
     "metadata": {},
     "output_type": "execute_result"
    }
   ],
   "source": [
    "#Q1 part1\n",
    "def innerproduct(x_vals,y_vals):\n",
    "    return sum(x*y for x,y in zip(x_vals,y_vals))\n",
    "innerproduct((1,2,3),(3,2,1))"
   ]
  },
  {
   "cell_type": "code",
   "execution_count": 71,
   "metadata": {},
   "outputs": [
    {
     "data": {
      "text/plain": [
       "50"
      ]
     },
     "execution_count": 71,
     "metadata": {},
     "output_type": "execute_result"
    }
   ],
   "source": [
    "#part2\n",
    "sum(x%2==0 for x in range(100))"
   ]
  },
  {
   "cell_type": "code",
   "execution_count": 72,
   "metadata": {},
   "outputs": [
    {
     "data": {
      "text/plain": [
       "6"
      ]
     },
     "execution_count": 72,
     "metadata": {},
     "output_type": "execute_result"
    }
   ],
   "source": [
    "#Q2\n",
    "def p(x,coeff):\n",
    "    return sum(n*x**m for m,n in enumerate(coeff))\n",
    "p(1,(2,4))"
   ]
  },
  {
   "cell_type": "code",
   "execution_count": 74,
   "metadata": {},
   "outputs": [
    {
     "data": {
      "text/plain": [
       "2"
      ]
     },
     "execution_count": 74,
     "metadata": {},
     "output_type": "execute_result"
    }
   ],
   "source": [
    "#Q3\n",
    "def capital(str):\n",
    "    count=0\n",
    "    for letter in str:\n",
    "        if letter==letter.upper() and letter.isalpha():\n",
    "            count+=1\n",
    "    return count\n",
    "capital('I live in China')"
   ]
  },
  {
   "cell_type": "code",
   "execution_count": 75,
   "metadata": {},
   "outputs": [
    {
     "data": {
      "text/plain": [
       "True"
      ]
     },
     "execution_count": 75,
     "metadata": {},
     "output_type": "execute_result"
    }
   ],
   "source": [
    "#Q4\n",
    "def subset(seq_a,seq_b):\n",
    "    subset=True\n",
    "    for i in seq_a:\n",
    "        if i not in seq_b:\n",
    "            subset=False          \n",
    "    return subset\n",
    "subset((1,2,3),(1,2,3))"
   ]
  },
  {
   "cell_type": "code",
   "execution_count": 83,
   "metadata": {
    "collapsed": true
   },
   "outputs": [],
   "source": [
    "#Q5\n",
    "def linapprox(f, a, b, n, x):\n",
    "    \"\"\"\n",
    "    Evaluates the piecewise linear interpolant of f at x on the interval\n",
    "    [a, b], with n evenly spaced grid points.\n",
    "\n",
    "    Parameters\n",
    "    ===========\n",
    "        f : function\n",
    "            The function to approximate\n",
    "\n",
    "        x, a, b : scalars (floats or integers)\n",
    "            Evaluation point and endpoints, with a <= x <= b\n",
    "\n",
    "        n : integer\n",
    "            Number of grid points\n",
    "\n",
    "    Returns\n",
    "    =========\n",
    "        A float. The interpolant evaluated at x\n",
    "\n",
    "    \"\"\"\n",
    "    length_of_interval = b - a\n",
    "    num_subintervals = n - 1\n",
    "    step = length_of_interval / num_subintervals\n",
    "\n",
    "    # === find first grid point larger than x === #\n",
    "    point = a\n",
    "    while point <= x:\n",
    "        point += step\n",
    "\n",
    "    # === x must lie between the gridpoints (point - step) and point === #\n",
    "    u, v = point - step, point\n",
    "\n",
    "    return f(u) + (x - u) * (f(v) - f(u)) / (v - u)"
   ]
  },
  {
   "cell_type": "code",
   "execution_count": 76,
   "metadata": {},
   "outputs": [
    {
     "data": {
      "text/plain": [
       "[3, 5, 6, 7]"
      ]
     },
     "execution_count": 76,
     "metadata": {},
     "output_type": "execute_result"
    }
   ],
   "source": [
    "#Q6\n",
    "#use enumerate\n",
    "l1=[1,3,5,2,1,6,8,0,3]\n",
    "indice=[]\n",
    "for i,j in enumerate(l1):\n",
    "    if j%2==0:\n",
    "        indice.append(i) \n",
    "indice    "
   ]
  },
  {
   "cell_type": "code",
   "execution_count": 77,
   "metadata": {},
   "outputs": [
    {
     "data": {
      "text/plain": [
       "[3, 5, 6, 7]"
      ]
     },
     "execution_count": 77,
     "metadata": {},
     "output_type": "execute_result"
    }
   ],
   "source": [
    "#use zip\n",
    "l1=[1,3,5,2,1,6,8,0,3]\n",
    "indice=[]\n",
    "for i,j in zip(range(len(l1)),l1):\n",
    "    if j%2==0:\n",
    "        indice.append(i)\n",
    "indice"
   ]
  },
  {
   "cell_type": "code",
   "execution_count": 78,
   "metadata": {},
   "outputs": [
    {
     "name": "stdout",
     "output_type": "stream",
     "text": [
      "[6, 9]\n",
      "[0, 1, 2, 3, 4, 5, 7, 8, 10]\n",
      "[2, 4, 5]\n",
      "[0, 1, 3, 6, 7, 8, 9, 10]\n"
     ]
    }
   ],
   "source": [
    "#Q7\n",
    "l2=[1,3,5,2,7,10,0,2,3,0,1]\n",
    "equal_to_zero=[]\n",
    "not_equal_to_zero=[]\n",
    "larger_than_mean=[]\n",
    "smaller_than_mean=[]\n",
    "for i,j in enumerate(l2):\n",
    "    if j==0:\n",
    "        equal_to_zero.append(i)\n",
    "    else:\n",
    "        not_equal_to_zero.append(i)\n",
    "    if j > sum(l2)/len(l2):\n",
    "        larger_than_mean.append(i)\n",
    "    elif j< sum(l2)/len(l2):\n",
    "        smaller_than_mean.append(i)\n",
    "print(equal_to_zero)\n",
    "print(not_equal_to_zero)\n",
    "print(larger_than_mean)\n",
    "print(smaller_than_mean)\n"
   ]
  },
  {
   "cell_type": "code",
   "execution_count": 79,
   "metadata": {},
   "outputs": [
    {
     "data": {
      "text/plain": [
       "False"
      ]
     },
     "execution_count": 79,
     "metadata": {},
     "output_type": "execute_result"
    }
   ],
   "source": [
    "#Q8\n",
    "def exclusive(c1,c2):\n",
    "    return ((c1 and not c2) or (c2 and not c1))\n",
    "exclusive(1,1)"
   ]
  },
  {
   "cell_type": "code",
   "execution_count": 80,
   "metadata": {},
   "outputs": [
    {
     "name": "stdout",
     "output_type": "stream",
     "text": [
      "False\n",
      "True\n"
     ]
    }
   ],
   "source": [
    "#Q9\n",
    "import pandas as pd\n",
    "s1=pd.Series(l1)\n",
    "s2=pd.Series(l2)\n",
    "print(all(s1!=0))\n",
    "print(any(s2>2))"
   ]
  },
  {
   "cell_type": "markdown",
   "metadata": {},
   "source": [
    "### Numpy Homework"
   ]
  },
  {
   "cell_type": "code",
   "execution_count": 69,
   "metadata": {},
   "outputs": [
    {
     "data": {
      "text/plain": [
       "6.0"
      ]
     },
     "execution_count": 69,
     "metadata": {},
     "output_type": "execute_result"
    }
   ],
   "source": [
    "#Q1\n",
    "import numpy as np\n",
    "def p(x,coeff):\n",
    "    n=np.ones(len(coeff))*x\n",
    "    n[0]=1\n",
    "    return np.cumprod(n)@coeff\n",
    "p(1,(2,4))"
   ]
  },
  {
   "cell_type": "code",
   "execution_count": 81,
   "metadata": {
    "collapsed": true
   },
   "outputs": [],
   "source": [
    "#Q2 vectorize to speed up\n",
    "class discreteRV:\n",
    "    \"\"\"\n",
    "    Generates an array of draws from a discrete random variable with vector of\n",
    "    probabilities given by q.\n",
    "    \"\"\"\n",
    "\n",
    "    def __init__(self, q):\n",
    "        \"\"\"\n",
    "        The argument q is a NumPy array, or array like, nonnegative and sums\n",
    "        to 1\n",
    "        \"\"\"\n",
    "        self.q = q\n",
    "        self.Q = cumsum(q)\n",
    "\n",
    "    def draw(self, k=1):\n",
    "        \"\"\"\n",
    "        Returns k draws from q. For each such draw, the value i is returned\n",
    "        with probability q[i].\n",
    "        \"\"\"\n",
    "        return self.Q.searchsorted(uniform(0, 1, size=k))        "
   ]
  },
  {
   "cell_type": "code",
   "execution_count": 82,
   "metadata": {
    "collapsed": true
   },
   "outputs": [],
   "source": [
    "#Q3\n",
    "\"\"\"\n",
    "Modifies ecdf.py from QuantEcon to add in a plot method\n",
    "\n",
    "\"\"\"\n",
    "\n",
    "class ECDF:\n",
    "    \"\"\"\n",
    "    One-dimensional empirical distribution function given a vector of\n",
    "    observations.\n",
    "\n",
    "    Parameters\n",
    "    ----------\n",
    "    observations : array_like\n",
    "        An array of observations\n",
    "\n",
    "    Attributes\n",
    "    ----------\n",
    "    observations : array_like\n",
    "        An array of observations\n",
    "\n",
    "    \"\"\"\n",
    "\n",
    "    def __init__(self, observations):\n",
    "        self.observations = np.asarray(observations)\n",
    "\n",
    "    def __call__(self, x):\n",
    "        \"\"\"\n",
    "        Evaluates the ecdf at x\n",
    "\n",
    "        Parameters\n",
    "        ----------\n",
    "        x : scalar(float)\n",
    "            The x at which the ecdf is evaluated\n",
    "\n",
    "        Returns\n",
    "        -------\n",
    "        scalar(float)\n",
    "            Fraction of the sample less than x\n",
    "\n",
    "        \"\"\"\n",
    "        return np.mean(self.observations <= x)\n",
    "\n",
    "    def plot(self, a=None, b=None):\n",
    "        \"\"\"\n",
    "        Plot the ecdf on the interval [a, b].\n",
    "\n",
    "        Parameters\n",
    "        ----------\n",
    "        a : scalar(float), optional(default=None)\n",
    "            Lower end point of the plot interval\n",
    "        b : scalar(float), optional(default=None)\n",
    "            Upper end point of the plot interval\n",
    "\n",
    "        \"\"\"\n",
    "\n",
    "        # === choose reasonable interval if [a, b] not specified === #\n",
    "        if a is None:\n",
    "            a = self.observations.min() - self.observations.std()\n",
    "        if b is None:\n",
    "            b = self.observations.max() + self.observations.std()\n",
    "\n",
    "        # === generate plot === #\n",
    "        x_vals = np.linspace(a, b, num=100)\n",
    "        f = np.vectorize(self.__call__)\n",
    "        plt.plot(x_vals, f(x_vals))\n",
    "        plt.show()"
   ]
  },
  {
   "cell_type": "code",
   "execution_count": 12,
   "metadata": {},
   "outputs": [
    {
     "name": "stdout",
     "output_type": "stream",
     "text": [
      "2.0\n",
      "Wall time: 0 ns\n"
     ]
    },
    {
     "data": {
      "text/plain": [
       "2.0"
      ]
     },
     "execution_count": 12,
     "metadata": {},
     "output_type": "execute_result"
    }
   ],
   "source": [
    "#Q4\n",
    "n=np.array((1,2,3,4,5))\n",
    "#by array operations\n",
    "print(np.var(n))\n",
    "%time np.var(n)"
   ]
  },
  {
   "cell_type": "code",
   "execution_count": 13,
   "metadata": {},
   "outputs": [
    {
     "name": "stdout",
     "output_type": "stream",
     "text": [
      "2.0\n",
      "Wall time: 0 ns\n"
     ]
    },
    {
     "data": {
      "text/plain": [
       "2.0"
      ]
     },
     "execution_count": 13,
     "metadata": {},
     "output_type": "execute_result"
    }
   ],
   "source": [
    "#by definition\n",
    "m=(1,2,3,4,5)\n",
    "print(sum((i-sum(m)/len(m))**2/len(m) for i in m))\n",
    "%time sum((i-sum(m)/len(m))**2/len(m) for i in m)\n",
    "#Actually the numpy should be faster. But the example is too short, so there is no difference."
   ]
  },
  {
   "cell_type": "code",
   "execution_count": 64,
   "metadata": {},
   "outputs": [
    {
     "name": "stdout",
     "output_type": "stream",
     "text": [
      "Associative law for matrix is False.\n",
      "Reverse order law for matrix is True.\n"
     ]
    }
   ],
   "source": [
    "#Q5\n",
    "A=np.random.normal(0,1,4)\n",
    "A.shape=(2,2)\n",
    "B=np.random.normal(0,1,4)\n",
    "B.shape=(2,2)\n",
    "C=np.random.normal(0,1,4)\n",
    "C.shape=(2,2)\n",
    "#Associative law: \n",
    "print(\"Associative law for matrix is {0}.\".format(np.array_equal(((A@B)@C),A@(B@C))))\n",
    "#Reverse order law: \n",
    "print(\"Reverse order law for matrix is {0}.\".format(np.array_equal(((A@B).T),((B.T)@(A.T)))))"
   ]
  },
  {
   "cell_type": "code",
   "execution_count": 35,
   "metadata": {},
   "outputs": [
    {
     "data": {
      "text/plain": [
       "array([[ 0.69643559,  0.61244047,  0.41359663],\n",
       "       [ 0.75899396,  0.55264739,  0.55448825],\n",
       "       [ 0.11232445,  0.13668291,  0.38366987]])"
      ]
     },
     "execution_count": 35,
     "metadata": {},
     "output_type": "execute_result"
    }
   ],
   "source": [
    "#Q6\n",
    "a = np.random.uniform(0,1, (3, 3))\n",
    "independent=np.array(a)\n",
    "dependent=np.asarray(a)\n",
    "#dependent copy is a pointer, but indenpendent copy is a true copy. When we change the dependent copy, original array will also change. \n",
    "#When we change the independent copy, the original array will not change."
   ]
  },
  {
   "cell_type": "code",
   "execution_count": 68,
   "metadata": {},
   "outputs": [
    {
     "name": "stdout",
     "output_type": "stream",
     "text": [
      "[[  9.86635786e-04]\n",
      " [  3.94264934e-03]\n",
      " [  8.85637464e-03]\n",
      " [  1.57084194e-02]\n",
      " [  2.44717419e-02]\n",
      " [  3.51117571e-02]\n",
      " [  4.75864738e-02]\n",
      " [  6.18466600e-02]\n",
      " [  7.78360372e-02]\n",
      " [  9.54915028e-02]\n",
      " [  1.14743379e-01]\n",
      " [  1.35515686e-01]\n",
      " [  1.57726447e-01]\n",
      " [  1.81288005e-01]\n",
      " [  2.06107374e-01]\n",
      " [  2.32086603e-01]\n",
      " [  2.59123163e-01]\n",
      " [  2.87110354e-01]\n",
      " [  3.15937724e-01]\n",
      " [  3.45491503e-01]\n",
      " [  3.75655056e-01]\n",
      " [  4.06309343e-01]\n",
      " [  4.37333383e-01]\n",
      " [  4.68604740e-01]\n",
      " [  5.00000000e-01]\n",
      " [  5.31395260e-01]\n",
      " [  5.62666617e-01]\n",
      " [  5.93690657e-01]\n",
      " [  6.24344944e-01]\n",
      " [  6.54508497e-01]\n",
      " [  6.84062276e-01]\n",
      " [  7.12889646e-01]\n",
      " [  7.40876837e-01]\n",
      " [  7.67913397e-01]\n",
      " [  7.93892626e-01]\n",
      " [  8.18711995e-01]\n",
      " [  8.42273553e-01]\n",
      " [  8.64484314e-01]\n",
      " [  8.85256621e-01]\n",
      " [  9.04508497e-01]\n",
      " [  9.22163963e-01]\n",
      " [  9.38153340e-01]\n",
      " [  9.52413526e-01]\n",
      " [  9.64888243e-01]\n",
      " [  9.75528258e-01]\n",
      " [  9.84291581e-01]\n",
      " [  9.91143625e-01]\n",
      " [  9.96057351e-01]\n",
      " [  9.99013364e-01]\n",
      " [  1.00000000e+00]\n",
      " [  9.99013364e-01]\n",
      " [  9.96057351e-01]\n",
      " [  9.91143625e-01]\n",
      " [  9.84291581e-01]\n",
      " [  9.75528258e-01]\n",
      " [  9.64888243e-01]\n",
      " [  9.52413526e-01]\n",
      " [  9.38153340e-01]\n",
      " [  9.22163963e-01]\n",
      " [  9.04508497e-01]\n",
      " [  8.85256621e-01]\n",
      " [  8.64484314e-01]\n",
      " [  8.42273553e-01]\n",
      " [  8.18711995e-01]\n",
      " [  7.93892626e-01]\n",
      " [  7.67913397e-01]\n",
      " [  7.40876837e-01]\n",
      " [  7.12889646e-01]\n",
      " [  6.84062276e-01]\n",
      " [  6.54508497e-01]\n",
      " [  6.24344944e-01]\n",
      " [  5.93690657e-01]\n",
      " [  5.62666617e-01]\n",
      " [  5.31395260e-01]\n",
      " [  5.00000000e-01]\n",
      " [  4.68604740e-01]\n",
      " [  4.37333383e-01]\n",
      " [  4.06309343e-01]\n",
      " [  3.75655056e-01]\n",
      " [  3.45491503e-01]\n",
      " [  3.15937724e-01]\n",
      " [  2.87110354e-01]\n",
      " [  2.59123163e-01]\n",
      " [  2.32086603e-01]\n",
      " [  2.06107374e-01]\n",
      " [  1.81288005e-01]\n",
      " [  1.57726447e-01]\n",
      " [  1.35515686e-01]\n",
      " [  1.14743379e-01]\n",
      " [  9.54915028e-02]\n",
      " [  7.78360372e-02]\n",
      " [  6.18466600e-02]\n",
      " [  4.75864738e-02]\n",
      " [  3.51117571e-02]\n",
      " [  2.44717419e-02]\n",
      " [  1.57084194e-02]\n",
      " [  8.85637464e-03]\n",
      " [  3.94264934e-03]\n",
      " [  9.86635786e-04]\n",
      " [  1.49975978e-32]]\n",
      "[[  9.99013364e-01]\n",
      " [  9.96057351e-01]\n",
      " [  9.91143625e-01]\n",
      " [  9.84291581e-01]\n",
      " [  9.75528258e-01]\n",
      " [  9.64888243e-01]\n",
      " [  9.52413526e-01]\n",
      " [  9.38153340e-01]\n",
      " [  9.22163963e-01]\n",
      " [  9.04508497e-01]\n",
      " [  8.85256621e-01]\n",
      " [  8.64484314e-01]\n",
      " [  8.42273553e-01]\n",
      " [  8.18711995e-01]\n",
      " [  7.93892626e-01]\n",
      " [  7.67913397e-01]\n",
      " [  7.40876837e-01]\n",
      " [  7.12889646e-01]\n",
      " [  6.84062276e-01]\n",
      " [  6.54508497e-01]\n",
      " [  6.24344944e-01]\n",
      " [  5.93690657e-01]\n",
      " [  5.62666617e-01]\n",
      " [  5.31395260e-01]\n",
      " [  5.00000000e-01]\n",
      " [  4.68604740e-01]\n",
      " [  4.37333383e-01]\n",
      " [  4.06309343e-01]\n",
      " [  3.75655056e-01]\n",
      " [  3.45491503e-01]\n",
      " [  3.15937724e-01]\n",
      " [  2.87110354e-01]\n",
      " [  2.59123163e-01]\n",
      " [  2.32086603e-01]\n",
      " [  2.06107374e-01]\n",
      " [  1.81288005e-01]\n",
      " [  1.57726447e-01]\n",
      " [  1.35515686e-01]\n",
      " [  1.14743379e-01]\n",
      " [  9.54915028e-02]\n",
      " [  7.78360372e-02]\n",
      " [  6.18466600e-02]\n",
      " [  4.75864738e-02]\n",
      " [  3.51117571e-02]\n",
      " [  2.44717419e-02]\n",
      " [  1.57084194e-02]\n",
      " [  8.85637464e-03]\n",
      " [  3.94264934e-03]\n",
      " [  9.86635786e-04]\n",
      " [  3.74939946e-33]\n",
      " [  9.86635786e-04]\n",
      " [  3.94264934e-03]\n",
      " [  8.85637464e-03]\n",
      " [  1.57084194e-02]\n",
      " [  2.44717419e-02]\n",
      " [  3.51117571e-02]\n",
      " [  4.75864738e-02]\n",
      " [  6.18466600e-02]\n",
      " [  7.78360372e-02]\n",
      " [  9.54915028e-02]\n",
      " [  1.14743379e-01]\n",
      " [  1.35515686e-01]\n",
      " [  1.57726447e-01]\n",
      " [  1.81288005e-01]\n",
      " [  2.06107374e-01]\n",
      " [  2.32086603e-01]\n",
      " [  2.59123163e-01]\n",
      " [  2.87110354e-01]\n",
      " [  3.15937724e-01]\n",
      " [  3.45491503e-01]\n",
      " [  3.75655056e-01]\n",
      " [  4.06309343e-01]\n",
      " [  4.37333383e-01]\n",
      " [  4.68604740e-01]\n",
      " [  5.00000000e-01]\n",
      " [  5.31395260e-01]\n",
      " [  5.62666617e-01]\n",
      " [  5.93690657e-01]\n",
      " [  6.24344944e-01]\n",
      " [  6.54508497e-01]\n",
      " [  6.84062276e-01]\n",
      " [  7.12889646e-01]\n",
      " [  7.40876837e-01]\n",
      " [  7.67913397e-01]\n",
      " [  7.93892626e-01]\n",
      " [  8.18711995e-01]\n",
      " [  8.42273553e-01]\n",
      " [  8.64484314e-01]\n",
      " [  8.85256621e-01]\n",
      " [  9.04508497e-01]\n",
      " [  9.22163963e-01]\n",
      " [  9.38153340e-01]\n",
      " [  9.52413526e-01]\n",
      " [  9.64888243e-01]\n",
      " [  9.75528258e-01]\n",
      " [  9.84291581e-01]\n",
      " [  9.91143625e-01]\n",
      " [  9.96057351e-01]\n",
      " [  9.99013364e-01]\n",
      " [  1.00000000e+00]]\n"
     ]
    },
    {
     "data": {
      "image/png": "[encoded data removed]",
      "text/plain": [
       "<matplotlib.figure.Figure at 0x68da7b8>"
      ]
     },
     "metadata": {},
     "output_type": "display_data"
    }
   ],
   "source": [
    "#Q7\n",
    "x=np.ndarray(shape=(100,1),dtype=float,buffer=np.linspace(0.01,1,100)*np.pi)\n",
    "print(np.sin(x)**2)\n",
    "print(np.cos(x)**2)\n",
    "\n",
    "import matplotlib.pyplot as plt\n",
    "plt.plot(x,np.sin(x)**2,'b-')\n",
    "plt.plot(x,np.cos(x)**2,'r-')\n",
    "plt.show()"
   ]
  },
  {
   "cell_type": "code",
   "execution_count": 46,
   "metadata": {},
   "outputs": [
    {
     "ename": "ValueError",
     "evalue": "The truth value of an array with more than one element is ambiguous. Use a.any() or a.all()",
     "output_type": "error",
     "traceback": [
      "\u001b[1;31m---------------------------------------------------------------------------\u001b[0m",
      "\u001b[1;31mValueError\u001b[0m                                Traceback (most recent call last)",
      "\u001b[1;32m<ipython-input-46-16272f136fff>\u001b[0m in \u001b[0;36m<module>\u001b[1;34m()\u001b[0m\n\u001b[0;32m      4\u001b[0m \u001b[1;32mdef\u001b[0m \u001b[0mf\u001b[0m\u001b[1;33m(\u001b[0m\u001b[0mx\u001b[0m\u001b[1;33m)\u001b[0m\u001b[1;33m:\u001b[0m\u001b[1;33m\u001b[0m\u001b[0m\n\u001b[0;32m      5\u001b[0m     \u001b[1;32mreturn\u001b[0m \u001b[1;36m1\u001b[0m \u001b[1;32mif\u001b[0m \u001b[0mx\u001b[0m \u001b[1;33m%\u001b[0m \u001b[1;36m5\u001b[0m \u001b[1;33m==\u001b[0m \u001b[1;36m0\u001b[0m \u001b[1;32melse\u001b[0m \u001b[1;36m0\u001b[0m\u001b[1;33m\u001b[0m\u001b[0m\n\u001b[1;32m----> 6\u001b[1;33m \u001b[0mf\u001b[0m\u001b[1;33m(\u001b[0m\u001b[0mA\u001b[0m\u001b[1;33m)\u001b[0m\u001b[1;33m\u001b[0m\u001b[0m\n\u001b[0m",
      "\u001b[1;32m<ipython-input-46-16272f136fff>\u001b[0m in \u001b[0;36mf\u001b[1;34m(x)\u001b[0m\n\u001b[0;32m      3\u001b[0m \u001b[0mA\u001b[0m \u001b[1;33m=\u001b[0m \u001b[0mnp\u001b[0m\u001b[1;33m.\u001b[0m\u001b[0marray\u001b[0m\u001b[1;33m(\u001b[0m\u001b[1;33m[\u001b[0m\u001b[1;36m1\u001b[0m\u001b[1;33m,\u001b[0m \u001b[1;36m2\u001b[0m\u001b[1;33m,\u001b[0m \u001b[1;36m3\u001b[0m\u001b[1;33m,\u001b[0m \u001b[1;36m4\u001b[0m\u001b[1;33m,\u001b[0m \u001b[1;36m5\u001b[0m\u001b[1;33m,\u001b[0m \u001b[1;36m6\u001b[0m\u001b[1;33m,\u001b[0m \u001b[1;36m7\u001b[0m\u001b[1;33m,\u001b[0m \u001b[1;36m8\u001b[0m\u001b[1;33m,\u001b[0m \u001b[1;36m9\u001b[0m\u001b[1;33m,\u001b[0m \u001b[1;36m10\u001b[0m\u001b[1;33m]\u001b[0m\u001b[1;33m)\u001b[0m\u001b[1;33m\u001b[0m\u001b[0m\n\u001b[0;32m      4\u001b[0m \u001b[1;32mdef\u001b[0m \u001b[0mf\u001b[0m\u001b[1;33m(\u001b[0m\u001b[0mx\u001b[0m\u001b[1;33m)\u001b[0m\u001b[1;33m:\u001b[0m\u001b[1;33m\u001b[0m\u001b[0m\n\u001b[1;32m----> 5\u001b[1;33m     \u001b[1;32mreturn\u001b[0m \u001b[1;36m1\u001b[0m \u001b[1;32mif\u001b[0m \u001b[0mx\u001b[0m \u001b[1;33m%\u001b[0m \u001b[1;36m5\u001b[0m \u001b[1;33m==\u001b[0m \u001b[1;36m0\u001b[0m \u001b[1;32melse\u001b[0m \u001b[1;36m0\u001b[0m\u001b[1;33m\u001b[0m\u001b[0m\n\u001b[0m\u001b[0;32m      6\u001b[0m \u001b[0mf\u001b[0m\u001b[1;33m(\u001b[0m\u001b[0mA\u001b[0m\u001b[1;33m)\u001b[0m\u001b[1;33m\u001b[0m\u001b[0m\n",
      "\u001b[1;31mValueError\u001b[0m: The truth value of an array with more than one element is ambiguous. Use a.any() or a.all()"
     ]
    }
   ],
   "source": [
    "#Q8\n",
    "#original code\n",
    "import numpy as np\n",
    "A = np.array([1, 2, 3, 4, 5, 6, 7, 8, 9, 10])\n",
    "def f(x):\n",
    "    return 1 if x % 5 == 0 else 0\n",
    "f(A)"
   ]
  },
  {
   "cell_type": "code",
   "execution_count": 48,
   "metadata": {},
   "outputs": [
    {
     "data": {
      "text/plain": [
       "array([0, 0, 0, 0, 1, 0, 0, 0, 0, 1])"
      ]
     },
     "execution_count": 48,
     "metadata": {},
     "output_type": "execute_result"
    }
   ],
   "source": [
    "#method1\n",
    "import numpy as np\n",
    "A = np.array([1, 2, 3, 4, 5, 6, 7, 8, 9, 10])\n",
    "def f(x):\n",
    "    return 1 if x % 5 == 0 else 0\n",
    "f = np.vectorize(f)\n",
    "f(A)"
   ]
  },
  {
   "cell_type": "code",
   "execution_count": 49,
   "metadata": {},
   "outputs": [
    {
     "data": {
      "text/plain": [
       "array([0, 0, 0, 0, 1, 0, 0, 0, 0, 1])"
      ]
     },
     "execution_count": 49,
     "metadata": {},
     "output_type": "execute_result"
    }
   ],
   "source": [
    "#method2\n",
    "np.where(A%5==0, 1, 0) "
   ]
  }
 ],
 "metadata": {
  "kernelspec": {
   "display_name": "Python 3",
   "language": "python",
   "name": "python3"
  },
  "language_info": {
   "codemirror_mode": {
    "name": "ipython",
    "version": 3
   },
   "file_extension": ".py",
   "mimetype": "text/x-python",
   "name": "python",
   "nbconvert_exporter": "python",
   "pygments_lexer": "ipython3",
   "version": "3.6.1"
  }
 },
 "nbformat": 4,
 "nbformat_minor": 2
}
