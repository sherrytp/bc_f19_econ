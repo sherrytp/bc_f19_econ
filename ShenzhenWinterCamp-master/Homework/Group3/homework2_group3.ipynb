{
 "cells": [
  {
   "cell_type": "markdown",
   "metadata": {},
   "source": [
    "# Homework3 by Group3"
   ]
  },
  {
   "cell_type": "markdown",
   "metadata": {
    "collapsed": true
   },
   "source": [
    "Authors:Kaiyang LIN,Tianhao MOU,Lin LIU,Yunxia SHI,Guangyi NING"
   ]
  },
  {
   "cell_type": "markdown",
   "metadata": {},
   "source": [
    "# Matplotlib"
   ]
  },
  {
   "cell_type": "code",
   "execution_count": 92,
   "metadata": {},
   "outputs": [
    {
     "data": {
      "image/png": "[encoded data removed]",
      "text/plain": [
       "<matplotlib.figure.Figure at 0x77d8470>"
      ]
     },
     "metadata": {},
     "output_type": "display_data"
    }
   ],
   "source": [
    "###Exercise1\n",
    "import matplotlib.pyplot as plt\n",
    "import numpy as np\n",
    "from random import uniform\n",
    "from scipy.optimize import newton\n",
    "\n",
    "fig, ax = plt.subplots()\n",
    "x = np.linspace(-np.pi, np.pi, 200)\n",
    "y = np.sin(x)\n",
    "z = np.cos(x)\n",
    "ax.plot(x, y, 'b-', linewidth=2, label='sin', alpha=0.6)\n",
    "ax.plot(x, z, 'g-', linewidth=2, label='cos', alpha=0.6)\n",
    "f = lambda x: np.sin(x) - np.cos(x)\n",
    "#annotate(r'$\\sin(newton(f, -2)) = sin(newton(f, -2))$')\n",
    "plt.scatter([newton(f, -2),], [np.sin(newton(f, -2)),], s=50, color='r')\n",
    "plt.scatter([newton(f, 0),], [np.cos(newton(f, 0)),], s=50, color='r')\n",
    "ax.legend()\n",
    "ax.set_xticks([newton(f, -2),newton(f, 0)])\n",
    "ax.set_yticks([np.sin(newton(f, -2)),np.cos(newton(f, 0))])\n",
    "plt.show()\n"
   ]
  },
  {
   "cell_type": "markdown",
   "metadata": {},
   "source": [
    "# Scipy"
   ]
  },
  {
   "cell_type": "code",
   "execution_count": 93,
   "metadata": {},
   "outputs": [
    {
     "data": {
      "image/png": "[encoded data removed]",
      "text/plain": [
       "<matplotlib.figure.Figure at 0x3bdfb00>"
      ]
     },
     "metadata": {},
     "output_type": "display_data"
    }
   ],
   "source": [
    "###Exercise_1\n",
    "from scipy import stats\n",
    "import numpy as np\n",
    "import pylab\n",
    "\n",
    "x = np.random.randn(50)\n",
    "y = 2 * x + 0.5 * np.random.randn(50)\n",
    "\n",
    "slope, intercept, r_value, p_value, slope_std_error = stats.linregress(x, y)\n",
    "\n",
    "predict_y = intercept + slope * x\n",
    "pred_error = y - predict_y\n",
    "degrees_of_freedom = len(x) - 2\n",
    "residual_std_error = np.sqrt(np.sum(pred_error**2) / degrees_of_freedom)\n",
    "\n",
    "    # Plotting\n",
    "pylab.plot(x, y, 'o')\n",
    "pylab.plot(x, predict_y, 'r-')\n",
    "pylab.show()"
   ]
  },
  {
   "cell_type": "code",
   "execution_count": 1,
   "metadata": {},
   "outputs": [
    {
     "name": "stdout",
     "output_type": "stream",
     "text": [
      "[-18.  21.]\n"
     ]
    }
   ],
   "source": [
    "###Exercise_2\n",
    "from scipy.optimize import fsolve\n",
    "def f(x):\n",
    "    x0,x1 = x.tolist()\n",
    "    return [\n",
    "        x0**2-3*x0+7-385,\n",
    "        x1**2-3*x1+7-385,\n",
    "    ]\n",
    "\n",
    "r = fsolve(f, [1,3])\n",
    "print(r)\n"
   ]
  },
  {
   "cell_type": "code",
   "execution_count": 2,
   "metadata": {},
   "outputs": [
    {
     "name": "stdout",
     "output_type": "stream",
     "text": [
      "No root\n",
      "-0.500030517578125\n"
     ]
    }
   ],
   "source": [
    "###Exercise_3\n",
    "import numpy as np\n",
    "\n",
    "def bisection_f (f, a, b):\n",
    "    if (f(a) * f(b) > 0):\n",
    "        return 'No root'\n",
    "    if (f(a) > 0 and f(b) <0):\n",
    "        temp1 = b\n",
    "        b = a\n",
    "        a = b\n",
    "        return bisection_f (f, a, b)\n",
    "    else:\n",
    "        if abs(f(a)) < 0.0001:\n",
    "            return a\n",
    "        if abs(f(b)) < 0.0001:\n",
    "            return b\n",
    "        else:\n",
    "            if 0 < f((a + b) / 2):\n",
    "                return bisection_f(f, a, (b + a) / 2)\n",
    "            if f((a + b) / 2) < 0:\n",
    "                return bisection_f(f, (b + a) / 2, b)\n",
    "     \n",
    "print (bisection_f(lambda x: 2 * x + 1, 0, 10))\n",
    "print (bisection_f(lambda x: 2 * x + 1, -10, 10))\n",
    "   "
   ]
  },
  {
   "cell_type": "markdown",
   "metadata": {},
   "source": [
    "# Additional-Exercises "
   ]
  },
  {
   "cell_type": "code",
   "execution_count": 5,
   "metadata": {},
   "outputs": [
    {
     "name": "stdout",
     "output_type": "stream",
     "text": [
      "4.556260585784912\n",
      "Wall time: 68 ms\n",
      "Wall time: 84 ms\n",
      "Wall time: 2.11 s\n"
     ]
    }
   ],
   "source": [
    "###Exercise_1\n",
    "##Method_1 with loop\n",
    "import numpy as np\n",
    "import time\n",
    "n=10000000\n",
    "np.random.seed(0)\n",
    "x=np.random.normal(0,1,n)\n",
    "start=time.time()\n",
    "for i in range(n):     \n",
    "    x[i]=0 if x[i]<0 else x[i]\n",
    "end=time.time()\n",
    "print(end-start)\n",
    "\n",
    "##Method_2 without loop\n",
    "n=10000000\n",
    "np.random.seed(0)\n",
    "x=np.random.normal(0,1,n)\n",
    "%time np.where(x > 0, x ,0)\n",
    "\n",
    "##Method_3 without loop\n",
    "import numpy as np\n",
    "n=10000000\n",
    "np.random.seed(0)\n",
    "x=np.random.normal(0,1,n)\n",
    "%time x[x<0]=0\n",
    "\n",
    "##Method_4 without loop\n",
    "def f(x): return x if x > 0 else 0\n",
    "f = np.vectorize(f)\n",
    "n=10000000\n",
    "np.random.seed(0)\n",
    "x=np.random.normal(0,1,n)\n",
    "%time x=f(x)"
   ]
  },
  {
   "cell_type": "code",
   "execution_count": 7,
   "metadata": {},
   "outputs": [
    {
     "name": "stdout",
     "output_type": "stream",
     "text": [
      "[[ 0  4  8 12 16 20 24 28 32 36]\n",
      " [ 1  5  9 13 17 21 25 29 33 37]\n",
      " [ 2  6 10 14 18 22 26 30 34 38]\n",
      " [ 3  7 11 15 19 23 27 31 35 39]]\n"
     ]
    }
   ],
   "source": [
    "###Exercise_2\n",
    "import numpy as np\n",
    "def get_matrix(k):\n",
    "    return np.array([np.linspace(0, 4 * (k - 1) ,k,dtype=int), np.linspace(1, 4 * (k - 1) + 1, k,dtype=int), np.linspace(2, 4 * (k - 1) + 2, k,dtype=int), np.linspace(3, 4 * (k - 1) + 3, k,dtype=int)])\n",
    "print (get_matrix(10))"
   ]
  },
  {
   "cell_type": "code",
   "execution_count": 190,
   "metadata": {},
   "outputs": [
    {
     "name": "stdout",
     "output_type": "stream",
     "text": [
      "0 : gcd( 123456 , 7890 )\n",
      "1 : gcd( 7890 , 5106 )\n",
      "2 : gcd( 5106 , 2784 )\n",
      "3 : gcd( 2784 , 2322 )\n",
      "4 : gcd( 2322 , 462 )\n",
      "5 : gcd( 462 , 12 )\n",
      "6 : gcd( 12 , 6 )\n",
      "The Greatest Common Divisor is 6\n",
      "The Least Common Multiple is 60\n",
      "None\n"
     ]
    }
   ],
   "source": [
    "###Exercise_3\n",
    "import numpy as np\n",
    "def gcd(a, b, i):\n",
    "    if a < b:\n",
    "        temp = a\n",
    "        a = b\n",
    "        b = temp\n",
    "    else:\n",
    "        print ( i , ':','gcd(', a, ',', b, ')')\n",
    "        if a % b == 0:\n",
    "            print ('The Greatest Common Divisor is', b)\n",
    "        else:\n",
    "            r = a % b\n",
    "            i +=  1\n",
    "            gcd(b, r, i)\n",
    "gcd(123456,7890, 0)\n",
    "\n",
    "def lcm(a, b):\n",
    "    if a % b == 0:\n",
    "        print ('The Least Common Multiple is', a)\n",
    "    if b % a == 0:\n",
    "        print ('The Least Common Multiple is', b)\n",
    "    else:\n",
    "        r = max(a,b)\n",
    "        for i in range(r, a * b):\n",
    "            if i % a == 0 and i % b == 0:\n",
    "                print ('The Least Common Multiple is', i)\n",
    "                break\n",
    "        \n",
    "\n",
    "print (lcm(15,20))\n"
   ]
  },
  {
   "cell_type": "code",
   "execution_count": 12,
   "metadata": {},
   "outputs": [
    {
     "name": "stdout",
     "output_type": "stream",
     "text": [
      "0 : gcd( 123456 , 7890 )\n",
      "1 : gcd( 7890 , 5106 )\n",
      "2 : gcd( 5106 , 2784 )\n",
      "3 : gcd( 2784 , 2322 )\n",
      "4 : gcd( 2322 , 462 )\n",
      "5 : gcd( 462 , 12 )\n",
      "6 : gcd( 12 , 6 )\n",
      "The Greatest Common Divisor is 6\n"
     ]
    }
   ],
   "source": [
    "###Exercise_3\n",
    "import numpy as np\n",
    "def gcd(a, b, i):\n",
    "    if a < b:\n",
    "        temp = a\n",
    "        a = b\n",
    "        b = temp\n",
    "        return gcd(a, b, i)\n",
    "    else:\n",
    "        print ( i , ':','gcd(', a, ',', b, ')')\n",
    "        if a % b == 0:\n",
    "            print ('The Greatest Common Divisor is', b)\n",
    "        else:\n",
    "            r = a % b\n",
    "            i +=  1\n",
    "            return gcd(b, r, i)\n",
    "gcd(7890,123456, 0)"
   ]
  },
  {
   "cell_type": "code",
   "execution_count": 16,
   "metadata": {},
   "outputs": [
    {
     "data": {
      "text/plain": [
       "'This is for removing redundant spaces'"
      ]
     },
     "execution_count": 16,
     "metadata": {},
     "output_type": "execute_result"
    }
   ],
   "source": [
    "###Exercise_4\n",
    "x='This is           for removing       redundant spaces'\n",
    "' '.join(x.split())"
   ]
  },
  {
   "cell_type": "code",
   "execution_count": 1,
   "metadata": {},
   "outputs": [
    {
     "name": "stdout",
     "output_type": "stream",
     "text": [
      "[18, 9, 24, 12, 27]\n",
      "[18  9 24 12 27]\n"
     ]
    }
   ],
   "source": [
    "###Exercise_5\n",
    "##Method_1\n",
    "def filterTheList(z):\n",
    "    return list(filter(lambda x: x % 3 == 0, z))\n",
    "y = filterTheList( [2, 18, 9, 22, 17, 24, 8, 12, 27])\n",
    "print(y)\n",
    "    \n",
    "##Method_2   \n",
    "import numpy as np\n",
    "x=np.array([2, 18, 9, 22, 17, 24, 8, 12, 27])\n",
    "y=x[x%3==0]\n",
    "print(y)"
   ]
  },
  {
   "cell_type": "code",
   "execution_count": 30,
   "metadata": {},
   "outputs": [
    {
     "name": "stdout",
     "output_type": "stream",
     "text": [
      "[('the', 5), ('a', 5), ('in', 5), ('your', 4), ('words', 4), ('as', 4), ('you', 4), ('to', 3), ('this', 3), ('may', 3), ('only', 2), ('prime', 2), ('program', 2), ('text', 2), ('file', 2), ('their', 2), ('should', 2), ('exclude', 2), ('on', 2), ('and', 2)]\n",
      "dict_keys(['the', 'a', 'in', 'your', 'words', 'as', 'you', 'to', 'this', 'may', 'only', 'prime', 'program', 'text', 'file', 'their', 'should', 'exclude', 'on', 'and'])\n"
     ]
    }
   ],
   "source": [
    "###Exercise_6\n",
    "import re\n",
    "f=open('test.txt','w')\n",
    "f.write('Suppose initially the only prime number that your program knows is 2.Read a text file, get the 20 most frequent words from the text file, output the words as well as their counts.You should exclude punctuations such as \", . ! # $ ...\". You should provide a dictionary to your code which exclude counting any word in this list, e.g., a dictionray may look like this: [to, a, as, this, for, in, on, but]..In other words, only count English words.You may need some knowledge on regular expressions and its usage in Python.Given a large integer N, find out all the prime numbers less than N. You may optimize your program in multiple passes, and compare their performance to evaluate your improvent.')\n",
    "f.close()\n",
    "\n",
    "f=open('test.txt','r')\n",
    "x=f.read()\n",
    "y1=x.lower()\n",
    "y2='[a-z]+'\n",
    "y3=re.findall(y2,y1)\n",
    "dt={}\n",
    "for i in y3:\n",
    "    dt[i]=dt.setdefault(i,0)+1\n",
    "words=dt.keys()\n",
    "times=dt.values()\n",
    "new_dt=sorted(dt.items(),key=lambda x:x[1],reverse=True)\n",
    "new_dt[20:]=[]\n",
    "print(new_dt)\n",
    "new_x=dict(new_dt)\n",
    "new_x_key=new_x.keys()\n",
    "print(new_x_key)"
   ]
  },
  {
   "cell_type": "code",
   "execution_count": 15,
   "metadata": {},
   "outputs": [
    {
     "name": "stdout",
     "output_type": "stream",
     "text": [
      "Wall time: 0 ns\n",
      "[1, 2, 3, 5, 7, 11, 13, 17, 19, 23, 29, 31, 37, 41, 43, 47, 53, 59, 61, 67, 71, 73, 79, 83, 89, 97]\n",
      "Wall time: 0 ns\n",
      "[1, 2, 3, 5, 7, 11, 13, 17, 19, 23, 29, 31, 37, 41, 43, 47, 53, 59, 61, 67, 71, 73, 79, 83, 89, 97]\n",
      "Wall time: 0 ns\n",
      "[ 2  3  5  7 11 13 17 19 23 29 31 37 41 43 47 53 59 61 67 71 73 79 83 89 97]\n",
      "Wall time: 0 ns\n",
      "[1, 2, 3, 5, 7, 11, 13, 17, 19, 23, 29, 31, 37, 41, 43, 47, 53, 59, 61, 67, 71, 73, 79, 83, 89, 97]\n"
     ]
    }
   ],
   "source": [
    "###Exercise_7\n",
    "##Method_1\n",
    "def find_prime1(x):\n",
    "    import math\n",
    "    import numpy as np\n",
    "    f=[]\n",
    "    f.append(1)\n",
    "    f.append(2)\n",
    "    f.append(3)\n",
    "    for i in range(4, x):\n",
    "        default = 1\n",
    "        for j in range(2, np.array(i)//2+1):\n",
    "            if i % j == 0:\n",
    "                default = 0\n",
    "                break\n",
    "        if default == 1:\n",
    "            f.append(i)\n",
    "    return f\n",
    "            \n",
    "%time y = find_prime1(100)\n",
    "print(y)\n",
    "\n",
    "##Method_2\n",
    "def find_prime2(x):\n",
    "    f=[]\n",
    "    f.append(1)\n",
    "    for i in range(2, x):\n",
    "        default = 1\n",
    "        for j in range(2, i):\n",
    "            if i % j == 0:\n",
    "                default = 0\n",
    "                break\n",
    "        if default == 1:\n",
    "            f.append(i)  \n",
    "    return f        \n",
    "%time y = find_prime2(100)\n",
    "print(y)            \n",
    "    \n",
    "##Method_3\n",
    "from math import sqrt    \n",
    "import numpy as np\n",
    "N = 99 \n",
    "%time y = np.array([ p for p in   range(2, N) if 0 not in [ p% d for d in range(2, int(sqrt(p))+1)] ])\n",
    "print(y)\n",
    "\n",
    "##Method_4\n",
    "from itertools import count    \n",
    "def isPrime(n):    \n",
    "    if n <= 1:    \n",
    "        return False   \n",
    "    for i in count(2):    \n",
    "        if i * i > n:    \n",
    "            return True   \n",
    "        if n % i == 0:    \n",
    "            return False  \n",
    "        \n",
    "def find_prime3(x):\n",
    "    f=[]\n",
    "    f.append(1)\n",
    "    for i in range(2, x):\n",
    "        if isPrime(i) == True:\n",
    "            f.append(i)  \n",
    "    return f \n",
    "\n",
    "%time y = find_prime3(100)\n",
    "print(y)"
   ]
  },
  {
   "cell_type": "markdown",
   "metadata": {},
   "source": [
    "# Museum Assignment"
   ]
  },
  {
   "cell_type": "markdown",
   "metadata": {},
   "source": [
    "1.A"
   ]
  },
  {
   "cell_type": "markdown",
   "metadata": {},
   "source": [
    "2.D"
   ]
  },
  {
   "cell_type": "markdown",
   "metadata": {},
   "source": [
    "3.It is not a question of control effectiveness;it is question of our policy."
   ]
  }
 ],
 "metadata": {
  "kernelspec": {
   "display_name": "Python 3",
   "language": "python",
   "name": "python3"
  },
  "language_info": {
   "codemirror_mode": {
    "name": "ipython",
    "version": 3
   },
   "file_extension": ".py",
   "mimetype": "text/x-python",
   "name": "python",
   "nbconvert_exporter": "python",
   "pygments_lexer": "ipython3",
   "version": "3.6.3"
  }
 },
 "nbformat": 4,
 "nbformat_minor": 2
}
