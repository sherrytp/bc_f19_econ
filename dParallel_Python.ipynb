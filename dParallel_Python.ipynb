{
 "cells": [
  {
   "cell_type": "markdown",
   "metadata": {},
   "source": [
    "* Time: Fall, 2019 \n",
    "* Practice: STP \n",
    "\n",
    "Created to QuantEcon, Paralle Computing Repository [Practice 1](https://github.com/davidzarruk/Parallel_Computing/blob/master/Python_numba_main.py) and [Practice 2](https://github.com/davidzarruk/Parallel_Computing/blob/master/Python_main.py)"
   ]
  },
  {
   "cell_type": "markdown",
   "metadata": {},
   "source": [
    "## House Keeping "
   ]
  },
  {
   "cell_type": "code",
   "execution_count": 1,
   "metadata": {},
   "outputs": [],
   "source": [
    "from numba import jit, jitclass, njit, prange, int64, float64\n",
    "import numpy as np \n",
    "import math\n",
    "import time\n",
    "from scipy.stats import norm\n",
    "from joblib import Parallel, delayed\n",
    "import multiprocessing\n",
    "from collections import OrderedDict\n",
    "import sys"
   ]
  },
  {
   "cell_type": "markdown",
   "metadata": {},
   "source": [
    "## Initialization "
   ]
  },
  {
   "cell_type": "code",
   "execution_count": 2,
   "metadata": {},
   "outputs": [],
   "source": [
    "# Number of workers \n",
    "num_cores = 5\n",
    "\n",
    "# Grid for x\n",
    "nx = 1500 \n",
    "xmin = 0.1 \n",
    "xmax = 4.0 \n",
    "\n",
    "# Grid for e: parameters for Tauchen \n",
    "ne            = 15;\n",
    "ssigma_eps    = 0.02058;\n",
    "llambda_eps   = 0.99;\n",
    "m             = 1.5;\n",
    "\n",
    "# Utility function\n",
    "ssigma        = 2;\n",
    "bbeta         = 0.97;\n",
    "T             = 10;\n",
    "\n",
    "# Prices\n",
    "r             = 0.07;\n",
    "w             = 5;"
   ]
  },
  {
   "cell_type": "code",
   "execution_count": 3,
   "metadata": {},
   "outputs": [],
   "source": [
    "# Initialize the grid for X \n",
    "xgrid = np.zeros(nx)\n",
    "\n",
    "# Initialize the grid for E and the transition probability matrix \n",
    "egrid = np.zeros(ne)\n",
    "P = np.zeros((ne, ne))\n",
    "\n",
    "# Initialize value function V \n",
    "V = np.zeros((T, nx, ne))"
   ]
  },
  {
   "cell_type": "markdown",
   "metadata": {},
   "source": [
    "# Grid Creation "
   ]
  },
  {
   "cell_type": "code",
   "execution_count": 4,
   "metadata": {},
   "outputs": [],
   "source": [
    "# Function to construct the grid for capital (x)\n",
    "size = ne;\n",
    "ssigma_y = math.sqrt(math.pow(ssigma_eps, 2) / (1 - math.pow(llambda_eps,2)));\n",
    "estep = 2*ssigma_y*m / (size-1);\n",
    "it = 0;\n",
    "\n",
    "for i in range(0,ne):\n",
    "\tegrid[i] = (-m*math.sqrt(math.pow(ssigma_eps, 2) / (1 - math.pow(llambda_eps,2))) + it*estep);\n",
    "\tit = it+1;\n",
    "\n",
    "# Function to construct the transition probability matrix for productivity (P) using Tauchen (1986)\n",
    "mm = egrid[1] - egrid[0];\n",
    "for j in range(0,ne):\n",
    "\tfor k in range(0,ne):\n",
    "\t\tif (k == 0):\n",
    "\t\t\tP[j, k] = norm.cdf((egrid[k] - llambda_eps*egrid[j] + (mm/2))/ssigma_eps);\n",
    "\t\telif (k == ne-1):\n",
    "\t\t\tP[j, k] = 1 - norm.cdf((egrid[k] - llambda_eps*egrid[j] - (mm/2))/ssigma_eps);\n",
    "\t\telse:\n",
    "\t\t\tP[j, k] = norm.cdf((egrid[k] - llambda_eps*egrid[j] +\n",
    "            (mm/2))/ssigma_eps) - norm.cdf((egrid[k] \n",
    "            - llambda_eps*egrid[j] - (mm/2))/ssigma_eps);\n",
    "\n",
    "\n",
    "# Exponential of the grid e\n",
    "for i in range(0,ne):\n",
    "\tegrid[i] = math.exp(egrid[i]); "
   ]
  },
  {
   "cell_type": "markdown",
   "metadata": {},
   "source": [
    "# Structure and Function "
   ]
  },
  {
   "cell_type": "code",
   "execution_count": 5,
   "metadata": {},
   "outputs": [],
   "source": [
    "# Value function\n",
    "VV = math.pow(-10.0, 5);\n",
    "\n",
    "# Data structure of state and exogenous variables\n",
    "class modelState(object):\n",
    "\tdef __init__(self,ind,ne,nx,T,age,P,xgrid,egrid,ssigma,bbeta,w,r):\n",
    "\t\tself.ind\t\t= ind\n",
    "\t\tself.ne\t\t\t= ne\n",
    "\t\tself.nx\t\t\t= nx\n",
    "\t\tself.T\t\t\t= T\n",
    "\t\tself.age\t\t= age\n",
    "\t\tself.P\t\t\t= P\n",
    "\t\tself.xgrid\t\t= xgrid\n",
    "\t\tself.egrid\t\t= egrid\n",
    "\t\tself.ssigma\t\t= ssigma\n",
    "\t\tself.bbeta\t\t= bbeta\n",
    "\t\tself.w\t\t\t= w\n",
    "\t\tself.r\t\t\t= r\n",
    "\n",
    "# Function that returns value for a given state\n",
    "# ind: a unique state that corresponds to a pair (ie,ix)\n",
    "def value_func(states):\n",
    "\n",
    "\tind = states.ind\n",
    "\tne = states.ne\n",
    "\tnx = states.nx\n",
    "\tT = states.T\n",
    "\tage = states.age\n",
    "\tP = states.P\n",
    "\txgrid = states.xgrid\n",
    "\tegrid = states.egrid\n",
    "\tssigma = states.ssigma\n",
    "\tbbeta = states.bbeta\n",
    "\tw = states.w\n",
    "\tr = states.r\n",
    "\n",
    "\tix = int(math.floor(ind/ne));\n",
    "\tie = int(math.floor(ind%ne));\n",
    "\n",
    "\tVV = math.pow(-10.0, 3)\n",
    "\tfor ixp in range(0,nx):\n",
    "\t\texpected = 0.0;\n",
    "\t\tif(age < T-1):\n",
    "\t\t\tfor iep in range(0,ne):\n",
    "\t\t\t\texpected = expected + P[ie, iep]*V[age+1, ixp, iep]\n",
    "\n",
    "\t\tcons  = (1 + r)*xgrid[ix] + egrid[ie]*w - xgrid[ixp];\n",
    "\n",
    "\t\tutility = math.pow(cons, (1-ssigma))/(1-ssigma) + bbeta*expected;\n",
    "\n",
    "\t\tif(cons <= 0):\n",
    "\t\t\tutility = math.pow(-10.0,5);\n",
    "\t\t\n",
    "\t\tif(utility >= VV):\n",
    "\t\t\tVV = utility;\n",
    "\n",
    "\t\tutility = 0.0;\n",
    "\n",
    "\treturn[VV];\n"
   ]
  },
  {
   "cell_type": "markdown",
   "metadata": {},
   "source": [
    "## *Life-cycle Computation* "
   ]
  },
  {
   "cell_type": "code",
   "execution_count": 6,
   "metadata": {},
   "outputs": [
    {
     "name": "stdout",
     "output_type": "stream",
     "text": [
      " \n",
      "Life cycle computation: \n",
      " \n",
      "Age:  10 . Time:  50.5793  seconds.\n",
      "Age:  9 . Time:  608.3357  seconds.\n",
      "Age:  8 . Time:  1126.0783  seconds.\n",
      "Age:  7 . Time:  7504.9021  seconds.\n",
      "Age:  6 . Time:  12252.161  seconds.\n",
      "Age:  5 . Time:  16073.9248  seconds.\n",
      "Age:  4 . Time:  17423.171  seconds.\n",
      "Age:  3 . Time:  18831.0179  seconds.\n",
      "Age:  2 . Time:  21746.0866  seconds.\n",
      "Age:  1 . Time:  25657.8417  seconds.\n",
      "TOTAL ELAPSED TIME:  25657.8423  seconds. \n",
      "\n"
     ]
    }
   ],
   "source": [
    "print(\" \")\n",
    "print(\"Life cycle computation: \")\n",
    "print(\" \")\n",
    "\n",
    "\n",
    "start = time.time()\n",
    "\n",
    "for age in reversed(range(0,T)):\n",
    "\n",
    "\t# This function computes `value_func` in parallel for all the states\n",
    "\tresults = Parallel(n_jobs=num_cores)(delayed(value_func)(modelState(ind,ne\n",
    "                                                                        ,nx,T,age,P,xgrid,egrid,ssigma,bbeta,w,r)) for ind in range(0,nx*ne))\n",
    "\n",
    "\t# I write the results on the value matrix: V\n",
    "\tfor ind in range(0,nx*ne):\n",
    "\t\t\n",
    "\t\tix = int(math.floor(ind/ne));\n",
    "\t\tie = int(math.floor(ind%ne));\n",
    "\n",
    "\t\tV[age, ix, ie] = results[ind][0];\n",
    "\n",
    "\tfinish = time.time() - start\n",
    "\tprint(\"Age: \", age+1, \". Time: \", round(finish, 4), \" seconds.\")\n",
    "\n",
    "finish = time.time() - start\n",
    "print (\"TOTAL ELAPSED TIME: \", round(finish, 4), \" seconds. \\n\")"
   ]
  },
  {
   "cell_type": "markdown",
   "metadata": {},
   "source": [
    "## Grid Creation "
   ]
  },
  {
   "cell_type": "code",
   "execution_count": 7,
   "metadata": {},
   "outputs": [],
   "source": [
    "# Function to construct the grid for capital (x)\n",
    "size = nx;\n",
    "xstep = (xmax - xmin) /(size - 1);\n",
    "it = 0;\n",
    "for i in range(0,nx):\n",
    "\txgrid[i] = xmin + it*xstep;\n",
    "\tit = it+1;\n",
    "\n",
    "\n",
    "# Function to construct the grid for productivity (e) using Tauchen (1986)\n",
    "size = ne;\n",
    "ssigma_y = math.sqrt(math.pow(ssigma_eps, 2) / (1 - math.pow(llambda_eps,2)));\n",
    "estep = 2*ssigma_y*m / (size-1);\n",
    "it = 0;\n",
    "for i in range(0,ne):\n",
    "\tegrid[i] = (-m*math.sqrt(math.pow(ssigma_eps, 2) / (1 - math.pow(llambda_eps,2))) + it*estep);\n",
    "\tit = it+1;\n",
    "\n",
    "\n",
    "# Function to construct the transition probability matrix for productivity (P) using Tauchen (1986)\n",
    "mm = egrid[1] - egrid[0];\n",
    "for j in range(0,ne):\n",
    "\tfor k in range(0,ne):\n",
    "\t\tif (k == 0):\n",
    "\t\t\tP[j, k] = norm.cdf((egrid[k] - llambda_eps*egrid[j] + (mm/2))/ssigma_eps);\n",
    "\t\telif (k == ne-1):\n",
    "\t\t\tP[j, k] = 1 - norm.cdf((egrid[k] - llambda_eps*egrid[j] - (mm/2))/ssigma_eps);\n",
    "\t\telse:\n",
    "\t\t\tP[j, k] = norm.cdf((egrid[k] - llambda_eps*egrid[j] + (mm/2))/ssigma_eps) - norm.cdf((egrid[k] - llambda_eps*egrid[j] - (mm/2))/ssigma_eps);\n",
    "\n",
    "# Exponential of the grid e\n",
    "for i in range(0,ne):\n",
    "\tegrid[i] = math.exp(egrid[i]);"
   ]
  },
  {
   "cell_type": "markdown",
   "metadata": {},
   "source": [
    "## Structure and Function "
   ]
  },
  {
   "cell_type": "code",
   "execution_count": 8,
   "metadata": {},
   "outputs": [],
   "source": [
    "# Value function\n",
    "VV = math.pow(-10.0, 5);\n",
    "\n",
    "specs = OrderedDict()\n",
    "specs['ind'] = int64\n",
    "specs['ne'] = int64\n",
    "specs['nx'] = int64\n",
    "specs['T'] = int64\n",
    "specs['age'] = int64\n",
    "specs['P'] = float64[:,:]\n",
    "specs['xgrid'] = float64[:]\n",
    "specs['egrid'] = float64[:]\n",
    "specs['ssigma'] = float64\n",
    "specs['bbeta'] = float64\n",
    "specs['w'] = float64\n",
    "specs['r'] = float64\n",
    "specs['V'] = float64[:,:,:]\n",
    "\n",
    "\n",
    "# Data structure of state and exogenous variables\n",
    "@jitclass(specs)\n",
    "class modelState(object):\n",
    "\tdef __init__(self,ind,ne,nx,T,age,P,xgrid,egrid,ssigma,bbeta,w,r,V):\n",
    "\t\tself.ind\t\t= ind\n",
    "\t\tself.ne\t\t\t= ne\n",
    "\t\tself.nx\t\t\t= nx\n",
    "\t\tself.T\t\t\t= T\n",
    "\t\tself.age\t\t= age\n",
    "\t\tself.P\t\t\t= P\n",
    "\t\tself.xgrid\t\t= xgrid\n",
    "\t\tself.egrid\t\t= egrid\n",
    "\t\tself.ssigma\t\t= ssigma\n",
    "\t\tself.bbeta\t\t= bbeta\n",
    "\t\tself.w\t\t\t= w\n",
    "\t\tself.r\t\t\t= r\n",
    "\t\tself.V\t\t\t= V\n",
    "\n",
    "# Function that returns value for a given state\n",
    "# ind: a unique state that corresponds to a pair (ie,ix)\n",
    "@njit\n",
    "def value_func(states):\n",
    "\n",
    "\tind = states.ind\n",
    "\tne = states.ne\n",
    "\tnx = states.nx\n",
    "\tT = states.T\n",
    "\tage = states.age\n",
    "\tP = states.P\n",
    "\txgrid = states.xgrid\n",
    "\tegrid = states.egrid\n",
    "\tssigma = states.ssigma\n",
    "\tbbeta = states.bbeta\n",
    "\tw = states.w\n",
    "\tr = states.r\n",
    "\tV = states.V\n",
    "\n",
    "\tix = int(math.floor(ind/ne));\n",
    "\tie = int(math.floor(ind%ne));\n",
    "\n",
    "\tVV = math.pow(-10.0, 3)\n",
    "\tfor ixp in range(0,nx):\n",
    "\t\texpected = 0.0;\n",
    "\t\tif(age < T-1):\n",
    "\t\t\tfor iep in range(0,ne):\n",
    "\t\t\t\texpected = expected + P[ie, iep]*V[age+1, ixp, iep]\n",
    "\n",
    "\t\tcons  = (1 + r)*xgrid[ix] + egrid[ie]*w - xgrid[ixp];\n",
    "\n",
    "\t\tutility = math.pow(cons, (1-ssigma))/(1-ssigma) + bbeta*expected;\n",
    "\n",
    "\t\tif(cons <= 0):\n",
    "\t\t\tutility = math.pow(-10.0,5);\n",
    "\t\t\n",
    "\t\tif(utility >= VV):\n",
    "\t\t\tVV = utility;\n",
    "\n",
    "\t\tutility = 0.0;\n",
    "\n",
    "\treturn[VV];"
   ]
  },
  {
   "cell_type": "markdown",
   "metadata": {},
   "source": [
    "## *Another Life-cycle Consumption* "
   ]
  },
  {
   "cell_type": "code",
   "execution_count": 10,
   "metadata": {},
   "outputs": [
    {
     "name": "stdout",
     "output_type": "stream",
     "text": [
      " \n",
      "Life cycle computation: \n",
      " \n",
      "Age:  10 . Time:  2.1684  seconds.\n",
      "Age:  9 . Time:  2.8737  seconds.\n",
      "Age:  8 . Time:  3.9767  seconds.\n",
      "Age:  7 . Time:  4.8341  seconds.\n",
      "Age:  6 . Time:  5.6859  seconds.\n",
      "Age:  5 . Time:  6.4507  seconds.\n",
      "Age:  4 . Time:  7.1632  seconds.\n",
      "Age:  3 . Time:  7.8539  seconds.\n",
      "Age:  2 . Time:  8.5451  seconds.\n",
      "Age:  1 . Time:  9.2503  seconds.\n",
      "TOTAL ELAPSED TIME:  9.2511  seconds. \n",
      "\n"
     ]
    }
   ],
   "source": [
    "print(\" \")\n",
    "print(\"Life cycle computation: \")\n",
    "print(\" \")\n",
    "\n",
    "@njit(parallel=True)\n",
    "def compute(age, V):\n",
    "\n",
    "\tfor ind in prange(0,nx*ne):\n",
    "\n",
    "\t\tstates = modelState(ind, ne, nx, T, age, P, xgrid, egrid, ssigma, bbeta, w, r, V)\n",
    "\t\t\n",
    "\t\tix = int(math.floor(ind/ne));\n",
    "\t\tie = int(math.floor(ind%ne));\n",
    "\n",
    "\t\tV[age, ix, ie] = value_func(states)[0];\n",
    "\n",
    "\treturn(V)\n",
    "\n",
    "\n",
    "\n",
    "start = time.time()\n",
    "# Initialize value function V\n",
    "V     = np.zeros((T, nx, ne))\n",
    "\n",
    "for age in range(T-1, -1, -1):\n",
    "\tV = compute(age, V)\n",
    "\n",
    "\tfinish = time.time() - start\n",
    "\tprint(\"Age: \", age+1, \". Time: \", round(finish, 4), \" seconds.\")\n",
    "\n",
    "\n",
    "finish = time.time() - start\n",
    "print(\"TOTAL ELAPSED TIME: \", round(finish, 4), \" seconds. \\n\")"
   ]
  },
  {
   "cell_type": "markdown",
   "metadata": {},
   "source": [
    "## Chekcs "
   ]
  },
  {
   "cell_type": "code",
   "execution_count": 11,
   "metadata": {
    "scrolled": true
   },
   "outputs": [
    {
     "name": "stdout",
     "output_type": "stream",
     "text": [
      " - - - - - - - - - - - - - - - - - - - - - \n",
      "\n",
      "The first entries of the value function: \n",
      "\n",
      "-2.11762\n",
      "-2.07729\n",
      "-2.02366\n",
      " \n",
      "\n"
     ]
    }
   ],
   "source": [
    "print(\" - - - - - - - - - - - - - - - - - - - - - \\n\")\n",
    "print(\"The first entries of the value function: \\n\")\n",
    "\n",
    "for i in range(0,3): \n",
    "    print(round(V[0, 0, i], 5))\n",
    "\n",
    "print(\" \\n\")"
   ]
  },
  {
   "cell_type": "markdown",
   "metadata": {},
   "source": [
    "The end. "
   ]
  }
 ],
 "metadata": {
  "kernelspec": {
   "display_name": "Python 3",
   "language": "python",
   "name": "python3"
  },
  "language_info": {
   "codemirror_mode": {
    "name": "ipython",
    "version": 3
   },
   "file_extension": ".py",
   "mimetype": "text/x-python",
   "name": "python",
   "nbconvert_exporter": "python",
   "pygments_lexer": "ipython3",
   "version": "3.7.3"
  }
 },
 "nbformat": 4,
 "nbformat_minor": 2
}
