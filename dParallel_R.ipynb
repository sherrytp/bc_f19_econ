{
 "cells": [
  {
   "cell_type": "markdown",
   "metadata": {},
   "source": [
    "* Time: Fall, 2019 \n",
    "* Practice: STP \n",
    "\n",
    "Created to QuantEcon, Paralle Computing Repository [Practice 1](https://github.com/davidzarruk/Parallel_Computing/blob/master/R_main.R) and [Practice 2](https://github.com/davidzarruk/Parallel_Computing/blob/master/Rcpp_main.R)"
   ]
  },
  {
   "cell_type": "markdown",
   "metadata": {},
   "source": [
    "### House Keeping"
   ]
  },
  {
   "cell_type": "code",
   "execution_count": 4,
   "metadata": {},
   "outputs": [],
   "source": [
    "library(\"parallel\")\n",
    "args <- commandArgs(TRUE)\n",
    "\n",
    ".libPaths( c( .libPaths(), \"~/R/x86_64-pc-linux-gnu-library/3.4/\") )\n",
    "\n",
    "library(\"Rcpp\")\n",
    "\n",
    "setwd(\"/Users/apple/Desktop/bc_f19_econ\")\n",
    "\n",
    "Sys.setenv(\"PKG_CXXFLAGS\"=\" -fopenmp\")\n",
    "\n",
    "# Number of workers\n",
    "#sourceCpp(\"Rcpp_main.cpp\")"
   ]
  },
  {
   "cell_type": "markdown",
   "metadata": {},
   "source": [
    "## Initialization "
   ]
  },
  {
   "cell_type": "code",
   "execution_count": 8,
   "metadata": {},
   "outputs": [],
   "source": [
    "# Number of workers\n",
    "no_cores <- 5\n",
    "#as.integer(args)\n",
    "cl <- makeCluster(no_cores)\n",
    "\n",
    "# Grid for x\n",
    "nx            = 1500; \n",
    "xmin          = 0.1; \n",
    "xmax          = 4.0;\n",
    "\n",
    "# Grid for e: parameters for Tauchen\n",
    "ne            = 15; \n",
    "ssigma_eps    = 0.02058; \n",
    "llambda_eps   = 0.99; \n",
    "m             = 1.5; \n",
    "\n",
    "# Utility function\n",
    "ssigma        = 2; \n",
    "bbeta         = 0.97;\n",
    "T             = 10;\n",
    "\n",
    "# Prices\n",
    "r             = 0.07;\n",
    "w             = 5;\n",
    "\n",
    "# Initialize grids\n",
    "xgrid = matrix(0, 1, nx)\n",
    "egrid = matrix(0, 1, ne)\n",
    "P     = matrix(0, ne, ne)\n",
    "V     = array(0, dim=c(T, nx, ne))"
   ]
  },
  {
   "cell_type": "markdown",
   "metadata": {},
   "source": [
    "## Grid Creation"
   ]
  },
  {
   "cell_type": "code",
   "execution_count": 9,
   "metadata": {},
   "outputs": [],
   "source": [
    "# Grid for capital (x)\n",
    "size = nx;\n",
    "xstep = (xmax - xmin) /(size - 1);\n",
    "it = 0;\n",
    "for(i in 1:nx){\n",
    "  xgrid[i] = xmin + it*xstep;\n",
    "  it = it+1;\n",
    "}\n",
    "\n",
    "# Grid for productivity (e) with Tauchen (1986)\n",
    "size = ne;\n",
    "ssigma_y = sqrt((ssigma_eps^2) / (1 - (llambda_eps^2)));\n",
    "estep = 2*ssigma_y*m / (size-1);\n",
    "it = 0;\n",
    "for(i in 1:ne){\n",
    "  egrid[i] = (-m*sqrt((ssigma_eps^2) / (1 - (llambda_eps^2))) + it*estep);\n",
    "  it = it+1;\n",
    "}\n",
    "\n",
    "# Transition probability matrix (P) Tauchen (1986)\n",
    "mm = egrid[2] - egrid[1];\n",
    "for(j in 1:ne){\n",
    "  for(k in 1:ne){\n",
    "    if(k == 1){\n",
    "      P[j, k] = pnorm((egrid[k] - llambda_eps*egrid[j] + (mm/2))/ssigma_eps);\n",
    "    } else if(k == ne){\n",
    "      P[j, k] = 1 - pnorm((egrid[k] - llambda_eps*egrid[j] - (mm/2))/ssigma_eps);\n",
    "    } else{\n",
    "      P[j, k] = pnorm((egrid[k] - llambda_eps*egrid[j] + (mm/2))/ssigma_eps) - pnorm((egrid[k] - llambda_eps*egrid[j] - (mm/2))/ssigma_eps);\n",
    "    }\n",
    "  }\n",
    "}\n",
    "\n",
    "# Exponential of the grid e\n",
    "for(i in 1:ne){\n",
    "  egrid[i] = exp(egrid[i]);\n",
    "}"
   ]
  },
  {
   "cell_type": "markdown",
   "metadata": {},
   "source": [
    "## Value Function I"
   ]
  },
  {
   "cell_type": "code",
   "execution_count": null,
   "metadata": {},
   "outputs": [],
   "source": [
    "# Function that computes value function, given vector of state variables\n",
    "value = function(ind){\n",
    "\n",
    "  ix = as.integer(floor((ind-0.05)/ne))+1;\n",
    "  ie = as.integer(floor((ind-0.05) %% ne)+1);\n",
    "  \n",
    "  VV = -10.0^3;\n",
    "  for(ixp in 1:nx){\n",
    "    \n",
    "    expected = 0.0;\n",
    "    if(age < T){\n",
    "      for(iep in 1:ne){\n",
    "        expected = expected + P[ie, iep]*V[age+1, ixp, iep];\n",
    "      }\n",
    "    }\n",
    "    \n",
    "    cons  = (1 + r)*xgrid[ix] + egrid[ie]*w - xgrid[ixp];\n",
    "    \n",
    "    utility = (cons^(1-ssigma))/(1-ssigma) + bbeta*expected;\n",
    "    \n",
    "    if(cons <= 0){\n",
    "      utility = -10.0^(5);\n",
    "    }\n",
    "    \n",
    "    if(utility >= VV){\n",
    "      VV = utility;\n",
    "    }\n",
    "  }\n",
    "  \n",
    "  return(VV);\n",
    "}"
   ]
  },
  {
   "cell_type": "markdown",
   "metadata": {},
   "source": [
    "## Value Function II"
   ]
  },
  {
   "cell_type": "code",
   "execution_count": 10,
   "metadata": {},
   "outputs": [
    {
     "ename": "ERROR",
     "evalue": "Error in value(nx, xmin, xmax, ne, ssigma_eps, llambda_eps, m, ssigma, : could not find function \"value\"\n",
     "output_type": "error",
     "traceback": [
      "Error in value(nx, xmin, xmax, ne, ssigma_eps, llambda_eps, m, ssigma, : could not find function \"value\"\nTraceback:\n"
     ]
    }
   ],
   "source": [
    "V = value(nx, xmin, xmax, \n",
    "      ne, ssigma_eps, llambda_eps, m, \n",
    "      ssigma, bbeta, T, r, w);\n",
    "\n",
    "\n",
    "# I recover the Policy Functions\n",
    "Value   = array(0,dim=c(T, nx, ne));\n",
    "\n",
    "for (age in 1:T){\n",
    "  for (ix in 1:nx){\n",
    "    for(ie in 1:ne){\n",
    "      Value[age, ix, ie]   = V[(age-1)*nx*ne + (ix-1)*ne + ie];\n",
    "    }\n",
    "  }\n",
    "}"
   ]
  },
  {
   "cell_type": "markdown",
   "metadata": {},
   "source": [
    "## Life-cycle Computation "
   ]
  },
  {
   "cell_type": "code",
   "execution_count": 11,
   "metadata": {},
   "outputs": [
    {
     "name": "stdout",
     "output_type": "stream",
     "text": [
      "[1] \" \"\n",
      "[1] \"Life cycle computation: \"\n",
      "[1] \" \"\n"
     ]
    },
    {
     "ename": "ERROR",
     "evalue": "Error in parLapply(cl, 1:(ne * nx), value): object 'value' not found\n",
     "output_type": "error",
     "traceback": [
      "Error in parLapply(cl, 1:(ne * nx), value): object 'value' not found\nTraceback:\n",
      "1. parLapply(cl, 1:(ne * nx), value)",
      "2. do.call(c, clusterApply(cl = cl, x = splitList(X, nchunks), fun = lapply, \n .     FUN = fun, ...), quote = TRUE)",
      "3. clusterApply(cl = cl, x = splitList(X, nchunks), fun = lapply, \n .     FUN = fun, ...)",
      "4. staticClusterApply(cl, fun, length(x), argfun)",
      "5. sendCall(cl[[i]], fun, argfun(start + i - 1L))",
      "6. postNode(con, \"EXEC\", list(fun = fun, args = args, return = return, \n .     tag = tag))",
      "7. sendData(con, list(type = type, data = value, tag = tag))",
      "8. sendData.SOCKnode(con, list(type = type, data = value, tag = tag))",
      "9. serialize(data, node$con)",
      "10. argfun(start + i - 1L)"
     ]
    }
   ],
   "source": [
    "print(\" \")\n",
    "print(\"Life cycle computation: \")\n",
    "print(\" \")\n",
    "\n",
    "start = proc.time()[3];\n",
    "\n",
    "for(age in T:1){\n",
    "\n",
    "  clusterExport(cl, c(\"V\", \"age\", \"ne\",\"nx\", \"r\", \"T\", \"P\", \"xgrid\", \"egrid\", \"ssigma\", \"bbeta\", \"w\"), envir=environment()) \n",
    "  \n",
    "  s = parLapply(cl, 1:(ne*nx), value)\n",
    "\n",
    "  for(ind in 1:(nx*ne)){\n",
    "    ix = as.integer(floor((ind-0.05)/ne))+1;\n",
    "    ie = as.integer(floor((ind-0.05) %% ne)+1);\n",
    "    \n",
    "    V[age, ix, ie] = s[[ind]][1]\n",
    "  }  \n",
    "  \n",
    "  finish = proc.time()[3] - start;\n",
    "  print(paste0(\"Age: \", age, \". Time: \", round(finish, 3), \" seconds.\"))\n",
    "}\n",
    "\n",
    "print(\" \")\n",
    "finish = proc.time()[3] - start;\n",
    "print(paste(\"TOTAL ELAPSED TIME: \", finish, \" seconds. \"))"
   ]
  },
  {
   "cell_type": "markdown",
   "metadata": {},
   "source": [
    "### Check"
   ]
  },
  {
   "cell_type": "code",
   "execution_count": 12,
   "metadata": {},
   "outputs": [
    {
     "name": "stdout",
     "output_type": "stream",
     "text": [
      "[1] \" \"\n",
      "[1] \" - - - - - - - - - - - - - - - - - - - - - \"\n",
      "[1] \" \"\n",
      "[1] \"The first entries of the value function: \"\n",
      "[1] \" \"\n",
      "[1] 0\n",
      "[1] 0\n",
      "[1] 0\n",
      "[1] \" \"\n"
     ]
    }
   ],
   "source": [
    "print(\" \")\n",
    "print(\" - - - - - - - - - - - - - - - - - - - - - \")\n",
    "print(\" \")\n",
    "print(\"The first entries of the value function: \")\n",
    "print(\" \")\n",
    "\n",
    "for(i in 1:3){\n",
    "  print(V[1, 1, i])\n",
    "}\n",
    "\n",
    "print(\" \")"
   ]
  },
  {
   "cell_type": "markdown",
   "metadata": {},
   "source": [
    "The end. "
   ]
  }
 ],
 "metadata": {
  "kernelspec": {
   "display_name": "R",
   "language": "R",
   "name": "ir"
  },
  "language_info": {
   "codemirror_mode": "r",
   "file_extension": ".r",
   "mimetype": "text/x-r-source",
   "name": "R",
   "pygments_lexer": "r",
   "version": "3.5.1"
  }
 },
 "nbformat": 4,
 "nbformat_minor": 2
}
