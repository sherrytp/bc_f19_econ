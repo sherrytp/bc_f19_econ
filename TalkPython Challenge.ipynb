{
 "cells": [
  {
   "cell_type": "markdown",
   "metadata": {},
   "source": [
    "# Practice exercises for organizing with functions\n",
    "\n",
    "### Function with parameters (input data)\n",
    "When we have code that we want to reuse or isolate and treat as a single concept (black box), we define functions. Here is a basic function:"
   ]
  },
  {
   "cell_type": "code",
   "execution_count": 1,
   "metadata": {},
   "outputs": [],
   "source": [
    "def say_hello(name): \n",
    "    print(f'Nice to meet you, {name}')"
   ]
  },
  {
   "cell_type": "markdown",
   "metadata": {},
   "source": [
    "### Fuction that generates data (return values)\n",
    "Functions can also return values to be used later:"
   ]
  },
  {
   "cell_type": "code",
   "execution_count": 2,
   "metadata": {},
   "outputs": [],
   "source": [
    "def get_name(): \n",
    "    name = input(\"What is your name?\")\n",
    "    return name "
   ]
  },
  {
   "cell_type": "code",
   "execution_count": 3,
   "metadata": {},
   "outputs": [
    {
     "name": "stdout",
     "output_type": "stream",
     "text": [
      "What is your name?Sherry\n",
      "Nice to meet you, Sherry\n"
     ]
    }
   ],
   "source": [
    "person = get_name()\n",
    "say_hello(person)"
   ]
  },
  {
   "cell_type": "markdown",
   "metadata": {},
   "source": [
    "### A main method and running \"the program\"\n",
    "As we saw, it's a good convention to have an overall organizing function that is what the whole program does at the top of the file. I called this main, for example:\n",
    "\n",
    "```\n",
    "def main():\n",
    "    show_header()\n",
    "    get_names()\n",
    "    # ... \n",
    "```\n",
    "And you must remember to run this at the end of your program to actually make it execute. We added these two lines as the final of the source file:\n",
    "\n",
    "```\n",
    "if __name__ == \"__main__\":\n",
    "    main()\n",
    "```"
   ]
  },
  {
   "cell_type": "code",
   "execution_count": 4,
   "metadata": {},
   "outputs": [
    {
     "name": "stdout",
     "output_type": "stream",
     "text": [
      "What is your name?Sherry\n"
     ]
    }
   ],
   "source": [
    "def main(): \n",
    "    get_name()\n",
    "    pass\n",
    "\n",
    "if __name__ == \"__main__\":\n",
    "    main()"
   ]
  },
  {
   "cell_type": "markdown",
   "metadata": {},
   "source": [
    "## M&M guessing game\n",
    "\n",
    "which we created back in chapter 5 (interactive code) and clean it up using functions. \n",
    "Guess the number of M&M candies in the jar within 5 guesses: \n",
    "1. randomly pick a number between 1,100 \n",
    "2. get the guess input from user \n",
    "3. evaluate and compare the guess and the random \n",
    "4. iterate the comparison and return some feedback \n",
    "5. return the result and \"end\"(break) the game "
   ]
  },
  {
   "cell_type": "code",
   "execution_count": 5,
   "metadata": {},
   "outputs": [],
   "source": [
    "def get_guess_from_user():\n",
    "    guess_text = input(\"How many M&M you guess in the jar?\")\n",
    "    guess_num = int(guess_text)\n",
    "    return guess_num\n",
    "\n",
    "def evaluate_guess(guess, actual_count):\n",
    "    if guess == actual_count: \n",
    "        print(f'You got a free lunch! It was {guess}.')\n",
    "    elif guess < actual_count: \n",
    "        print(\"Sorry, that's too LOW!\")\n",
    "    else: \n",
    "        print(\"That's too HIGH!\")\n",
    "        \n",
    "    return guess == actual_count "
   ]
  },
  {
   "cell_type": "code",
   "execution_count": 6,
   "metadata": {},
   "outputs": [
    {
     "name": "stdout",
     "output_type": "stream",
     "text": [
      "------------------------------\n",
      "     M&M guessing game!\n",
      "------------------------------\n",
      "Guess the number of M&Ms and you get lunch on the house!\n",
      "You get five guesses in total.\n",
      "\n",
      "How many M&M you guess in the jar?5\n",
      "Sorry, that's too LOW!\n",
      "How many M&M you guess in the jar?50\n",
      "Sorry, that's too LOW!\n",
      "How many M&M you guess in the jar?80\n",
      "That's too HIGH!\n",
      "How many M&M you guess in the jar?70\n",
      "That's too HIGH!\n",
      "How many M&M you guess in the jar?60\n",
      "That's too HIGH!\n",
      "Bye, you're done in 5 attempts!\n"
     ]
    }
   ],
   "source": [
    "import random\n",
    "\n",
    "def main():\n",
    "    show_header()\n",
    "    play_game()\n",
    "\n",
    "\n",
    "def show_header():\n",
    "    print(\"------------------------------\")\n",
    "    print(\"     M&M guessing game!\")\n",
    "    print(\"------------------------------\")\n",
    "\n",
    "    print(\"Guess the number of M&Ms and you get lunch on the house!\")\n",
    "    print(\"You get five guesses in total.\")\n",
    "    print()\n",
    "    \n",
    "def play_game(): \n",
    "    mm = random.randint(0,100)\n",
    "    attempt_limit = 5 \n",
    "    attempt = 0 \n",
    "    while attempt < attempt_limit: \n",
    "        guess = get_guess_from_user()\n",
    "        attempt += 1\n",
    "        \n",
    "        if evaluate_guess(guess, mm): \n",
    "            break \n",
    "    print(f\"Bye, you're done in {attempt} attempts!\")\n",
    "\n",
    "\n",
    "\n",
    "        \n",
    "if __name__ == \"__main__\":\n",
    "    main()"
   ]
  },
  {
   "cell_type": "markdown",
   "metadata": {},
   "source": [
    "# Practice exercises for data structures\n",
    "### Creating a static dictionary\n",
    "You can create a dictionary a number of ways. How you do this depends on how much data is static and how much is dynamic as part of the program's execution."
   ]
  },
  {
   "cell_type": "code",
   "execution_count": 8,
   "metadata": {},
   "outputs": [],
   "source": [
    "# Static data styles: \n",
    "\n",
    "# Empty ditionary \n",
    "names = {}\n",
    "\n",
    "# A dictionary with players start at zero score \n",
    "two_names = {'player1': 0, 'player2': 0}\n",
    "\n",
    "# This is the same as above \n",
    "two_name = dict(player1 = 0, player2 = 0)"
   ]
  },
  {
   "cell_type": "markdown",
   "metadata": {},
   "source": [
    "### Creating a dynamic dictionary\n",
    "If you have dynamic data, this requires something else to build them:"
   ]
  },
  {
   "cell_type": "code",
   "execution_count": 10,
   "metadata": {},
   "outputs": [
    {
     "ename": "TypeError",
     "evalue": "'NoneType' object is not iterable",
     "output_type": "error",
     "traceback": [
      "\u001b[0;31m---------------------------------------------------------------------------\u001b[0m",
      "\u001b[0;31mTypeError\u001b[0m                                 Traceback (most recent call last)",
      "\u001b[0;32m<ipython-input-10-6de3ff499110>\u001b[0m in \u001b[0;36m<module>\u001b[0;34m\u001b[0m\n\u001b[1;32m      6\u001b[0m \u001b[0mscores\u001b[0m \u001b[0;34m=\u001b[0m \u001b[0;34m{\u001b[0m\u001b[0;34m}\u001b[0m\u001b[0;34m\u001b[0m\u001b[0;34m\u001b[0m\u001b[0m\n\u001b[1;32m      7\u001b[0m \u001b[0;34m\u001b[0m\u001b[0m\n\u001b[0;32m----> 8\u001b[0;31m \u001b[0;32mfor\u001b[0m \u001b[0mn\u001b[0m \u001b[0;32min\u001b[0m \u001b[0mnames\u001b[0m\u001b[0;34m:\u001b[0m\u001b[0;34m\u001b[0m\u001b[0;34m\u001b[0m\u001b[0m\n\u001b[0m\u001b[1;32m      9\u001b[0m     \u001b[0mscores\u001b[0m\u001b[0;34m[\u001b[0m\u001b[0mn\u001b[0m\u001b[0;34m]\u001b[0m \u001b[0;34m=\u001b[0m \u001b[0;36m0\u001b[0m\u001b[0;34m\u001b[0m\u001b[0;34m\u001b[0m\u001b[0m\n\u001b[1;32m     10\u001b[0m \u001b[0;34m\u001b[0m\u001b[0m\n",
      "\u001b[0;31mTypeError\u001b[0m: 'NoneType' object is not iterable"
     ]
    }
   ],
   "source": [
    "def get_list_of_names(): \n",
    "    pass\n",
    "\n",
    "\n",
    "names = get_list_of_names()\n",
    "scores = {}\n",
    "\n",
    "for n in names: \n",
    "    scores[n] = 0\n",
    "    \n",
    "# We can condense this using a dictionary comprehension, same as above: \n",
    "names = get_list_of_names()\n",
    "scores = {n: 0 for n in names}"
   ]
  },
  {
   "cell_type": "markdown",
   "metadata": {},
   "source": [
    "### Reading values from a dictionary\n",
    "```\n",
    "# Access a *known* value in the dictionary:\n",
    "p1_score = scores['player1']\n",
    "\n",
    "# Access a score, unsure whether player1 is a key, if it isn't there, return 0.\n",
    "p1_score = scores.get('player1', 0)\n",
    "```"
   ]
  },
  {
   "cell_type": "code",
   "execution_count": 19,
   "metadata": {},
   "outputs": [],
   "source": [
    "# d = create d using core concepts about dictionary. \n",
    "d = {'Sam': 7, 'rolls': ['rock', 'paper', 'scissors'], 'done': True}"
   ]
  },
  {
   "cell_type": "code",
   "execution_count": 12,
   "metadata": {},
   "outputs": [
    {
     "name": "stdout",
     "output_type": "stream",
     "text": [
      "7\n"
     ]
    }
   ],
   "source": [
    "print(d['Sam'])"
   ]
  },
  {
   "cell_type": "code",
   "execution_count": 13,
   "metadata": {},
   "outputs": [
    {
     "name": "stdout",
     "output_type": "stream",
     "text": [
      "['rock', 'paper', 'scissors']\n"
     ]
    }
   ],
   "source": [
    "print(d['rolls'])"
   ]
  },
  {
   "cell_type": "code",
   "execution_count": 14,
   "metadata": {},
   "outputs": [
    {
     "name": "stdout",
     "output_type": "stream",
     "text": [
      "None\n"
     ]
    }
   ],
   "source": [
    "print(d.get('Sarah'))"
   ]
  },
  {
   "cell_type": "code",
   "execution_count": 15,
   "metadata": {},
   "outputs": [
    {
     "name": "stdout",
     "output_type": "stream",
     "text": [
      "-1\n"
     ]
    }
   ],
   "source": [
    "print(d.get('Jeff', -1))"
   ]
  },
  {
   "cell_type": "code",
   "execution_count": 20,
   "metadata": {},
   "outputs": [
    {
     "name": "stdout",
     "output_type": "stream",
     "text": [
      "True\n"
     ]
    }
   ],
   "source": [
    "print(d['done'])"
   ]
  },
  {
   "cell_type": "markdown",
   "metadata": {},
   "source": [
    "# Practice Exercises for problem solving\n",
    "### Michael's problem solving techniques\n",
    "Here are a few of the ideas I use to get traction while solving a problem\n",
    "\n",
    "Divide and conquer.\n",
    "Have I seen a similar problem before?\n",
    "Visualize the data ([pythontutor.com](http://pythontutor.com/), debugger, `print()`, etc)\n",
    "Run through the data structures (will a well known data structure help this problem?).\n",
    "Is there a `PyPI` package that solves this? Also check [awesome-python](https://awesome-python.com/).\n",
    "Remember this is part of the journey.\n",
    "Just start, you can adjust as you go and learn more."
   ]
  },
  {
   "cell_type": "markdown",
   "metadata": {},
   "source": [
    "# Practice Exercises for file I/O\n",
    "### Determining the full path to a file\n",
    "Remember that the file location when loading files like `the_file.txt` depend on the working directory, which your program probably doesn't control. So we need to use the `os` module to work from known locations."
   ]
  },
  {
   "cell_type": "code",
   "execution_count": 21,
   "metadata": {},
   "outputs": [
    {
     "ename": "NameError",
     "evalue": "name '__file__' is not defined",
     "output_type": "error",
     "traceback": [
      "\u001b[0;31m---------------------------------------------------------------------------\u001b[0m",
      "\u001b[0;31mNameError\u001b[0m                                 Traceback (most recent call last)",
      "\u001b[0;32m<ipython-input-21-4bcf1bc1d236>\u001b[0m in \u001b[0;36m<module>\u001b[0;34m\u001b[0m\n\u001b[1;32m      1\u001b[0m \u001b[0;32mimport\u001b[0m \u001b[0mos\u001b[0m\u001b[0;34m\u001b[0m\u001b[0;34m\u001b[0m\u001b[0m\n\u001b[0;32m----> 2\u001b[0;31m \u001b[0mdirectory\u001b[0m \u001b[0;34m=\u001b[0m \u001b[0mos\u001b[0m\u001b[0;34m.\u001b[0m\u001b[0mpath\u001b[0m\u001b[0;34m.\u001b[0m\u001b[0mdirname\u001b[0m\u001b[0;34m(\u001b[0m\u001b[0m__file__\u001b[0m\u001b[0;34m)\u001b[0m\u001b[0;34m\u001b[0m\u001b[0;34m\u001b[0m\u001b[0m\n\u001b[0m\u001b[1;32m      3\u001b[0m \u001b[0mfilename\u001b[0m \u001b[0;34m=\u001b[0m \u001b[0mos\u001b[0m\u001b[0;34m.\u001b[0m\u001b[0mpath\u001b[0m\u001b[0;34m.\u001b[0m\u001b[0mjoin\u001b[0m\u001b[0;34m(\u001b[0m\u001b[0mdirectory\u001b[0m\u001b[0;34m,\u001b[0m \u001b[0;34m'the_file.txt'\u001b[0m\u001b[0;34m)\u001b[0m\u001b[0;34m\u001b[0m\u001b[0;34m\u001b[0m\u001b[0m\n\u001b[1;32m      4\u001b[0m \u001b[0;31m# Now filename is a full path\u001b[0m\u001b[0;34m\u001b[0m\u001b[0;34m\u001b[0m\u001b[0;34m\u001b[0m\u001b[0m\n",
      "\u001b[0;31mNameError\u001b[0m: name '__file__' is not defined"
     ]
    }
   ],
   "source": [
    "import os \n",
    "directory = os.path.dirname(__file__)\n",
    "filename = os.path.join(directory, 'the_file.txt')\n",
    "# Now filename is a full path "
   ]
  },
  {
   "cell_type": "markdown",
   "metadata": {},
   "source": [
    "### Opening a file for reading\n",
    "To open a file we use, well, the `open()` function. But as we saw, we should do this within a `with` block to ensure it's closed and flushed in a timely manner. Note the r passed to open for read.\n",
    "\n",
    "```\n",
    "with open(filename, 'r', encoding='utf-8') as fin:\n",
    "    # work with fin here\n",
    "    \n",
    "# fin is closed and useless at this point.\n",
    "```"
   ]
  },
  {
   "cell_type": "markdown",
   "metadata": {},
   "source": [
    "### Writing to a file\n",
    "Writing to a file is similar to reading, it's just about how you open it. Note the w for write and fout to tell us that it's an output not input file stream.\n",
    "\n",
    "```\n",
    "with open(filename, 'w', encoding='utf-8') as fout:\n",
    "    # work with four here \n",
    "```"
   ]
  },
  {
   "cell_type": "markdown",
   "metadata": {},
   "source": [
    "### Using json module with file streams\n",
    "Given a file stream, json can read or write objects to/from the json file format."
   ]
  },
  {
   "cell_type": "code",
   "execution_count": 24,
   "metadata": {},
   "outputs": [
    {
     "ename": "NameError",
     "evalue": "name 'fin' is not defined",
     "output_type": "error",
     "traceback": [
      "\u001b[0;31m---------------------------------------------------------------------------\u001b[0m",
      "\u001b[0;31mNameError\u001b[0m                                 Traceback (most recent call last)",
      "\u001b[0;32m<ipython-input-24-fb8535ae01a0>\u001b[0m in \u001b[0;36m<module>\u001b[0;34m\u001b[0m\n\u001b[1;32m      2\u001b[0m \u001b[0;34m\u001b[0m\u001b[0m\n\u001b[1;32m      3\u001b[0m \u001b[0;31m# load the rolls from fin input stream\u001b[0m\u001b[0;34m\u001b[0m\u001b[0;34m\u001b[0m\u001b[0;34m\u001b[0m\u001b[0m\n\u001b[0;32m----> 4\u001b[0;31m \u001b[0mrolls\u001b[0m \u001b[0;34m=\u001b[0m \u001b[0mjson\u001b[0m\u001b[0;34m.\u001b[0m\u001b[0mload\u001b[0m\u001b[0;34m(\u001b[0m\u001b[0mfin\u001b[0m\u001b[0;34m)\u001b[0m\u001b[0;34m\u001b[0m\u001b[0;34m\u001b[0m\u001b[0m\n\u001b[0m\u001b[1;32m      5\u001b[0m \u001b[0;34m\u001b[0m\u001b[0m\n\u001b[1;32m      6\u001b[0m \u001b[0;31m# save the leader dictionary to the fout file stream\u001b[0m\u001b[0;34m\u001b[0m\u001b[0;34m\u001b[0m\u001b[0;34m\u001b[0m\u001b[0m\n",
      "\u001b[0;31mNameError\u001b[0m: name 'fin' is not defined"
     ]
    }
   ],
   "source": [
    "import json \n",
    "\n",
    "# load the rolls from fin input stream \n",
    "rolls = json.load(fin)\n",
    "\n",
    "# save the leader dictionary to the fout file stream \n",
    "json.dump(leaders, fout)"
   ]
  },
  {
   "cell_type": "markdown",
   "metadata": {},
   "source": [
    "* Add a leader board (feel free to use JSON like we did).\n",
    "* Add a running log file (test with `tail -n 20 -f FILENAME` on macOS and Linux, just open in PyCharm on Windows and it'll change).\n",
    "* For extra credit, you can try to use LogBook to improve the logging (but it will require a few concepts we haven't covered yet)."
   ]
  },
  {
   "cell_type": "markdown",
   "metadata": {},
   "source": [
    "# Practice Exercises for error handling\n",
    "### try / except\n",
    "When handling errors, we can check for bad values (e.g. `None` where a proper string was expected). But Python's native error handling approach is exception-based: throwing and catching exceptions.\n",
    "\n",
    "Below is the minimum code to catch an error in Python."
   ]
  },
  {
   "cell_type": "code",
   "execution_count": 27,
   "metadata": {},
   "outputs": [
    {
     "ename": "NameError",
     "evalue": "name 'do_risky_thing1' is not defined",
     "output_type": "error",
     "traceback": [
      "\u001b[0;31m---------------------------------------------------------------------------\u001b[0m",
      "\u001b[0;31mNameError\u001b[0m                                 Traceback (most recent call last)",
      "\u001b[0;32m<ipython-input-27-8b9cdccabb5b>\u001b[0m in \u001b[0;36m<module>\u001b[0;34m\u001b[0m\n\u001b[1;32m      1\u001b[0m \u001b[0;32mtry\u001b[0m\u001b[0;34m:\u001b[0m\u001b[0;34m\u001b[0m\u001b[0;34m\u001b[0m\u001b[0m\n\u001b[0;32m----> 2\u001b[0;31m     \u001b[0mdo_risky_thing1\u001b[0m\u001b[0;34m(\u001b[0m\u001b[0;34m)\u001b[0m\u001b[0;34m\u001b[0m\u001b[0;34m\u001b[0m\u001b[0m\n\u001b[0m\u001b[1;32m      3\u001b[0m     \u001b[0mdo_risky_thing2\u001b[0m\u001b[0;34m(\u001b[0m\u001b[0;34m)\u001b[0m\u001b[0;34m\u001b[0m\u001b[0;34m\u001b[0m\u001b[0m\n\u001b[1;32m      4\u001b[0m     \u001b[0mdo_risky_thing3\u001b[0m\u001b[0;34m(\u001b[0m\u001b[0;34m)\u001b[0m\u001b[0;34m\u001b[0m\u001b[0;34m\u001b[0m\u001b[0m\n\u001b[1;32m      5\u001b[0m \u001b[0;32mexcept\u001b[0m \u001b[0mException\u001b[0m \u001b[0;32mas\u001b[0m \u001b[0mx\u001b[0m\u001b[0;34m:\u001b[0m\u001b[0;34m\u001b[0m\u001b[0;34m\u001b[0m\u001b[0m\n",
      "\u001b[0;31mNameError\u001b[0m: name 'do_risky_thing1' is not defined"
     ]
    }
   ],
   "source": [
    "try: \n",
    "    do_risky_thing1()\n",
    "    do_risky_thing2()\n",
    "    do_risky_thing3()\n",
    "except Exception as x:\n",
    "    raise\n",
    "    # Deal with error, use x for help on what happened."
   ]
  },
  {
   "cell_type": "markdown",
   "metadata": {},
   "source": [
    "### Multiple error types\n",
    "The example above is good to catch errors. But it catches them all (well, almost all of them), and it treats them all the same.\n",
    "\n",
    "Below is code needed to handle different errors as well as unforeseen errors.\n",
    "\n",
    "**Note**: It is important that the most specific errors are listed first and the most general the last (`Exception`). Python selects the first (not best) match."
   ]
  },
  {
   "cell_type": "code",
   "execution_count": 28,
   "metadata": {
    "scrolled": true
   },
   "outputs": [
    {
     "ename": "IndentationError",
     "evalue": "expected an indented block (<ipython-input-28-82bd8ad0d4aa>, line 7)",
     "output_type": "error",
     "traceback": [
      "\u001b[0;36m  File \u001b[0;32m\"<ipython-input-28-82bd8ad0d4aa>\"\u001b[0;36m, line \u001b[0;32m7\u001b[0m\n\u001b[0;31m    except FileNotFoundError as fe:\u001b[0m\n\u001b[0m         ^\u001b[0m\n\u001b[0;31mIndentationError\u001b[0m\u001b[0;31m:\u001b[0m expected an indented block\n"
     ]
    }
   ],
   "source": [
    "try:\n",
    "    do_risky_thing1()\n",
    "    do_risky_thing2()\n",
    "    do_risky_thing3()\n",
    "except json.decoder.JSONDecodeError:\n",
    "    # Handle malformed JSON error\n",
    "except FileNotFoundError as fe:\n",
    "    # Handle missing file error\n",
    "except ValueError:\n",
    "    # Handle conversion error.\n",
    "except Exception as x:\n",
    "    # Deal with error, use x for help on what happened."
   ]
  },
  {
   "cell_type": "code",
   "execution_count": 29,
   "metadata": {},
   "outputs": [],
   "source": [
    "def choose_location(board, symbol):\n",
    "    try:\n",
    "        row = int(input(\"Choose which row: \"))\n",
    "\n",
    "        row -= 1\n",
    "        if row < 0 or row >= len(board):\n",
    "            return False\n",
    "\n",
    "        column = int(input(\"Choose which column: \"))\n",
    "        column -= 1\n",
    "        if column < 0 or column >= len(board[0]):\n",
    "            return False\n",
    "\n",
    "        cell = board[row][column]\n",
    "        if cell is not None:\n",
    "            return False\n",
    "\n",
    "        board[row][column] = symbol\n",
    "        return True\n",
    "    except ValueError as ve:\n",
    "        print(f\"Error: Cannot convert input to a number.\")\n",
    "        return False\n",
    "    except Exception:\n",
    "        # Not sure what else happened here, but didn't work.\n",
    "        return False"
   ]
  }
 ],
 "metadata": {
  "kernelspec": {
   "display_name": "Python 3",
   "language": "python",
   "name": "python3"
  },
  "language_info": {
   "codemirror_mode": {
    "name": "ipython",
    "version": 3
   },
   "file_extension": ".py",
   "mimetype": "text/x-python",
   "name": "python",
   "nbconvert_exporter": "python",
   "pygments_lexer": "ipython3",
   "version": "3.7.6"
  }
 },
 "nbformat": 4,
 "nbformat_minor": 4
}
