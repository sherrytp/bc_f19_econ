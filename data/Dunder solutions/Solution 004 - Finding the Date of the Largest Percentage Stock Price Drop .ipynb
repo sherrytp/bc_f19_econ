{
 "cells": [
  {
   "cell_type": "markdown",
   "metadata": {},
   "source": [
    "# Dunder Data Challenge 004 - Finding the Date of the Largest Percentage Stock Price Drop \n",
    "\n",
    "In this challenge, you are given a table of closing stock prices for 10 different stocks with data going back as far as 1999. For each stock, find the date where it had its largest one-day percentage loss. The data is found in the `stocks10.csv` file with each stocks ticker symbol as a column name."
   ]
  },
  {
   "cell_type": "code",
   "execution_count": 1,
   "metadata": {
    "scrolled": true
   },
   "outputs": [
    {
     "data": {
      "text/html": [
       "<div>\n",
       "<style scoped>\n",
       "    .dataframe tbody tr th:only-of-type {\n",
       "        vertical-align: middle;\n",
       "    }\n",
       "\n",
       "    .dataframe tbody tr th {\n",
       "        vertical-align: top;\n",
       "    }\n",
       "\n",
       "    .dataframe thead th {\n",
       "        text-align: right;\n",
       "    }\n",
       "</style>\n",
       "<table border=\"1\" class=\"dataframe\">\n",
       "  <thead>\n",
       "    <tr style=\"text-align: right;\">\n",
       "      <th></th>\n",
       "      <th>date</th>\n",
       "      <th>MSFT</th>\n",
       "      <th>AAPL</th>\n",
       "      <th>SLB</th>\n",
       "      <th>AMZN</th>\n",
       "      <th>TSLA</th>\n",
       "      <th>XOM</th>\n",
       "      <th>WMT</th>\n",
       "      <th>T</th>\n",
       "      <th>FB</th>\n",
       "      <th>V</th>\n",
       "    </tr>\n",
       "  </thead>\n",
       "  <tbody>\n",
       "    <tr>\n",
       "      <th>0</th>\n",
       "      <td>1999-10-25</td>\n",
       "      <td>29.84</td>\n",
       "      <td>2.32</td>\n",
       "      <td>17.02</td>\n",
       "      <td>82.75</td>\n",
       "      <td>NaN</td>\n",
       "      <td>21.45</td>\n",
       "      <td>38.99</td>\n",
       "      <td>16.78</td>\n",
       "      <td>NaN</td>\n",
       "      <td>NaN</td>\n",
       "    </tr>\n",
       "    <tr>\n",
       "      <th>1</th>\n",
       "      <td>1999-10-26</td>\n",
       "      <td>29.82</td>\n",
       "      <td>2.34</td>\n",
       "      <td>16.65</td>\n",
       "      <td>81.25</td>\n",
       "      <td>NaN</td>\n",
       "      <td>20.89</td>\n",
       "      <td>37.11</td>\n",
       "      <td>17.28</td>\n",
       "      <td>NaN</td>\n",
       "      <td>NaN</td>\n",
       "    </tr>\n",
       "    <tr>\n",
       "      <th>2</th>\n",
       "      <td>1999-10-27</td>\n",
       "      <td>29.33</td>\n",
       "      <td>2.38</td>\n",
       "      <td>16.52</td>\n",
       "      <td>75.94</td>\n",
       "      <td>NaN</td>\n",
       "      <td>20.80</td>\n",
       "      <td>36.94</td>\n",
       "      <td>18.27</td>\n",
       "      <td>NaN</td>\n",
       "      <td>NaN</td>\n",
       "    </tr>\n",
       "    <tr>\n",
       "      <th>3</th>\n",
       "      <td>1999-10-28</td>\n",
       "      <td>29.01</td>\n",
       "      <td>2.43</td>\n",
       "      <td>16.59</td>\n",
       "      <td>71.00</td>\n",
       "      <td>NaN</td>\n",
       "      <td>21.19</td>\n",
       "      <td>38.85</td>\n",
       "      <td>19.79</td>\n",
       "      <td>NaN</td>\n",
       "      <td>NaN</td>\n",
       "    </tr>\n",
       "    <tr>\n",
       "      <th>4</th>\n",
       "      <td>1999-10-29</td>\n",
       "      <td>29.88</td>\n",
       "      <td>2.50</td>\n",
       "      <td>17.21</td>\n",
       "      <td>70.62</td>\n",
       "      <td>NaN</td>\n",
       "      <td>21.47</td>\n",
       "      <td>39.25</td>\n",
       "      <td>20.00</td>\n",
       "      <td>NaN</td>\n",
       "      <td>NaN</td>\n",
       "    </tr>\n",
       "  </tbody>\n",
       "</table>\n",
       "</div>"
      ],
      "text/plain": [
       "         date   MSFT  AAPL    SLB   AMZN  TSLA    XOM    WMT      T  FB   V\n",
       "0  1999-10-25  29.84  2.32  17.02  82.75   NaN  21.45  38.99  16.78 NaN NaN\n",
       "1  1999-10-26  29.82  2.34  16.65  81.25   NaN  20.89  37.11  17.28 NaN NaN\n",
       "2  1999-10-27  29.33  2.38  16.52  75.94   NaN  20.80  36.94  18.27 NaN NaN\n",
       "3  1999-10-28  29.01  2.43  16.59  71.00   NaN  21.19  38.85  19.79 NaN NaN\n",
       "4  1999-10-29  29.88  2.50  17.21  70.62   NaN  21.47  39.25  20.00 NaN NaN"
      ]
     },
     "execution_count": 1,
     "metadata": {},
     "output_type": "execute_result"
    }
   ],
   "source": [
    "import pandas as pd\n",
    "stocks = pd.read_csv('../data/stocks10.csv')\n",
    "stocks.head()"
   ]
  },
  {
   "cell_type": "markdown",
   "metadata": {},
   "source": [
    "### Challenge\n",
    "\n",
    "There is a nice, fast solution that uses just a minimal amount of code without any loops. Can you return a Series that has the ticker symbols in the index and the date where the largest percentage price drop happened as the values.\n",
    "\n",
    "#### Extra challenge\n",
    "\n",
    "Can you return a DataFrame with the ticker symbol as the columns and a row for the date and another row for the percentage price drop?"
   ]
  },
  {
   "cell_type": "markdown",
   "metadata": {},
   "source": [
    "## Solution\n",
    "\n",
    "To begin, we need to find the percentage drop for each stock for each day. pandas has a built-in method for this called `pct_change`. By default, it finds the percentage change between the current value and the one immediately above it. Like most DataFrame methods, it treats each column independently from the others. \n",
    "\n",
    "If we call it on our current DataFrame, we'll get an error as it will not work on our date column. Let's re-read in the data, converting the date column to a datetime and place it in the index."
   ]
  },
  {
   "cell_type": "code",
   "execution_count": 2,
   "metadata": {},
   "outputs": [
    {
     "data": {
      "text/html": [
       "<div>\n",
       "<style scoped>\n",
       "    .dataframe tbody tr th:only-of-type {\n",
       "        vertical-align: middle;\n",
       "    }\n",
       "\n",
       "    .dataframe tbody tr th {\n",
       "        vertical-align: top;\n",
       "    }\n",
       "\n",
       "    .dataframe thead th {\n",
       "        text-align: right;\n",
       "    }\n",
       "</style>\n",
       "<table border=\"1\" class=\"dataframe\">\n",
       "  <thead>\n",
       "    <tr style=\"text-align: right;\">\n",
       "      <th></th>\n",
       "      <th>MSFT</th>\n",
       "      <th>AAPL</th>\n",
       "      <th>SLB</th>\n",
       "      <th>AMZN</th>\n",
       "      <th>TSLA</th>\n",
       "      <th>XOM</th>\n",
       "      <th>WMT</th>\n",
       "      <th>T</th>\n",
       "      <th>FB</th>\n",
       "      <th>V</th>\n",
       "    </tr>\n",
       "    <tr>\n",
       "      <th>date</th>\n",
       "      <th></th>\n",
       "      <th></th>\n",
       "      <th></th>\n",
       "      <th></th>\n",
       "      <th></th>\n",
       "      <th></th>\n",
       "      <th></th>\n",
       "      <th></th>\n",
       "      <th></th>\n",
       "      <th></th>\n",
       "    </tr>\n",
       "  </thead>\n",
       "  <tbody>\n",
       "    <tr>\n",
       "      <th>1999-10-25</th>\n",
       "      <td>29.84</td>\n",
       "      <td>2.32</td>\n",
       "      <td>17.02</td>\n",
       "      <td>82.75</td>\n",
       "      <td>NaN</td>\n",
       "      <td>21.45</td>\n",
       "      <td>38.99</td>\n",
       "      <td>16.78</td>\n",
       "      <td>NaN</td>\n",
       "      <td>NaN</td>\n",
       "    </tr>\n",
       "    <tr>\n",
       "      <th>1999-10-26</th>\n",
       "      <td>29.82</td>\n",
       "      <td>2.34</td>\n",
       "      <td>16.65</td>\n",
       "      <td>81.25</td>\n",
       "      <td>NaN</td>\n",
       "      <td>20.89</td>\n",
       "      <td>37.11</td>\n",
       "      <td>17.28</td>\n",
       "      <td>NaN</td>\n",
       "      <td>NaN</td>\n",
       "    </tr>\n",
       "    <tr>\n",
       "      <th>1999-10-27</th>\n",
       "      <td>29.33</td>\n",
       "      <td>2.38</td>\n",
       "      <td>16.52</td>\n",
       "      <td>75.94</td>\n",
       "      <td>NaN</td>\n",
       "      <td>20.80</td>\n",
       "      <td>36.94</td>\n",
       "      <td>18.27</td>\n",
       "      <td>NaN</td>\n",
       "      <td>NaN</td>\n",
       "    </tr>\n",
       "    <tr>\n",
       "      <th>1999-10-28</th>\n",
       "      <td>29.01</td>\n",
       "      <td>2.43</td>\n",
       "      <td>16.59</td>\n",
       "      <td>71.00</td>\n",
       "      <td>NaN</td>\n",
       "      <td>21.19</td>\n",
       "      <td>38.85</td>\n",
       "      <td>19.79</td>\n",
       "      <td>NaN</td>\n",
       "      <td>NaN</td>\n",
       "    </tr>\n",
       "    <tr>\n",
       "      <th>1999-10-29</th>\n",
       "      <td>29.88</td>\n",
       "      <td>2.50</td>\n",
       "      <td>17.21</td>\n",
       "      <td>70.62</td>\n",
       "      <td>NaN</td>\n",
       "      <td>21.47</td>\n",
       "      <td>39.25</td>\n",
       "      <td>20.00</td>\n",
       "      <td>NaN</td>\n",
       "      <td>NaN</td>\n",
       "    </tr>\n",
       "  </tbody>\n",
       "</table>\n",
       "</div>"
      ],
      "text/plain": [
       "             MSFT  AAPL    SLB   AMZN  TSLA    XOM    WMT      T  FB   V\n",
       "date                                                                    \n",
       "1999-10-25  29.84  2.32  17.02  82.75   NaN  21.45  38.99  16.78 NaN NaN\n",
       "1999-10-26  29.82  2.34  16.65  81.25   NaN  20.89  37.11  17.28 NaN NaN\n",
       "1999-10-27  29.33  2.38  16.52  75.94   NaN  20.80  36.94  18.27 NaN NaN\n",
       "1999-10-28  29.01  2.43  16.59  71.00   NaN  21.19  38.85  19.79 NaN NaN\n",
       "1999-10-29  29.88  2.50  17.21  70.62   NaN  21.47  39.25  20.00 NaN NaN"
      ]
     },
     "execution_count": 2,
     "metadata": {},
     "output_type": "execute_result"
    }
   ],
   "source": [
    "stocks = pd.read_csv('../data/stocks10.csv', parse_dates=['date'], index_col='date')\n",
    "stocks.head()"
   ]
  },
  {
   "cell_type": "markdown",
   "metadata": {},
   "source": [
    "Placing the date column in the index is a key part of this challenge that makes our solution quite a bit nicer. Let's now call the `pct_change` method to get the percentage change for each trading day."
   ]
  },
  {
   "cell_type": "code",
   "execution_count": 3,
   "metadata": {},
   "outputs": [
    {
     "data": {
      "text/html": [
       "<div>\n",
       "<style scoped>\n",
       "    .dataframe tbody tr th:only-of-type {\n",
       "        vertical-align: middle;\n",
       "    }\n",
       "\n",
       "    .dataframe tbody tr th {\n",
       "        vertical-align: top;\n",
       "    }\n",
       "\n",
       "    .dataframe thead th {\n",
       "        text-align: right;\n",
       "    }\n",
       "</style>\n",
       "<table border=\"1\" class=\"dataframe\">\n",
       "  <thead>\n",
       "    <tr style=\"text-align: right;\">\n",
       "      <th></th>\n",
       "      <th>MSFT</th>\n",
       "      <th>AAPL</th>\n",
       "      <th>SLB</th>\n",
       "      <th>AMZN</th>\n",
       "      <th>TSLA</th>\n",
       "      <th>XOM</th>\n",
       "      <th>WMT</th>\n",
       "      <th>T</th>\n",
       "      <th>FB</th>\n",
       "      <th>V</th>\n",
       "    </tr>\n",
       "    <tr>\n",
       "      <th>date</th>\n",
       "      <th></th>\n",
       "      <th></th>\n",
       "      <th></th>\n",
       "      <th></th>\n",
       "      <th></th>\n",
       "      <th></th>\n",
       "      <th></th>\n",
       "      <th></th>\n",
       "      <th></th>\n",
       "      <th></th>\n",
       "    </tr>\n",
       "  </thead>\n",
       "  <tbody>\n",
       "    <tr>\n",
       "      <th>1999-10-25</th>\n",
       "      <td>NaN</td>\n",
       "      <td>NaN</td>\n",
       "      <td>NaN</td>\n",
       "      <td>NaN</td>\n",
       "      <td>NaN</td>\n",
       "      <td>NaN</td>\n",
       "      <td>NaN</td>\n",
       "      <td>NaN</td>\n",
       "      <td>NaN</td>\n",
       "      <td>NaN</td>\n",
       "    </tr>\n",
       "    <tr>\n",
       "      <th>1999-10-26</th>\n",
       "      <td>-0.000670</td>\n",
       "      <td>0.008621</td>\n",
       "      <td>-0.021739</td>\n",
       "      <td>-0.018127</td>\n",
       "      <td>NaN</td>\n",
       "      <td>-0.026107</td>\n",
       "      <td>-0.048217</td>\n",
       "      <td>0.029797</td>\n",
       "      <td>NaN</td>\n",
       "      <td>NaN</td>\n",
       "    </tr>\n",
       "    <tr>\n",
       "      <th>1999-10-27</th>\n",
       "      <td>-0.016432</td>\n",
       "      <td>0.017094</td>\n",
       "      <td>-0.007808</td>\n",
       "      <td>-0.065354</td>\n",
       "      <td>NaN</td>\n",
       "      <td>-0.004308</td>\n",
       "      <td>-0.004581</td>\n",
       "      <td>0.057292</td>\n",
       "      <td>NaN</td>\n",
       "      <td>NaN</td>\n",
       "    </tr>\n",
       "    <tr>\n",
       "      <th>1999-10-28</th>\n",
       "      <td>-0.010910</td>\n",
       "      <td>0.021008</td>\n",
       "      <td>0.004237</td>\n",
       "      <td>-0.065051</td>\n",
       "      <td>NaN</td>\n",
       "      <td>0.018750</td>\n",
       "      <td>0.051705</td>\n",
       "      <td>0.083196</td>\n",
       "      <td>NaN</td>\n",
       "      <td>NaN</td>\n",
       "    </tr>\n",
       "    <tr>\n",
       "      <th>1999-10-29</th>\n",
       "      <td>0.029990</td>\n",
       "      <td>0.028807</td>\n",
       "      <td>0.037372</td>\n",
       "      <td>-0.005352</td>\n",
       "      <td>NaN</td>\n",
       "      <td>0.013214</td>\n",
       "      <td>0.010296</td>\n",
       "      <td>0.010611</td>\n",
       "      <td>NaN</td>\n",
       "      <td>NaN</td>\n",
       "    </tr>\n",
       "  </tbody>\n",
       "</table>\n",
       "</div>"
      ],
      "text/plain": [
       "                MSFT      AAPL       SLB      AMZN  TSLA       XOM       WMT  \\\n",
       "date                                                                           \n",
       "1999-10-25       NaN       NaN       NaN       NaN   NaN       NaN       NaN   \n",
       "1999-10-26 -0.000670  0.008621 -0.021739 -0.018127   NaN -0.026107 -0.048217   \n",
       "1999-10-27 -0.016432  0.017094 -0.007808 -0.065354   NaN -0.004308 -0.004581   \n",
       "1999-10-28 -0.010910  0.021008  0.004237 -0.065051   NaN  0.018750  0.051705   \n",
       "1999-10-29  0.029990  0.028807  0.037372 -0.005352   NaN  0.013214  0.010296   \n",
       "\n",
       "                   T  FB   V  \n",
       "date                          \n",
       "1999-10-25       NaN NaN NaN  \n",
       "1999-10-26  0.029797 NaN NaN  \n",
       "1999-10-27  0.057292 NaN NaN  \n",
       "1999-10-28  0.083196 NaN NaN  \n",
       "1999-10-29  0.010611 NaN NaN  "
      ]
     },
     "execution_count": 3,
     "metadata": {},
     "output_type": "execute_result"
    }
   ],
   "source": [
    "stocks.pct_change().head()"
   ]
  },
  {
   "cell_type": "markdown",
   "metadata": {},
   "source": [
    "Let's verify that one of the calculated values is what we desire. MSFT dropped 2 cents from 29.84 to 29.82 on its second trading day in this dataset. The percentage calculated below equals the percentage calculated in the method above."
   ]
  },
  {
   "cell_type": "code",
   "execution_count": 4,
   "metadata": {},
   "outputs": [
    {
     "data": {
      "text/plain": [
       "-0.0006706908115358676"
      ]
     },
     "execution_count": 4,
     "metadata": {},
     "output_type": "execute_result"
    }
   ],
   "source": [
    "(29.82 - 29.84) / 29.82"
   ]
  },
  {
   "cell_type": "markdown",
   "metadata": {},
   "source": [
    "Most pandas users know how to get the maximum and minimum value of each column with the methods `max`/`min`. Let's find the largest drop by calling the `min` method."
   ]
  },
  {
   "cell_type": "code",
   "execution_count": 5,
   "metadata": {},
   "outputs": [
    {
     "data": {
      "text/plain": [
       "MSFT   -0.156201\n",
       "AAPL   -0.517964\n",
       "SLB    -0.184057\n",
       "AMZN   -0.247661\n",
       "TSLA   -0.193274\n",
       "XOM    -0.139395\n",
       "WMT    -0.101816\n",
       "T      -0.126392\n",
       "FB     -0.189609\n",
       "V      -0.136295\n",
       "dtype: float64"
      ]
     },
     "execution_count": 5,
     "metadata": {},
     "output_type": "execute_result"
    }
   ],
   "source": [
    "stocks.pct_change().min()"
   ]
  },
  {
   "cell_type": "markdown",
   "metadata": {},
   "source": [
    "For the first part of this challenge, we aren't interested in the value of the largest percentage one-day drop, but the date that it happened. Since the date is in the index, we can use the lesser-known method called `idxmin` which returns the index of the minimum. An analogous `idxmax` method also exists."
   ]
  },
  {
   "cell_type": "code",
   "execution_count": 6,
   "metadata": {},
   "outputs": [
    {
     "data": {
      "text/plain": [
       "MSFT   2000-04-24\n",
       "AAPL   2000-09-29\n",
       "SLB    2008-10-15\n",
       "AMZN   2001-07-24\n",
       "TSLA   2012-01-13\n",
       "XOM    2008-10-15\n",
       "WMT    2018-02-20\n",
       "T      2000-12-19\n",
       "FB     2018-07-26\n",
       "V      2008-10-15\n",
       "dtype: datetime64[ns]"
      ]
     },
     "execution_count": 6,
     "metadata": {},
     "output_type": "execute_result"
    }
   ],
   "source": [
    "stocks.pct_change().idxmin()"
   ]
  },
  {
   "cell_type": "markdown",
   "metadata": {},
   "source": [
    "In general mathematical speak, this calculation is known as the [arg min or arg max][1].\n",
    "\n",
    "[1]: https://en.m.wikipedia.org/wiki/Arg_max"
   ]
  },
  {
   "cell_type": "markdown",
   "metadata": {},
   "source": [
    "### Extra challenge\n",
    "\n",
    "Knowing the date of the largest drop is great, but it doesn't tell us what the value of the drop was. We need to return both the minimum and the date of that minimum. This is possible with help from the `agg` method which allows us to return any number of aggregations from our DataFrame. \n",
    "\n",
    "An aggregation is any function that returns a single value. Both `min` and `idxmin` return a single value and therefore are considered aggregations. The `agg` method works by accepting a list of aggregating functions where the functions are written as strings."
   ]
  },
  {
   "cell_type": "code",
   "execution_count": 7,
   "metadata": {},
   "outputs": [
    {
     "data": {
      "text/html": [
       "<div>\n",
       "<style scoped>\n",
       "    .dataframe tbody tr th:only-of-type {\n",
       "        vertical-align: middle;\n",
       "    }\n",
       "\n",
       "    .dataframe tbody tr th {\n",
       "        vertical-align: top;\n",
       "    }\n",
       "\n",
       "    .dataframe thead th {\n",
       "        text-align: right;\n",
       "    }\n",
       "</style>\n",
       "<table border=\"1\" class=\"dataframe\">\n",
       "  <thead>\n",
       "    <tr style=\"text-align: right;\">\n",
       "      <th></th>\n",
       "      <th>MSFT</th>\n",
       "      <th>AAPL</th>\n",
       "      <th>SLB</th>\n",
       "      <th>AMZN</th>\n",
       "      <th>TSLA</th>\n",
       "      <th>XOM</th>\n",
       "      <th>WMT</th>\n",
       "      <th>T</th>\n",
       "      <th>FB</th>\n",
       "      <th>V</th>\n",
       "    </tr>\n",
       "  </thead>\n",
       "  <tbody>\n",
       "    <tr>\n",
       "      <th>idxmin</th>\n",
       "      <td>2000-04-24 00:00:00</td>\n",
       "      <td>2000-09-29 00:00:00</td>\n",
       "      <td>2008-10-15 00:00:00</td>\n",
       "      <td>2001-07-24 00:00:00</td>\n",
       "      <td>2012-01-13 00:00:00</td>\n",
       "      <td>2008-10-15 00:00:00</td>\n",
       "      <td>2018-02-20 00:00:00</td>\n",
       "      <td>2000-12-19 00:00:00</td>\n",
       "      <td>2018-07-26 00:00:00</td>\n",
       "      <td>2008-10-15 00:00:00</td>\n",
       "    </tr>\n",
       "    <tr>\n",
       "      <th>min</th>\n",
       "      <td>-0.156201</td>\n",
       "      <td>-0.517964</td>\n",
       "      <td>-0.184057</td>\n",
       "      <td>-0.247661</td>\n",
       "      <td>-0.193274</td>\n",
       "      <td>-0.139395</td>\n",
       "      <td>-0.101816</td>\n",
       "      <td>-0.126392</td>\n",
       "      <td>-0.189609</td>\n",
       "      <td>-0.136295</td>\n",
       "    </tr>\n",
       "  </tbody>\n",
       "</table>\n",
       "</div>"
      ],
      "text/plain": [
       "                       MSFT                 AAPL                  SLB  \\\n",
       "idxmin  2000-04-24 00:00:00  2000-09-29 00:00:00  2008-10-15 00:00:00   \n",
       "min               -0.156201            -0.517964            -0.184057   \n",
       "\n",
       "                       AMZN                 TSLA                  XOM  \\\n",
       "idxmin  2001-07-24 00:00:00  2012-01-13 00:00:00  2008-10-15 00:00:00   \n",
       "min               -0.247661            -0.193274            -0.139395   \n",
       "\n",
       "                        WMT                    T                   FB  \\\n",
       "idxmin  2018-02-20 00:00:00  2000-12-19 00:00:00  2018-07-26 00:00:00   \n",
       "min               -0.101816            -0.126392            -0.189609   \n",
       "\n",
       "                          V  \n",
       "idxmin  2008-10-15 00:00:00  \n",
       "min               -0.136295  "
      ]
     },
     "execution_count": 7,
     "metadata": {},
     "output_type": "execute_result"
    }
   ],
   "source": [
    "stocks.pct_change().agg(['idxmin', 'min'])"
   ]
  },
  {
   "cell_type": "markdown",
   "metadata": {},
   "source": [
    "# Become a pandas expert\n",
    "\n",
    "If you are looking to completely master the pandas library and become a trusted expert for doing data science work, check out my book [Master Data Analysis with Python][1]. It comes with over 300 exercises with detailed solutions covering the pandas library in-depth.\n",
    "\n",
    "[1]: https://www.dunderdata.com/master-data-analysis-with-python"
   ]
  }
 ],
 "metadata": {
  "kernelspec": {
   "display_name": "Python 3",
   "language": "python",
   "name": "python3"
  },
  "language_info": {
   "codemirror_mode": {
    "name": "ipython",
    "version": 3
   },
   "file_extension": ".py",
   "mimetype": "text/x-python",
   "name": "python",
   "nbconvert_exporter": "python",
   "pygments_lexer": "ipython3",
   "version": "3.7.3"
  }
 },
 "nbformat": 4,
 "nbformat_minor": 2
}
